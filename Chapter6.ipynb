{
 "cells": [
  {
   "cell_type": "markdown",
   "id": "26e0d51a",
   "metadata": {},
   "source": [
    "# Chapter 6 - Organisation Matching"
   ]
  },
  {
   "cell_type": "code",
   "execution_count": 11,
   "id": "fed13bcb",
   "metadata": {},
   "outputs": [],
   "source": [
    "import requests\n",
    "import json\n",
    "import zipfile\n",
    "import io\n",
    "import pandas as pd\n",
    "import numpy as np\n",
    "from bs4 import BeautifulSoup"
   ]
  },
  {
   "cell_type": "markdown",
   "id": "b6d91da1",
   "metadata": {},
   "source": [
    "## Step 1 - Data Acquisition"
   ]
  },
  {
   "cell_type": "markdown",
   "id": "13a5f972",
   "metadata": {},
   "source": [
    "### Companies House Basic Data"
   ]
  },
  {
   "cell_type": "code",
   "execution_count": null,
   "id": "8e52d184",
   "metadata": {},
   "outputs": [],
   "source": [
    "# UK Companies House Basic Company Data download page\n",
    "\n",
    "url=\"http://download.companieshouse.gov.uk/en_output.html\""
   ]
  },
  {
   "cell_type": "code",
   "execution_count": null,
   "id": "641bdd9f",
   "metadata": {},
   "outputs": [],
   "source": [
    "# Download snapshots, convert json to dataframe, remove unwanted columns and append to a single dataframe\n",
    "\n",
    "df_ct = pd.DataFrame()\n",
    "with requests.Session() as req:\n",
    "        r = req.get(url)\n",
    "        soup = BeautifulSoup(r.content, 'html.parser')\n",
    "        snapshots = [f\"{url[:38]}{item['href']}\" for item in soup.select(\n",
    "            \"a[href*='BasicCompanyData-']\")]\n",
    "        for snapshot in snapshots:    \n",
    "            response = requests.get(snapshot).content     \n",
    "            zipsnapshot = zipfile.ZipFile(io.BytesIO(response))\n",
    "            tempfile = zipsnapshot.extract(zipsnapshot.namelist()[0])\n",
    "            print(zipsnapshot.namelist()[0])\n",
    "            df_c = pd.read_csv(tempfile, dtype='unicode')\n",
    "            df_c = df_c[['RegAddress.PostCode','CompanyName']]\n",
    "            df_ct = pd.concat([df_ct, df_c], ignore_index=True)"
   ]
  },
  {
   "cell_type": "markdown",
   "id": "8e62f50f",
   "metadata": {},
   "source": [
    "### Maritime and Coastguard Agency"
   ]
  },
  {
   "cell_type": "code",
   "execution_count": null,
   "id": "a653531b",
   "metadata": {},
   "outputs": [],
   "source": [
    "# Maritime and Coastguard Agency - List of approved recruitment and placement agencies\n",
    "\n",
    "url = \"https://www.gov.uk/government/publications/recruitment-and-placement-agencies-approved-by-the-mca\""
   ]
  },
  {
   "cell_type": "code",
   "execution_count": null,
   "id": "b2b05278",
   "metadata": {},
   "outputs": [],
   "source": [
    "# Download the csv file, extract name and drop erroroneous last row with all nulls\n",
    "\n",
    "with requests.Session() as req:\n",
    "    r = req.get(url)\n",
    "    soup = BeautifulSoup(r.content, 'html.parser')\n",
    "    targets = [f\"{item['href']}\" for item in soup.select(\n",
    "        \"a[href$='.csv']\")]\n",
    "    for target in targets:\n",
    "        response = req.get(target)    \n",
    "        df_m = pd.read_csv(io.BytesIO(response.content))\n",
    "        df_m = df_m.dropna(how='all')"
   ]
  },
  {
   "cell_type": "markdown",
   "id": "8d329063",
   "metadata": {},
   "source": [
    "### Saving to Local Storage"
   ]
  },
  {
   "cell_type": "code",
   "execution_count": 2,
   "id": "df874281",
   "metadata": {},
   "outputs": [],
   "source": [
    "#df_ct.to_csv('basic_raw.csv', index=False)\n",
    "df_c = pd.read_csv('basic_raw.csv')\n",
    "\n",
    "#df_m.to_csv('mari_raw.csv', index=False)\n",
    "df_m = pd.read_csv('mari_raw.csv')"
   ]
  },
  {
   "cell_type": "markdown",
   "id": "e5631850",
   "metadata": {},
   "source": [
    "## Step 2 - Data Standardization"
   ]
  },
  {
   "cell_type": "code",
   "execution_count": 3,
   "id": "63115a0d",
   "metadata": {},
   "outputs": [],
   "source": [
    "#%pip install matplotlib"
   ]
  },
  {
   "cell_type": "code",
   "execution_count": 10,
   "id": "af91a39c",
   "metadata": {},
   "outputs": [
    {
     "data": {
      "image/png": "[encoded data removed]",
      "text/plain": [
       "<Figure size 640x480 with 1 Axes>"
      ]
     },
     "metadata": {},
     "output_type": "display_data"
    }
   ],
   "source": [
    "import matplotlib.pyplot as plt\n",
    "\n",
    "plt.hist(df_m.apply(lambda row: len(row['ADDRESS & CONTACT DETAILS'].split(',')), axis=1).tolist())\n",
    "plt.xlabel('Count of Address Elements')\n",
    "plt.ylabel('Frequency')\n",
    "plt.title('Distribution of Address Element Count')\n",
    "plt.show()"
   ]
  },
  {
   "cell_type": "markdown",
   "id": "b9810d97",
   "metadata": {},
   "source": [
    "### Companies House Basic Data"
   ]
  },
  {
   "cell_type": "code",
   "execution_count": null,
   "id": "25b0a91b",
   "metadata": {},
   "outputs": [],
   "source": [
    "# Function to remove stopwards from company names\n",
    "\n",
    "def strip_stopwords(raw_name):    \n",
    "    company_stopwords = { 'LIMITED', 'LTD', 'SERVICES', 'COMPANY', 'GROUP', 'PROPERTIES', 'CONSULTING', \n",
    "        'HOLDINGS', 'UK', 'TRADING', 'LTD.', 'PLC','LLP' }\n",
    "    return(' '.join([raw_name_part for raw_name_part in raw_name.split() if raw_name_part not in company_stopwords]))"
   ]
  },
  {
   "cell_type": "code",
   "execution_count": null,
   "id": "c3065d5d",
   "metadata": {},
   "outputs": [],
   "source": [
    "# Strip company name and rename postcode column\n",
    "\n",
    "df_c['CompanyName'] = df_c.apply(lambda row: strip_stopwords(row['CompanyName']), axis=1)\n",
    "df_c = df_c.rename(columns={\"RegAddress.PostCode\": \"Postcode\"})"
   ]
  },
  {
   "cell_type": "code",
   "execution_count": null,
   "id": "b5872d6a",
   "metadata": {},
   "outputs": [],
   "source": [
    "# Remove unnecessary columns and add index\n",
    "\n",
    "df_c = df_c[['Postcode','CompanyName']]\n",
    "df_c['unique_id'] = df_c.index"
   ]
  },
  {
   "cell_type": "markdown",
   "id": "39769f33",
   "metadata": {},
   "source": [
    "### Maritime and Coastguard Agency"
   ]
  },
  {
   "cell_type": "code",
   "execution_count": null,
   "id": "3b605c10",
   "metadata": {},
   "outputs": [],
   "source": [
    "# Function to extract postcode using regular expression\n",
    "\n",
    "import re\n",
    "def extract_postcode(address):\n",
    "    pattern = re.compile(r'([A-Z]{1,2}[0-9][A-Z0-9]? [0-9][ABD-HJLNP-UW-Z]{2})')\n",
    "    postcode = pattern.search(address)\n",
    "    if(postcode is not None):\n",
    "         return postcode.group()\n",
    "    else:\n",
    "         return None"
   ]
  },
  {
   "cell_type": "code",
   "execution_count": null,
   "id": "b0583087",
   "metadata": {},
   "outputs": [],
   "source": [
    "# Company name to uppercase\n",
    "\n",
    "df_m['CompanyName'] = df_m['COMPANY'].str.upper()"
   ]
  },
  {
   "cell_type": "code",
   "execution_count": null,
   "id": "11b351b9",
   "metadata": {},
   "outputs": [],
   "source": [
    "# Strip company name and extract postcode\n",
    "\n",
    "df_m['CompanyName'] = df_m.apply(lambda row: strip_stopwords(row['CompanyName']), axis=1)\n",
    "df_m['Postcode'] = df_m.apply(lambda row: extract_postcode(row['ADDRESS & CONTACT DETAILS']), axis=1)"
   ]
  },
  {
   "cell_type": "code",
   "execution_count": null,
   "id": "5e81408b",
   "metadata": {},
   "outputs": [],
   "source": [
    "# Remove unnecessary columns, drop rows with missing data and add index\n",
    "\n",
    "df_m = df_m[['Postcode','CompanyName']]\n",
    "df_m = df_m.dropna()\n",
    "df_m['unique_id'] = df_m.index\n",
    "\n",
    "len(df_m)"
   ]
  },
  {
   "cell_type": "markdown",
   "id": "64836253",
   "metadata": {},
   "source": [
    "### Saving to Local Storage"
   ]
  },
  {
   "cell_type": "code",
   "execution_count": 12,
   "id": "16f47da7",
   "metadata": {},
   "outputs": [
    {
     "data": {
      "text/plain": [
       "96"
      ]
     },
     "execution_count": 12,
     "metadata": {},
     "output_type": "execute_result"
    }
   ],
   "source": [
    "#df_c.to_csv('basic_clean.csv', index=False)\n",
    "df_c = pd.read_csv('basic_clean.csv')\n",
    "\n",
    "#df_m.to_csv('mari_clean.csv', index=False)\n",
    "df_m = pd.read_csv('mari_clean.csv')\n",
    "len(df_m)"
   ]
  },
  {
   "cell_type": "markdown",
   "id": "7b459699",
   "metadata": {},
   "source": [
    "# Step 3 - Record Blocking and Attribute Comparison"
   ]
  },
  {
   "cell_type": "code",
   "execution_count": 13,
   "id": "23af6b30",
   "metadata": {},
   "outputs": [],
   "source": [
    "import splink"
   ]
  },
  {
   "cell_type": "code",
   "execution_count": 14,
   "id": "9218066e",
   "metadata": {},
   "outputs": [],
   "source": [
    "# Predict only on exact company name or postcode match\n",
    "\n",
    "from splink.duckdb.linker import DuckDBLinker\n",
    "from splink.duckdb import comparison_library as cl\n",
    "settings = {\n",
    "    \"link_type\": \"link_only\",\n",
    "    \"blocking_rules_to_generate_predictions\": [\n",
    "        \"l.Postcode = r.Postcode\",\n",
    "        \"l.CompanyName = r.CompanyName\",\n",
    "    ],\n",
    "    \"comparisons\": [\n",
    "        cl.jaro_winkler_at_thresholds(\"CompanyName\",[0.9,0.8]),\n",
    "    ],\n",
    "    \"retain_intermediate_calculation_columns\" : True,\n",
    "    \"retain_matching_columns\" : True\n",
    "}\n",
    "linker = DuckDBLinker([df_m, df_c], settings, input_table_aliases=[\"_m\", \"_c\"])"
   ]
  },
  {
   "cell_type": "code",
   "execution_count": 15,
   "id": "db0a60af",
   "metadata": {},
   "outputs": [
    {
     "data": {
      "text/html": [
       "\n",
       "<style>\n",
       "  #altair-viz-15f00acd4ffa49b49cd7d9661479a118.vega-embed {\n",
       "    width: 100%;\n",
       "    display: flex;\n",
       "  }\n",
       "\n",
       "  #altair-viz-15f00acd4ffa49b49cd7d9661479a118.vega-embed details,\n",
       "  #altair-viz-15f00acd4ffa49b49cd7d9661479a118.vega-embed details summary {\n",
       "    position: relative;\n",
       "  }\n",
       "</style>\n",
       "<div id=\"altair-viz-15f00acd4ffa49b49cd7d9661479a118\"></div>\n",
       "<script type=\"text/javascript\">\n",
       "  var VEGA_DEBUG = (typeof VEGA_DEBUG == \"undefined\") ? {} : VEGA_DEBUG;\n",
       "  (function(spec, embedOpt){\n",
       "    let outputDiv = document.currentScript.previousElementSibling;\n",
       "    if (outputDiv.id !== \"altair-viz-15f00acd4ffa49b49cd7d9661479a118\") {\n",
       "      outputDiv = document.getElementById(\"altair-viz-15f00acd4ffa49b49cd7d9661479a118\");\n",
       "    }\n",
       "    const paths = {\n",
       "      \"vega\": \"https://cdn.jsdelivr.net/npm/vega@5?noext\",\n",
       "      \"vega-lib\": \"https://cdn.jsdelivr.net/npm/vega-lib?noext\",\n",
       "      \"vega-lite\": \"https://cdn.jsdelivr.net/npm/vega-lite@5.8.0?noext\",\n",
       "      \"vega-embed\": \"https://cdn.jsdelivr.net/npm/vega-embed@6?noext\",\n",
       "    };\n",
       "\n",
       "    function maybeLoadScript(lib, version) {\n",
       "      var key = `${lib.replace(\"-\", \"\")}_version`;\n",
       "      return (VEGA_DEBUG[key] == version) ?\n",
       "        Promise.resolve(paths[lib]) :\n",
       "        new Promise(function(resolve, reject) {\n",
       "          var s = document.createElement('script');\n",
       "          document.getElementsByTagName(\"head\")[0].appendChild(s);\n",
       "          s.async = true;\n",
       "          s.onload = () => {\n",
       "            VEGA_DEBUG[key] = version;\n",
       "            return resolve(paths[lib]);\n",
       "          };\n",
       "          s.onerror = () => reject(`Error loading script: ${paths[lib]}`);\n",
       "          s.src = paths[lib];\n",
       "        });\n",
       "    }\n",
       "\n",
       "    function showError(err) {\n",
       "      outputDiv.innerHTML = `<div class=\"error\" style=\"color:red;\">${err}</div>`;\n",
       "      throw err;\n",
       "    }\n",
       "\n",
       "    function displayChart(vegaEmbed) {\n",
       "      vegaEmbed(outputDiv, spec, embedOpt)\n",
       "        .catch(err => showError(`Javascript Error: ${err.message}<br>This usually means there's a typo in your chart specification. See the javascript console for the full traceback.`));\n",
       "    }\n",
       "\n",
       "    if(typeof define === \"function\" && define.amd) {\n",
       "      requirejs.config({paths});\n",
       "      require([\"vega-embed\"], displayChart, err => showError(`Error loading script: ${err.message}`));\n",
       "    } else {\n",
       "      maybeLoadScript(\"vega\", \"5\")\n",
       "        .then(() => maybeLoadScript(\"vega-lite\", \"5.8.0\"))\n",
       "        .then(() => maybeLoadScript(\"vega-embed\", \"6\"))\n",
       "        .catch(showError)\n",
       "        .then(() => displayChart(vegaEmbed));\n",
       "    }\n",
       "  })({\"config\": {\"view\": {\"continuousWidth\": 300, \"continuousHeight\": 300}}, \"data\": {\"name\": \"data-267ad8e4ae8701d684bb8e426272dfcd\"}, \"mark\": \"bar\", \"encoding\": {\"color\": {\"field\": \"rule\", \"legend\": null, \"scale\": {\"scheme\": \"category20c\"}}, \"order\": {\"field\": \"cumulative_rows\"}, \"tooltip\": [{\"field\": \"rule\", \"title\": \"SQL Condition\", \"type\": \"nominal\"}, {\"field\": \"row_count\", \"format\": \",\", \"title\": \"Comparisons Generated\", \"type\": \"quantitative\"}, {\"field\": \"cumulative_rows\", \"format\": \",\", \"title\": \"Cumulative Comparisons\", \"type\": \"quantitative\"}, {\"field\": \"cartesian\", \"format\": \",\", \"title\": \"Cartesian Product of Input Data\", \"type\": \"quantitative\"}, {\"field\": \"reduction_ratio\", \"title\": \"Reduction Ratio (cumulative rows/cartesian product)\", \"type\": \"nominal\"}], \"x\": {\"field\": \"start\", \"title\": \"Comparisons Generated by Rule(s)\", \"type\": \"quantitative\"}, \"x2\": {\"field\": \"cumulative_rows\"}, \"y\": {\"field\": \"rule\", \"sort\": [\"-x2\"], \"title\": \"SQL Blocking Rule\"}}, \"height\": {\"step\": 20}, \"title\": {\"text\": \"Count of Additional Comparisons Generated by Each Blocking Rule\", \"subtitle\": \"(Counts exclude comparisons already generated by previous rules)\"}, \"width\": 450, \"$schema\": \"https://vega.github.io/schema/vega-lite/v5.9.3.json\", \"datasets\": {\"data-267ad8e4ae8701d684bb8e426272dfcd\": [{\"row_count\": 161965, \"rule\": \"l.Postcode = r.Postcode\", \"cumulative_rows\": 161965, \"cartesian\": 514525152, \"reduction_ratio\": \"The rolling reduction ratio with your given blocking rule(s) is 0.999685. This represents the reduction in the total number of comparisons due to your rule(s).\", \"start\": 0}, {\"row_count\": 40, \"rule\": \"l.CompanyName = r.CompanyName\", \"cumulative_rows\": 162005, \"cartesian\": 514525152, \"reduction_ratio\": \"The rolling reduction ratio with your given blocking rule(s) is 0.999685. This represents the reduction in the total number of comparisons due to your rule(s).\", \"start\": 161965}]}}, {\"mode\": \"vega-lite\"});\n",
       "</script>"
      ],
      "text/plain": [
       "alt.Chart(...)"
      ]
     },
     "execution_count": 15,
     "metadata": {},
     "output_type": "execute_result"
    }
   ],
   "source": [
    "linker.cumulative_num_comparisons_from_blocking_rules_chart()"
   ]
  },
  {
   "cell_type": "code",
   "execution_count": 16,
   "id": "b2a68c5a",
   "metadata": {},
   "outputs": [
    {
     "name": "stderr",
     "output_type": "stream",
     "text": [
      "----- Estimating u probabilities using random sampling -----\n",
      "\n",
      "Estimated u probabilities using random sampling\n",
      "\n",
      "Your model is not yet fully trained. Missing estimates for:\n",
      "    - CompanyName (no m values are trained).\n"
     ]
    }
   ],
   "source": [
    "# Use 1 million targets rows to ensure u estimation\n",
    "\n",
    "linker.estimate_u_using_random_sampling(max_pairs=1e7)"
   ]
  },
  {
   "cell_type": "code",
   "execution_count": 17,
   "id": "8f30017d",
   "metadata": {},
   "outputs": [
    {
     "name": "stderr",
     "output_type": "stream",
     "text": [
      "\n",
      "----- Starting EM training session -----\n",
      "\n",
      "Estimating the m probabilities of the model by blocking on:\n",
      "l.Postcode = r.Postcode\n",
      "\n",
      "Parameter estimates will be made for the following comparison(s):\n",
      "    - CompanyName\n",
      "\n",
      "Parameter estimates cannot be made for the following comparison(s) since they are used in the blocking rules: \n",
      "\n",
      "Iteration 1: Largest change in params was 0.148 in the m_probability of CompanyName, level `Jaro_winkler_similarity >= 0.9`\n",
      "Iteration 2: Largest change in params was -0.178 in the m_probability of CompanyName, level `Exact match`\n",
      "Iteration 3: Largest change in params was -0.0145 in the m_probability of CompanyName, level `Exact match`\n",
      "Iteration 4: Largest change in params was 0.0207 in the m_probability of CompanyName, level `Jaro_winkler_similarity >= 0.8`\n",
      "Iteration 5: Largest change in params was 0.034 in the m_probability of CompanyName, level `Jaro_winkler_similarity >= 0.8`\n",
      "Iteration 6: Largest change in params was 0.0498 in the m_probability of CompanyName, level `Jaro_winkler_similarity >= 0.8`\n",
      "Iteration 7: Largest change in params was 0.0621 in the m_probability of CompanyName, level `Jaro_winkler_similarity >= 0.8`\n",
      "Iteration 8: Largest change in params was 0.0639 in the m_probability of CompanyName, level `Jaro_winkler_similarity >= 0.8`\n",
      "Iteration 9: Largest change in params was 0.0537 in the m_probability of CompanyName, level `Jaro_winkler_similarity >= 0.8`\n",
      "Iteration 10: Largest change in params was 0.0381 in the m_probability of CompanyName, level `Jaro_winkler_similarity >= 0.8`\n",
      "Iteration 11: Largest change in params was 0.0239 in the m_probability of CompanyName, level `Jaro_winkler_similarity >= 0.8`\n",
      "Iteration 12: Largest change in params was 0.0138 in the m_probability of CompanyName, level `Jaro_winkler_similarity >= 0.8`\n",
      "Iteration 13: Largest change in params was 0.00762 in the m_probability of CompanyName, level `Jaro_winkler_similarity >= 0.8`\n",
      "Iteration 14: Largest change in params was 0.0041 in the m_probability of CompanyName, level `Jaro_winkler_similarity >= 0.8`\n",
      "Iteration 15: Largest change in params was 0.00217 in the m_probability of CompanyName, level `Jaro_winkler_similarity >= 0.8`\n",
      "Iteration 16: Largest change in params was 0.00114 in the m_probability of CompanyName, level `Jaro_winkler_similarity >= 0.8`\n",
      "Iteration 17: Largest change in params was 0.000599 in the m_probability of CompanyName, level `Jaro_winkler_similarity >= 0.8`\n",
      "Iteration 18: Largest change in params was 0.000313 in the m_probability of CompanyName, level `Jaro_winkler_similarity >= 0.8`\n",
      "Iteration 19: Largest change in params was 0.000164 in the m_probability of CompanyName, level `Jaro_winkler_similarity >= 0.8`\n",
      "Iteration 20: Largest change in params was 8.56e-05 in the m_probability of CompanyName, level `Jaro_winkler_similarity >= 0.8`\n",
      "\n",
      "EM converged after 20 iterations\n",
      "\n",
      "Your model is fully trained. All comparisons have at least one estimate for their m and u values\n"
     ]
    },
    {
     "data": {
      "text/plain": [
       "<EMTrainingSession, blocking on l.Postcode = r.Postcode, deactivating comparisons >"
      ]
     },
     "execution_count": 17,
     "metadata": {},
     "output_type": "execute_result"
    }
   ],
   "source": [
    "linker.estimate_parameters_using_expectation_maximisation(\"l.Postcode = r.Postcode\")"
   ]
  },
  {
   "cell_type": "code",
   "execution_count": 18,
   "id": "43e03803",
   "metadata": {},
   "outputs": [],
   "source": [
    "#linker.save_model_to_json(\"Chapter6_Splink_Settings.json\", overwrite=True)\n",
    "linker.load_settings(\"Chapter6_Splink_Settings.json\")"
   ]
  },
  {
   "cell_type": "code",
   "execution_count": 19,
   "id": "8531f92c",
   "metadata": {},
   "outputs": [
    {
     "data": {
      "text/html": [
       "\n",
       "<style>\n",
       "  #altair-viz-eaa8ac7e295e41b4a07b43c320622cea.vega-embed {\n",
       "    width: 100%;\n",
       "    display: flex;\n",
       "  }\n",
       "\n",
       "  #altair-viz-eaa8ac7e295e41b4a07b43c320622cea.vega-embed details,\n",
       "  #altair-viz-eaa8ac7e295e41b4a07b43c320622cea.vega-embed details summary {\n",
       "    position: relative;\n",
       "  }\n",
       "</style>\n",
       "<div id=\"altair-viz-eaa8ac7e295e41b4a07b43c320622cea\"></div>\n",
       "<script type=\"text/javascript\">\n",
       "  var VEGA_DEBUG = (typeof VEGA_DEBUG == \"undefined\") ? {} : VEGA_DEBUG;\n",
       "  (function(spec, embedOpt){\n",
       "    let outputDiv = document.currentScript.previousElementSibling;\n",
       "    if (outputDiv.id !== \"altair-viz-eaa8ac7e295e41b4a07b43c320622cea\") {\n",
       "      outputDiv = document.getElementById(\"altair-viz-eaa8ac7e295e41b4a07b43c320622cea\");\n",
       "    }\n",
       "    const paths = {\n",
       "      \"vega\": \"https://cdn.jsdelivr.net/npm/vega@5?noext\",\n",
       "      \"vega-lib\": \"https://cdn.jsdelivr.net/npm/vega-lib?noext\",\n",
       "      \"vega-lite\": \"https://cdn.jsdelivr.net/npm/vega-lite@5.8.0?noext\",\n",
       "      \"vega-embed\": \"https://cdn.jsdelivr.net/npm/vega-embed@6?noext\",\n",
       "    };\n",
       "\n",
       "    function maybeLoadScript(lib, version) {\n",
       "      var key = `${lib.replace(\"-\", \"\")}_version`;\n",
       "      return (VEGA_DEBUG[key] == version) ?\n",
       "        Promise.resolve(paths[lib]) :\n",
       "        new Promise(function(resolve, reject) {\n",
       "          var s = document.createElement('script');\n",
       "          document.getElementsByTagName(\"head\")[0].appendChild(s);\n",
       "          s.async = true;\n",
       "          s.onload = () => {\n",
       "            VEGA_DEBUG[key] = version;\n",
       "            return resolve(paths[lib]);\n",
       "          };\n",
       "          s.onerror = () => reject(`Error loading script: ${paths[lib]}`);\n",
       "          s.src = paths[lib];\n",
       "        });\n",
       "    }\n",
       "\n",
       "    function showError(err) {\n",
       "      outputDiv.innerHTML = `<div class=\"error\" style=\"color:red;\">${err}</div>`;\n",
       "      throw err;\n",
       "    }\n",
       "\n",
       "    function displayChart(vegaEmbed) {\n",
       "      vegaEmbed(outputDiv, spec, embedOpt)\n",
       "        .catch(err => showError(`Javascript Error: ${err.message}<br>This usually means there's a typo in your chart specification. See the javascript console for the full traceback.`));\n",
       "    }\n",
       "\n",
       "    if(typeof define === \"function\" && define.amd) {\n",
       "      requirejs.config({paths});\n",
       "      require([\"vega-embed\"], displayChart, err => showError(`Error loading script: ${err.message}`));\n",
       "    } else {\n",
       "      maybeLoadScript(\"vega\", \"5\")\n",
       "        .then(() => maybeLoadScript(\"vega-lite\", \"5.8.0\"))\n",
       "        .then(() => maybeLoadScript(\"vega-embed\", \"6\"))\n",
       "        .catch(showError)\n",
       "        .then(() => displayChart(vegaEmbed));\n",
       "    }\n",
       "  })({\"config\": {\"view\": {\"continuousWidth\": 300, \"continuousHeight\": 300, \"discreteHeight\": 60, \"discreteWidth\": 400}, \"header\": {\"title\": null}, \"mark\": {\"tooltip\": null}, \"title\": {\"anchor\": \"middle\"}}, \"vconcat\": [{\"mark\": {\"type\": \"bar\", \"clip\": true, \"height\": 15}, \"encoding\": {\"color\": {\"field\": \"log2_bayes_factor\", \"scale\": {\"domain\": [-10, 0, 10], \"range\": [\"red\", \"orange\", \"green\"]}, \"title\": \"Match weight\", \"type\": \"quantitative\"}, \"tooltip\": [{\"field\": \"comparison_name\", \"title\": \"Comparison name\", \"type\": \"nominal\"}, {\"field\": \"probability_two_random_records_match\", \"format\": \".4f\", \"title\": \"Probability two random records match\", \"type\": \"nominal\"}, {\"field\": \"log2_bayes_factor\", \"format\": \",.4f\", \"title\": \"Equivalent match weight\", \"type\": \"quantitative\"}, {\"field\": \"bayes_factor_description\", \"title\": \"Match weight description\", \"type\": \"nominal\"}], \"x\": {\"axis\": {\"domain\": false, \"labels\": false, \"ticks\": false, \"title\": \"\"}, \"field\": \"log2_bayes_factor\", \"scale\": {\"domain\": [-10, 10]}, \"type\": \"quantitative\"}, \"y\": {\"axis\": {\"title\": \"Prior (starting) match weight\", \"titleAlign\": \"right\", \"titleAngle\": 0, \"titleFontWeight\": \"normal\"}, \"field\": \"label_for_charts\", \"sort\": {\"field\": \"comparison_vector_value\", \"order\": \"descending\"}, \"type\": \"nominal\"}}, \"height\": 20, \"transform\": [{\"filter\": \"(datum.comparison_name == 'probability_two_random_records_match')\"}]}, {\"mark\": {\"type\": \"bar\", \"clip\": true}, \"encoding\": {\"color\": {\"field\": \"log2_bayes_factor\", \"scale\": {\"domain\": [-10, 0, 10], \"range\": [\"red\", \"orange\", \"green\"]}, \"title\": \"Match weight\", \"type\": \"quantitative\"}, \"row\": {\"field\": \"comparison_name\", \"header\": {\"labelAlign\": \"left\", \"labelAnchor\": \"middle\", \"labelAngle\": 0}, \"sort\": {\"field\": \"comparison_sort_order\"}, \"type\": \"nominal\"}, \"tooltip\": [{\"field\": \"comparison_name\", \"title\": \"Comparison name\", \"type\": \"nominal\"}, {\"field\": \"label_for_charts\", \"title\": \"Label\", \"type\": \"ordinal\"}, {\"field\": \"sql_condition\", \"title\": \"SQL condition\", \"type\": \"nominal\"}, {\"field\": \"m_probability\", \"format\": \".4f\", \"title\": \"M probability\", \"type\": \"quantitative\"}, {\"field\": \"u_probability\", \"format\": \".4f\", \"title\": \"U probability\", \"type\": \"quantitative\"}, {\"field\": \"bayes_factor\", \"format\": \",.4f\", \"title\": \"Bayes factor = m/u\", \"type\": \"quantitative\"}, {\"field\": \"log2_bayes_factor\", \"format\": \",.4f\", \"title\": \"Match weight = log2(m/u)\", \"type\": \"quantitative\"}, {\"field\": \"bayes_factor_description\", \"title\": \"Match weight description\", \"type\": \"nominal\"}], \"x\": {\"axis\": {\"title\": \"Comparison level match weight = log2(m/u)\"}, \"field\": \"log2_bayes_factor\", \"scale\": {\"domain\": [-10, 10]}, \"type\": \"quantitative\"}, \"y\": {\"axis\": {\"title\": null}, \"field\": \"label_for_charts\", \"sort\": {\"field\": \"comparison_vector_value\", \"order\": \"descending\"}, \"type\": \"nominal\"}}, \"height\": {\"step\": 12}, \"resolve\": {\"axis\": {\"y\": \"independent\"}, \"scale\": {\"y\": \"independent\"}}, \"transform\": [{\"filter\": \"(datum.comparison_name != 'probability_two_random_records_match')\"}]}], \"data\": {\"name\": \"data-fe16d562a454d4a093644943e55b1d4d\"}, \"params\": [{\"name\": \"mouse_zoom\", \"select\": {\"type\": \"interval\", \"encodings\": [\"x\"]}, \"bind\": \"scales\", \"views\": []}], \"resolve\": {\"axis\": {\"y\": \"independent\"}, \"scale\": {\"y\": \"independent\"}}, \"title\": {\"text\": \"Model parameters (components of final match weight)\", \"subtitle\": \"Use mousewheel to zoom\"}, \"$schema\": \"https://vega.github.io/schema/vega-lite/v5.9.3.json\", \"datasets\": {\"data-fe16d562a454d4a093644943e55b1d4d\": [{\"comparison_name\": \"probability_two_random_records_match\", \"sql_condition\": null, \"label_for_charts\": \"\", \"m_probability\": null, \"u_probability\": null, \"m_probability_description\": null, \"u_probability_description\": null, \"has_tf_adjustments\": false, \"tf_adjustment_column\": null, \"tf_adjustment_weight\": null, \"is_null_level\": false, \"bayes_factor\": 0.00010001000100010001, \"log2_bayes_factor\": -13.287568102831404, \"comparison_vector_value\": 0, \"max_comparison_vector_value\": 0, \"bayes_factor_description\": \"The probability that two random records drawn at random match is 0.000 or one in  10,000.0 records.This is equivalent to a starting match weight of -13.288.\", \"probability_two_random_records_match\": 0.0001, \"comparison_sort_order\": -1}, {\"comparison_name\": \"CompanyName\", \"sql_condition\": \"\\\"CompanyName_l\\\" = \\\"CompanyName_r\\\"\", \"label_for_charts\": \"Exact match\", \"m_probability\": 0.8623865381443143, \"u_probability\": 2.43121514929059e-07, \"m_probability_description\": \"Amongst matching record comparisons, 86.24% of records are in the exact match comparison level\", \"u_probability_description\": \"Amongst non-matching record comparisons, 0.00% of records are in the exact match comparison level\", \"has_tf_adjustments\": false, \"tf_adjustment_column\": null, \"tf_adjustment_weight\": 1.0, \"is_null_level\": false, \"bayes_factor\": 3547142.00590578, \"log2_bayes_factor\": 21.758225657453238, \"comparison_vector_value\": 3, \"max_comparison_vector_value\": 3, \"bayes_factor_description\": \"If comparison level is `exact match` then comparison is 3,547,142.01 times more likely to be a match\", \"probability_two_random_records_match\": 0.0001, \"comparison_sort_order\": 0}, {\"comparison_name\": \"CompanyName\", \"sql_condition\": \"jaro_winkler_similarity(\\\"CompanyName_l\\\", \\\"CompanyName_r\\\") >= 0.9\", \"label_for_charts\": \"Jaro_winkler_similarity >= 0.9\", \"m_probability\": 0.11876947513581855, \"u_probability\": 8.266131507588006e-06, \"m_probability_description\": \"Amongst matching record comparisons, 11.88% of records are in the jaro_winkler_similarity >= 0.9 comparison level\", \"u_probability_description\": \"Amongst non-matching record comparisons, 0.00% of records are in the jaro_winkler_similarity >= 0.9 comparison level\", \"has_tf_adjustments\": false, \"tf_adjustment_column\": null, \"tf_adjustment_weight\": 1.0, \"is_null_level\": false, \"bayes_factor\": 14368.205372342858, \"log2_bayes_factor\": 13.81059225609019, \"comparison_vector_value\": 2, \"max_comparison_vector_value\": 3, \"bayes_factor_description\": \"If comparison level is `jaro_winkler_similarity >= 0.9` then comparison is 14,368.21 times more likely to be a match\", \"probability_two_random_records_match\": 0.0001, \"comparison_sort_order\": 0}, {\"comparison_name\": \"CompanyName\", \"sql_condition\": \"jaro_winkler_similarity(\\\"CompanyName_l\\\", \\\"CompanyName_r\\\") >= 0.8\", \"label_for_charts\": \"Jaro_winkler_similarity >= 0.8\", \"m_probability\": 0.013664289166219007, \"u_probability\": 0.00024020405674991026, \"m_probability_description\": \"Amongst matching record comparisons, 1.37% of records are in the jaro_winkler_similarity >= 0.8 comparison level\", \"u_probability_description\": \"Amongst non-matching record comparisons, 0.02% of records are in the jaro_winkler_similarity >= 0.8 comparison level\", \"has_tf_adjustments\": false, \"tf_adjustment_column\": null, \"tf_adjustment_weight\": 1.0, \"is_null_level\": false, \"bayes_factor\": 56.886171495619884, \"log2_bayes_factor\": 5.830006084161495, \"comparison_vector_value\": 1, \"max_comparison_vector_value\": 3, \"bayes_factor_description\": \"If comparison level is `jaro_winkler_similarity >= 0.8` then comparison is 56.89 times more likely to be a match\", \"probability_two_random_records_match\": 0.0001, \"comparison_sort_order\": 0}, {\"comparison_name\": \"CompanyName\", \"sql_condition\": \"ELSE\", \"label_for_charts\": \"All other comparisons\", \"m_probability\": 0.00517969755364816, \"u_probability\": 0.9997512866902276, \"m_probability_description\": \"Amongst matching record comparisons, 0.52% of records are in the all other comparisons comparison level\", \"u_probability_description\": \"Amongst non-matching record comparisons, 99.98% of records are in the all other comparisons comparison level\", \"has_tf_adjustments\": false, \"tf_adjustment_column\": null, \"tf_adjustment_weight\": 1.0, \"is_null_level\": false, \"bayes_factor\": 0.005180986133857397, \"log2_bayes_factor\": -7.592557562228685, \"comparison_vector_value\": 0, \"max_comparison_vector_value\": 3, \"bayes_factor_description\": \"If comparison level is `all other comparisons` then comparison is  193.01 times less likely to be a match\", \"probability_two_random_records_match\": 0.0001, \"comparison_sort_order\": 0}]}}, {\"mode\": \"vega-lite\"});\n",
       "</script>"
      ],
      "text/plain": [
       "alt.VConcatChart(...)"
      ]
     },
     "execution_count": 19,
     "metadata": {},
     "output_type": "execute_result"
    }
   ],
   "source": [
    "linker.match_weights_chart()"
   ]
  },
  {
   "cell_type": "code",
   "execution_count": 20,
   "id": "3d858639",
   "metadata": {},
   "outputs": [
    {
     "data": {
      "text/html": [
       "\n",
       "<style>\n",
       "  #altair-viz-3dd99c9376e44e2f890a5117c1d4eb59.vega-embed {\n",
       "    width: 100%;\n",
       "    display: flex;\n",
       "  }\n",
       "\n",
       "  #altair-viz-3dd99c9376e44e2f890a5117c1d4eb59.vega-embed details,\n",
       "  #altair-viz-3dd99c9376e44e2f890a5117c1d4eb59.vega-embed details summary {\n",
       "    position: relative;\n",
       "  }\n",
       "</style>\n",
       "<div id=\"altair-viz-3dd99c9376e44e2f890a5117c1d4eb59\"></div>\n",
       "<script type=\"text/javascript\">\n",
       "  var VEGA_DEBUG = (typeof VEGA_DEBUG == \"undefined\") ? {} : VEGA_DEBUG;\n",
       "  (function(spec, embedOpt){\n",
       "    let outputDiv = document.currentScript.previousElementSibling;\n",
       "    if (outputDiv.id !== \"altair-viz-3dd99c9376e44e2f890a5117c1d4eb59\") {\n",
       "      outputDiv = document.getElementById(\"altair-viz-3dd99c9376e44e2f890a5117c1d4eb59\");\n",
       "    }\n",
       "    const paths = {\n",
       "      \"vega\": \"https://cdn.jsdelivr.net/npm/vega@5?noext\",\n",
       "      \"vega-lib\": \"https://cdn.jsdelivr.net/npm/vega-lib?noext\",\n",
       "      \"vega-lite\": \"https://cdn.jsdelivr.net/npm/vega-lite@5.8.0?noext\",\n",
       "      \"vega-embed\": \"https://cdn.jsdelivr.net/npm/vega-embed@6?noext\",\n",
       "    };\n",
       "\n",
       "    function maybeLoadScript(lib, version) {\n",
       "      var key = `${lib.replace(\"-\", \"\")}_version`;\n",
       "      return (VEGA_DEBUG[key] == version) ?\n",
       "        Promise.resolve(paths[lib]) :\n",
       "        new Promise(function(resolve, reject) {\n",
       "          var s = document.createElement('script');\n",
       "          document.getElementsByTagName(\"head\")[0].appendChild(s);\n",
       "          s.async = true;\n",
       "          s.onload = () => {\n",
       "            VEGA_DEBUG[key] = version;\n",
       "            return resolve(paths[lib]);\n",
       "          };\n",
       "          s.onerror = () => reject(`Error loading script: ${paths[lib]}`);\n",
       "          s.src = paths[lib];\n",
       "        });\n",
       "    }\n",
       "\n",
       "    function showError(err) {\n",
       "      outputDiv.innerHTML = `<div class=\"error\" style=\"color:red;\">${err}</div>`;\n",
       "      throw err;\n",
       "    }\n",
       "\n",
       "    function displayChart(vegaEmbed) {\n",
       "      vegaEmbed(outputDiv, spec, embedOpt)\n",
       "        .catch(err => showError(`Javascript Error: ${err.message}<br>This usually means there's a typo in your chart specification. See the javascript console for the full traceback.`));\n",
       "    }\n",
       "\n",
       "    if(typeof define === \"function\" && define.amd) {\n",
       "      requirejs.config({paths});\n",
       "      require([\"vega-embed\"], displayChart, err => showError(`Error loading script: ${err.message}`));\n",
       "    } else {\n",
       "      maybeLoadScript(\"vega\", \"5\")\n",
       "        .then(() => maybeLoadScript(\"vega-lite\", \"5.8.0\"))\n",
       "        .then(() => maybeLoadScript(\"vega-embed\", \"6\"))\n",
       "        .catch(showError)\n",
       "        .then(() => displayChart(vegaEmbed));\n",
       "    }\n",
       "  })({\"config\": {\"view\": {\"continuousWidth\": 300, \"continuousHeight\": 300, \"discreteHeight\": 300, \"discreteWidth\": 400}, \"header\": {\"title\": null}, \"title\": {\"anchor\": \"middle\", \"offset\": 10}}, \"hconcat\": [{\"mark\": \"bar\", \"encoding\": {\"color\": {\"value\": \"green\"}, \"row\": {\"field\": \"comparison_name\", \"header\": {\"labelAlign\": \"left\", \"labelAnchor\": \"middle\", \"labelAngle\": 0}, \"sort\": {\"field\": \"comparison_sort_order\"}, \"type\": \"nominal\"}, \"tooltip\": [{\"field\": \"m_probability_description\", \"title\": \"m probability description\", \"type\": \"nominal\"}, {\"field\": \"comparison_name\", \"title\": \"Comparison column name\", \"type\": \"nominal\"}, {\"field\": \"label_for_charts\", \"title\": \"Label\", \"type\": \"ordinal\"}, {\"field\": \"sql_condition\", \"title\": \"SQL condition\", \"type\": \"nominal\"}, {\"field\": \"m_probability\", \"format\": \".4p\", \"title\": \"m probability\", \"type\": \"quantitative\"}, {\"field\": \"u_probability\", \"format\": \".4p\", \"title\": \"u probability\", \"type\": \"quantitative\"}, {\"field\": \"bayes_factor\", \"format\": \",.4f\", \"title\": \"Bayes factor = m/u\", \"type\": \"quantitative\"}, {\"field\": \"log2_bayes_factor\", \"format\": \",.4f\", \"title\": \"Match weight = log2(m/u)\", \"type\": \"quantitative\"}], \"x\": {\"axis\": {\"title\": \"Proportion of record comparisons\"}, \"field\": \"m_probability\", \"type\": \"quantitative\"}, \"y\": {\"axis\": {\"title\": null}, \"field\": \"label_for_charts\", \"sort\": {\"field\": \"comparison_vector_value\", \"order\": \"descending\"}, \"type\": \"nominal\"}}, \"height\": {\"step\": 12}, \"resolve\": {\"scale\": {\"y\": \"independent\"}}, \"title\": {\"text\": \"Amongst matching record comparisons:\", \"fontSize\": 12, \"fontWeight\": \"bold\"}, \"transform\": [{\"filter\": \"(datum.bayes_factor != 'no-op filter due to vega lite issue 4680')\"}], \"width\": 150}, {\"mark\": \"bar\", \"encoding\": {\"color\": {\"value\": \"red\"}, \"row\": {\"field\": \"comparison_name\", \"header\": {\"labels\": false}, \"sort\": {\"field\": \"comparison_sort_order\"}, \"type\": \"nominal\"}, \"tooltip\": [{\"field\": \"u_probability_description\", \"title\": \"u probability description\", \"type\": \"nominal\"}, {\"field\": \"comparison_name\", \"title\": \"Comparison column name\", \"type\": \"nominal\"}, {\"field\": \"label_for_charts\", \"title\": \"Label\", \"type\": \"ordinal\"}, {\"field\": \"sql_condition\", \"title\": \"SQL condition\", \"type\": \"nominal\"}, {\"field\": \"m_probability\", \"format\": \".4p\", \"title\": \"m probability\", \"type\": \"quantitative\"}, {\"field\": \"u_probability\", \"format\": \".4p\", \"title\": \"u probability\", \"type\": \"quantitative\"}, {\"field\": \"bayes_factor\", \"format\": \",.4f\", \"title\": \"Bayes factor = m/u\", \"type\": \"quantitative\"}, {\"field\": \"log2_bayes_factor\", \"format\": \",.4f\", \"title\": \"Match weight = log2(m/u)\", \"type\": \"quantitative\"}], \"x\": {\"axis\": {\"title\": \"Proportion of record comparisons\"}, \"field\": \"u_probability\", \"type\": \"quantitative\"}, \"y\": {\"axis\": {\"title\": null}, \"field\": \"label_for_charts\", \"sort\": {\"field\": \"comparison_vector_value\", \"order\": \"descending\"}, \"type\": \"nominal\"}}, \"height\": {\"step\": 12}, \"resolve\": {\"scale\": {\"y\": \"independent\"}}, \"title\": {\"text\": \"Amongst non-matching record comparisons:\", \"fontSize\": 12, \"fontWeight\": \"bold\"}, \"transform\": [{\"filter\": \"(datum.bayes_factor != 'no-op filter2 due to vega lite issue 4680')\"}], \"width\": 150}], \"data\": {\"name\": \"data-ee6dd25c53eb25dff3b8a2f8f85a5f51\"}, \"title\": {\"text\": \"Proportion of record comparisons in each comparison level by match status\", \"subtitle\": \"(m and u probabilities)\"}, \"$schema\": \"https://vega.github.io/schema/vega-lite/v5.9.3.json\", \"datasets\": {\"data-ee6dd25c53eb25dff3b8a2f8f85a5f51\": [{\"comparison_name\": \"CompanyName\", \"sql_condition\": \"\\\"CompanyName_l\\\" = \\\"CompanyName_r\\\"\", \"label_for_charts\": \"Exact match\", \"m_probability\": 0.8623865381443143, \"u_probability\": 2.43121514929059e-07, \"m_probability_description\": \"Amongst matching record comparisons, 86.24% of records are in the exact match comparison level\", \"u_probability_description\": \"Amongst non-matching record comparisons, 0.00% of records are in the exact match comparison level\", \"has_tf_adjustments\": false, \"tf_adjustment_column\": null, \"tf_adjustment_weight\": 1.0, \"is_null_level\": false, \"bayes_factor\": 3547142.00590578, \"log2_bayes_factor\": 21.758225657453238, \"comparison_vector_value\": 3, \"max_comparison_vector_value\": 3, \"bayes_factor_description\": \"If comparison level is `exact match` then comparison is 3,547,142.01 times more likely to be a match\", \"probability_two_random_records_match\": 0.0001, \"comparison_sort_order\": 0}, {\"comparison_name\": \"CompanyName\", \"sql_condition\": \"jaro_winkler_similarity(\\\"CompanyName_l\\\", \\\"CompanyName_r\\\") >= 0.9\", \"label_for_charts\": \"Jaro_winkler_similarity >= 0.9\", \"m_probability\": 0.11876947513581855, \"u_probability\": 8.266131507588006e-06, \"m_probability_description\": \"Amongst matching record comparisons, 11.88% of records are in the jaro_winkler_similarity >= 0.9 comparison level\", \"u_probability_description\": \"Amongst non-matching record comparisons, 0.00% of records are in the jaro_winkler_similarity >= 0.9 comparison level\", \"has_tf_adjustments\": false, \"tf_adjustment_column\": null, \"tf_adjustment_weight\": 1.0, \"is_null_level\": false, \"bayes_factor\": 14368.205372342858, \"log2_bayes_factor\": 13.81059225609019, \"comparison_vector_value\": 2, \"max_comparison_vector_value\": 3, \"bayes_factor_description\": \"If comparison level is `jaro_winkler_similarity >= 0.9` then comparison is 14,368.21 times more likely to be a match\", \"probability_two_random_records_match\": 0.0001, \"comparison_sort_order\": 0}, {\"comparison_name\": \"CompanyName\", \"sql_condition\": \"jaro_winkler_similarity(\\\"CompanyName_l\\\", \\\"CompanyName_r\\\") >= 0.8\", \"label_for_charts\": \"Jaro_winkler_similarity >= 0.8\", \"m_probability\": 0.013664289166219007, \"u_probability\": 0.00024020405674991026, \"m_probability_description\": \"Amongst matching record comparisons, 1.37% of records are in the jaro_winkler_similarity >= 0.8 comparison level\", \"u_probability_description\": \"Amongst non-matching record comparisons, 0.02% of records are in the jaro_winkler_similarity >= 0.8 comparison level\", \"has_tf_adjustments\": false, \"tf_adjustment_column\": null, \"tf_adjustment_weight\": 1.0, \"is_null_level\": false, \"bayes_factor\": 56.886171495619884, \"log2_bayes_factor\": 5.830006084161495, \"comparison_vector_value\": 1, \"max_comparison_vector_value\": 3, \"bayes_factor_description\": \"If comparison level is `jaro_winkler_similarity >= 0.8` then comparison is 56.89 times more likely to be a match\", \"probability_two_random_records_match\": 0.0001, \"comparison_sort_order\": 0}, {\"comparison_name\": \"CompanyName\", \"sql_condition\": \"ELSE\", \"label_for_charts\": \"All other comparisons\", \"m_probability\": 0.00517969755364816, \"u_probability\": 0.9997512866902276, \"m_probability_description\": \"Amongst matching record comparisons, 0.52% of records are in the all other comparisons comparison level\", \"u_probability_description\": \"Amongst non-matching record comparisons, 99.98% of records are in the all other comparisons comparison level\", \"has_tf_adjustments\": false, \"tf_adjustment_column\": null, \"tf_adjustment_weight\": 1.0, \"is_null_level\": false, \"bayes_factor\": 0.005180986133857397, \"log2_bayes_factor\": -7.592557562228685, \"comparison_vector_value\": 0, \"max_comparison_vector_value\": 3, \"bayes_factor_description\": \"If comparison level is `all other comparisons` then comparison is  193.01 times less likely to be a match\", \"probability_two_random_records_match\": 0.0001, \"comparison_sort_order\": 0}]}}, {\"mode\": \"vega-lite\"});\n",
       "</script>"
      ],
      "text/plain": [
       "alt.HConcatChart(...)"
      ]
     },
     "execution_count": 20,
     "metadata": {},
     "output_type": "execute_result"
    }
   ],
   "source": [
    "linker.m_u_parameters_chart()"
   ]
  },
  {
   "cell_type": "markdown",
   "id": "b558cec6",
   "metadata": {},
   "source": [
    "# Step 4 - Match Classification"
   ]
  },
  {
   "cell_type": "code",
   "execution_count": 21,
   "id": "56495421",
   "metadata": {},
   "outputs": [
    {
     "data": {
      "text/plain": [
       "110"
      ]
     },
     "execution_count": 21,
     "metadata": {},
     "output_type": "execute_result"
    }
   ],
   "source": [
    "# Calculate predictions\n",
    "\n",
    "df_pred = linker.predict(threshold_match_probability=0.5).as_pandas_dataframe()\n",
    "len(df_pred)"
   ]
  },
  {
   "cell_type": "code",
   "execution_count": 22,
   "id": "5427dfbc",
   "metadata": {},
   "outputs": [
    {
     "data": {
      "text/plain": [
       "78"
      ]
     },
     "execution_count": 22,
     "metadata": {},
     "output_type": "execute_result"
    }
   ],
   "source": [
    "len(pd.unique(df_pred['CompanyName_r']))"
   ]
  },
  {
   "cell_type": "code",
   "execution_count": 23,
   "id": "a31fafaf",
   "metadata": {},
   "outputs": [
    {
     "data": {
      "text/plain": [
       "45"
      ]
     },
     "execution_count": 23,
     "metadata": {},
     "output_type": "execute_result"
    }
   ],
   "source": [
    "postname = df_pred[(df_pred['CompanyName_l']==df_pred['CompanyName_r']) & (df_pred['Postcode_l']==df_pred['Postcode_r'])]\n",
    "len(postname)"
   ]
  },
  {
   "cell_type": "code",
   "execution_count": 24,
   "id": "ae036de9",
   "metadata": {},
   "outputs": [
    {
     "data": {
      "text/plain": [
       "43"
      ]
     },
     "execution_count": 24,
     "metadata": {},
     "output_type": "execute_result"
    }
   ],
   "source": [
    "len(pd.unique(postname['CompanyName_r']))"
   ]
  },
  {
   "cell_type": "code",
   "execution_count": 25,
   "id": "c20fa0fb",
   "metadata": {},
   "outputs": [
    {
     "data": {
      "text/plain": [
       "25"
      ]
     },
     "execution_count": 25,
     "metadata": {},
     "output_type": "execute_result"
    }
   ],
   "source": [
    "notname = df_pred[df_pred['CompanyName_l']!=df_pred['CompanyName_r']]\n",
    "len(notname)"
   ]
  },
  {
   "cell_type": "code",
   "execution_count": 26,
   "id": "81dceb42",
   "metadata": {},
   "outputs": [
    {
     "data": {
      "text/plain": [
       "12"
      ]
     },
     "execution_count": 26,
     "metadata": {},
     "output_type": "execute_result"
    }
   ],
   "source": [
    "len(pd.unique(notname['CompanyName_r']))"
   ]
  },
  {
   "cell_type": "code",
   "execution_count": 27,
   "id": "290476a5",
   "metadata": {},
   "outputs": [
    {
     "data": {
      "text/plain": [
       "40"
      ]
     },
     "execution_count": 27,
     "metadata": {},
     "output_type": "execute_result"
    }
   ],
   "source": [
    "notpost = df_pred[df_pred['Postcode_l']!=df_pred['Postcode_r']]\n",
    "len(notpost)"
   ]
  },
  {
   "cell_type": "code",
   "execution_count": 28,
   "id": "abb952f5",
   "metadata": {},
   "outputs": [
    {
     "data": {
      "text/plain": [
       "32"
      ]
     },
     "execution_count": 28,
     "metadata": {},
     "output_type": "execute_result"
    }
   ],
   "source": [
    "len(pd.unique(notpost['CompanyName_r']))"
   ]
  },
  {
   "cell_type": "code",
   "execution_count": 29,
   "id": "3160a718",
   "metadata": {},
   "outputs": [
    {
     "data": {
      "text/html": [
       "<div>\n",
       "<style scoped>\n",
       "    .dataframe tbody tr th:only-of-type {\n",
       "        vertical-align: middle;\n",
       "    }\n",
       "\n",
       "    .dataframe tbody tr th {\n",
       "        vertical-align: top;\n",
       "    }\n",
       "\n",
       "    .dataframe thead th {\n",
       "        text-align: right;\n",
       "    }\n",
       "</style>\n",
       "<table border=\"1\" class=\"dataframe\">\n",
       "  <thead>\n",
       "    <tr style=\"text-align: right;\">\n",
       "      <th></th>\n",
       "      <th>Postcode</th>\n",
       "      <th>CompanyName</th>\n",
       "      <th>unique_id</th>\n",
       "      <th>match_weight</th>\n",
       "      <th>match_probability</th>\n",
       "      <th>source_dataset_l</th>\n",
       "      <th>source_dataset_r</th>\n",
       "      <th>unique_id_l</th>\n",
       "      <th>unique_id_r</th>\n",
       "      <th>CompanyName_l</th>\n",
       "      <th>CompanyName_r</th>\n",
       "      <th>gamma_CompanyName</th>\n",
       "      <th>bf_CompanyName</th>\n",
       "      <th>Postcode_l</th>\n",
       "      <th>Postcode_r</th>\n",
       "      <th>match_key</th>\n",
       "    </tr>\n",
       "  </thead>\n",
       "  <tbody>\n",
       "    <tr>\n",
       "      <th>0</th>\n",
       "      <td>W1T 2NS</td>\n",
       "      <td>19 LONDON - AS 19 YACHT CREW</td>\n",
       "      <td>0</td>\n",
       "      <td>NaN</td>\n",
       "      <td>NaN</td>\n",
       "      <td>NaN</td>\n",
       "      <td>NaN</td>\n",
       "      <td>NaN</td>\n",
       "      <td>NaN</td>\n",
       "      <td>NaN</td>\n",
       "      <td>NaN</td>\n",
       "      <td>NaN</td>\n",
       "      <td>NaN</td>\n",
       "      <td>NaN</td>\n",
       "      <td>NaN</td>\n",
       "      <td>NaN</td>\n",
       "    </tr>\n",
       "    <tr>\n",
       "      <th>20</th>\n",
       "      <td>SO14 3JZ</td>\n",
       "      <td>CB MEDIA (YOTSPOT)</td>\n",
       "      <td>13</td>\n",
       "      <td>NaN</td>\n",
       "      <td>NaN</td>\n",
       "      <td>NaN</td>\n",
       "      <td>NaN</td>\n",
       "      <td>NaN</td>\n",
       "      <td>NaN</td>\n",
       "      <td>NaN</td>\n",
       "      <td>NaN</td>\n",
       "      <td>NaN</td>\n",
       "      <td>NaN</td>\n",
       "      <td>NaN</td>\n",
       "      <td>NaN</td>\n",
       "      <td>NaN</td>\n",
       "    </tr>\n",
       "    <tr>\n",
       "      <th>22</th>\n",
       "      <td>AB21 7GQ</td>\n",
       "      <td>CLAN PARTNERS (INCORPORATING GLOBAL RESOURCE M...</td>\n",
       "      <td>15</td>\n",
       "      <td>NaN</td>\n",
       "      <td>NaN</td>\n",
       "      <td>NaN</td>\n",
       "      <td>NaN</td>\n",
       "      <td>NaN</td>\n",
       "      <td>NaN</td>\n",
       "      <td>NaN</td>\n",
       "      <td>NaN</td>\n",
       "      <td>NaN</td>\n",
       "      <td>NaN</td>\n",
       "      <td>NaN</td>\n",
       "      <td>NaN</td>\n",
       "      <td>NaN</td>\n",
       "    </tr>\n",
       "    <tr>\n",
       "      <th>24</th>\n",
       "      <td>HU10 7WG</td>\n",
       "      <td>CP MARINE</td>\n",
       "      <td>17</td>\n",
       "      <td>NaN</td>\n",
       "      <td>NaN</td>\n",
       "      <td>NaN</td>\n",
       "      <td>NaN</td>\n",
       "      <td>NaN</td>\n",
       "      <td>NaN</td>\n",
       "      <td>NaN</td>\n",
       "      <td>NaN</td>\n",
       "      <td>NaN</td>\n",
       "      <td>NaN</td>\n",
       "      <td>NaN</td>\n",
       "      <td>NaN</td>\n",
       "      <td>NaN</td>\n",
       "    </tr>\n",
       "    <tr>\n",
       "      <th>26</th>\n",
       "      <td>M50 2EQ</td>\n",
       "      <td>CREW BOARD</td>\n",
       "      <td>19</td>\n",
       "      <td>NaN</td>\n",
       "      <td>NaN</td>\n",
       "      <td>NaN</td>\n",
       "      <td>NaN</td>\n",
       "      <td>NaN</td>\n",
       "      <td>NaN</td>\n",
       "      <td>NaN</td>\n",
       "      <td>NaN</td>\n",
       "      <td>NaN</td>\n",
       "      <td>NaN</td>\n",
       "      <td>NaN</td>\n",
       "      <td>NaN</td>\n",
       "      <td>NaN</td>\n",
       "    </tr>\n",
       "    <tr>\n",
       "      <th>32</th>\n",
       "      <td>CT16 3PX</td>\n",
       "      <td>DFDS SEAWAYS BV</td>\n",
       "      <td>25</td>\n",
       "      <td>NaN</td>\n",
       "      <td>NaN</td>\n",
       "      <td>NaN</td>\n",
       "      <td>NaN</td>\n",
       "      <td>NaN</td>\n",
       "      <td>NaN</td>\n",
       "      <td>NaN</td>\n",
       "      <td>NaN</td>\n",
       "      <td>NaN</td>\n",
       "      <td>NaN</td>\n",
       "      <td>NaN</td>\n",
       "      <td>NaN</td>\n",
       "      <td>NaN</td>\n",
       "    </tr>\n",
       "    <tr>\n",
       "      <th>42</th>\n",
       "      <td>GU14 7BF</td>\n",
       "      <td>FLUOR INDUSTRIAL</td>\n",
       "      <td>33</td>\n",
       "      <td>NaN</td>\n",
       "      <td>NaN</td>\n",
       "      <td>NaN</td>\n",
       "      <td>NaN</td>\n",
       "      <td>NaN</td>\n",
       "      <td>NaN</td>\n",
       "      <td>NaN</td>\n",
       "      <td>NaN</td>\n",
       "      <td>NaN</td>\n",
       "      <td>NaN</td>\n",
       "      <td>NaN</td>\n",
       "      <td>NaN</td>\n",
       "      <td>NaN</td>\n",
       "    </tr>\n",
       "    <tr>\n",
       "      <th>55</th>\n",
       "      <td>FK16 6EN</td>\n",
       "      <td>JAB MEDIA T/A JAB RECRUITMENT</td>\n",
       "      <td>43</td>\n",
       "      <td>NaN</td>\n",
       "      <td>NaN</td>\n",
       "      <td>NaN</td>\n",
       "      <td>NaN</td>\n",
       "      <td>NaN</td>\n",
       "      <td>NaN</td>\n",
       "      <td>NaN</td>\n",
       "      <td>NaN</td>\n",
       "      <td>NaN</td>\n",
       "      <td>NaN</td>\n",
       "      <td>NaN</td>\n",
       "      <td>NaN</td>\n",
       "      <td>NaN</td>\n",
       "    </tr>\n",
       "    <tr>\n",
       "      <th>71</th>\n",
       "      <td>FY4 6GU</td>\n",
       "      <td>MR MIM WORLD OF ENTERTAINMENT</td>\n",
       "      <td>54</td>\n",
       "      <td>NaN</td>\n",
       "      <td>NaN</td>\n",
       "      <td>NaN</td>\n",
       "      <td>NaN</td>\n",
       "      <td>NaN</td>\n",
       "      <td>NaN</td>\n",
       "      <td>NaN</td>\n",
       "      <td>NaN</td>\n",
       "      <td>NaN</td>\n",
       "      <td>NaN</td>\n",
       "      <td>NaN</td>\n",
       "      <td>NaN</td>\n",
       "      <td>NaN</td>\n",
       "    </tr>\n",
       "    <tr>\n",
       "      <th>73</th>\n",
       "      <td>KT23 4HN</td>\n",
       "      <td>NEPTUNE MANNING</td>\n",
       "      <td>56</td>\n",
       "      <td>NaN</td>\n",
       "      <td>NaN</td>\n",
       "      <td>NaN</td>\n",
       "      <td>NaN</td>\n",
       "      <td>NaN</td>\n",
       "      <td>NaN</td>\n",
       "      <td>NaN</td>\n",
       "      <td>NaN</td>\n",
       "      <td>NaN</td>\n",
       "      <td>NaN</td>\n",
       "      <td>NaN</td>\n",
       "      <td>NaN</td>\n",
       "      <td>NaN</td>\n",
       "    </tr>\n",
       "    <tr>\n",
       "      <th>74</th>\n",
       "      <td>EN1 3TF</td>\n",
       "      <td>NEW ENTERTAINMENT AND SERVICE</td>\n",
       "      <td>57</td>\n",
       "      <td>NaN</td>\n",
       "      <td>NaN</td>\n",
       "      <td>NaN</td>\n",
       "      <td>NaN</td>\n",
       "      <td>NaN</td>\n",
       "      <td>NaN</td>\n",
       "      <td>NaN</td>\n",
       "      <td>NaN</td>\n",
       "      <td>NaN</td>\n",
       "      <td>NaN</td>\n",
       "      <td>NaN</td>\n",
       "      <td>NaN</td>\n",
       "      <td>NaN</td>\n",
       "    </tr>\n",
       "    <tr>\n",
       "      <th>87</th>\n",
       "      <td>DT4 9LY</td>\n",
       "      <td>ROBSON CREW RECRUITMENT</td>\n",
       "      <td>67</td>\n",
       "      <td>NaN</td>\n",
       "      <td>NaN</td>\n",
       "      <td>NaN</td>\n",
       "      <td>NaN</td>\n",
       "      <td>NaN</td>\n",
       "      <td>NaN</td>\n",
       "      <td>NaN</td>\n",
       "      <td>NaN</td>\n",
       "      <td>NaN</td>\n",
       "      <td>NaN</td>\n",
       "      <td>NaN</td>\n",
       "      <td>NaN</td>\n",
       "      <td>NaN</td>\n",
       "    </tr>\n",
       "    <tr>\n",
       "      <th>99</th>\n",
       "      <td>PO6 3TD</td>\n",
       "      <td>STR (TRADING AS NAVIS LTD)</td>\n",
       "      <td>77</td>\n",
       "      <td>NaN</td>\n",
       "      <td>NaN</td>\n",
       "      <td>NaN</td>\n",
       "      <td>NaN</td>\n",
       "      <td>NaN</td>\n",
       "      <td>NaN</td>\n",
       "      <td>NaN</td>\n",
       "      <td>NaN</td>\n",
       "      <td>NaN</td>\n",
       "      <td>NaN</td>\n",
       "      <td>NaN</td>\n",
       "      <td>NaN</td>\n",
       "      <td>NaN</td>\n",
       "    </tr>\n",
       "    <tr>\n",
       "      <th>104</th>\n",
       "      <td>AB10 1TT</td>\n",
       "      <td>TEAM RECRUITMENT</td>\n",
       "      <td>83</td>\n",
       "      <td>NaN</td>\n",
       "      <td>NaN</td>\n",
       "      <td>NaN</td>\n",
       "      <td>NaN</td>\n",
       "      <td>NaN</td>\n",
       "      <td>NaN</td>\n",
       "      <td>NaN</td>\n",
       "      <td>NaN</td>\n",
       "      <td>NaN</td>\n",
       "      <td>NaN</td>\n",
       "      <td>NaN</td>\n",
       "      <td>NaN</td>\n",
       "      <td>NaN</td>\n",
       "    </tr>\n",
       "    <tr>\n",
       "      <th>107</th>\n",
       "      <td>BN7 2NN</td>\n",
       "      <td>THE CREW ACADEMY (INC \"THE CREW HUNTER\" BRAND)</td>\n",
       "      <td>86</td>\n",
       "      <td>NaN</td>\n",
       "      <td>NaN</td>\n",
       "      <td>NaN</td>\n",
       "      <td>NaN</td>\n",
       "      <td>NaN</td>\n",
       "      <td>NaN</td>\n",
       "      <td>NaN</td>\n",
       "      <td>NaN</td>\n",
       "      <td>NaN</td>\n",
       "      <td>NaN</td>\n",
       "      <td>NaN</td>\n",
       "      <td>NaN</td>\n",
       "      <td>NaN</td>\n",
       "    </tr>\n",
       "    <tr>\n",
       "      <th>114</th>\n",
       "      <td>BH15 4QE</td>\n",
       "      <td>VANTAGE YACHT RECRUITMENT</td>\n",
       "      <td>93</td>\n",
       "      <td>NaN</td>\n",
       "      <td>NaN</td>\n",
       "      <td>NaN</td>\n",
       "      <td>NaN</td>\n",
       "      <td>NaN</td>\n",
       "      <td>NaN</td>\n",
       "      <td>NaN</td>\n",
       "      <td>NaN</td>\n",
       "      <td>NaN</td>\n",
       "      <td>NaN</td>\n",
       "      <td>NaN</td>\n",
       "      <td>NaN</td>\n",
       "      <td>NaN</td>\n",
       "    </tr>\n",
       "    <tr>\n",
       "      <th>115</th>\n",
       "      <td>CT16 2FG</td>\n",
       "      <td>VIKING MARITIME (INCLUDING VIKING CREW AND CHI...</td>\n",
       "      <td>94</td>\n",
       "      <td>NaN</td>\n",
       "      <td>NaN</td>\n",
       "      <td>NaN</td>\n",
       "      <td>NaN</td>\n",
       "      <td>NaN</td>\n",
       "      <td>NaN</td>\n",
       "      <td>NaN</td>\n",
       "      <td>NaN</td>\n",
       "      <td>NaN</td>\n",
       "      <td>NaN</td>\n",
       "      <td>NaN</td>\n",
       "      <td>NaN</td>\n",
       "      <td>NaN</td>\n",
       "    </tr>\n",
       "    <tr>\n",
       "      <th>125</th>\n",
       "      <td>PO15 5SJ</td>\n",
       "      <td>WILSONHALLIGAN YACHT RECRUITMENT</td>\n",
       "      <td>98</td>\n",
       "      <td>NaN</td>\n",
       "      <td>NaN</td>\n",
       "      <td>NaN</td>\n",
       "      <td>NaN</td>\n",
       "      <td>NaN</td>\n",
       "      <td>NaN</td>\n",
       "      <td>NaN</td>\n",
       "      <td>NaN</td>\n",
       "      <td>NaN</td>\n",
       "      <td>NaN</td>\n",
       "      <td>NaN</td>\n",
       "      <td>NaN</td>\n",
       "      <td>NaN</td>\n",
       "    </tr>\n",
       "  </tbody>\n",
       "</table>\n",
       "</div>"
      ],
      "text/plain": [
       "     Postcode                                        CompanyName  unique_id  \\\n",
       "0     W1T 2NS                       19 LONDON - AS 19 YACHT CREW          0   \n",
       "20   SO14 3JZ                                 CB MEDIA (YOTSPOT)         13   \n",
       "22   AB21 7GQ  CLAN PARTNERS (INCORPORATING GLOBAL RESOURCE M...         15   \n",
       "24   HU10 7WG                                          CP MARINE         17   \n",
       "26    M50 2EQ                                         CREW BOARD         19   \n",
       "32   CT16 3PX                                    DFDS SEAWAYS BV         25   \n",
       "42   GU14 7BF                                   FLUOR INDUSTRIAL         33   \n",
       "55   FK16 6EN                      JAB MEDIA T/A JAB RECRUITMENT         43   \n",
       "71    FY4 6GU                      MR MIM WORLD OF ENTERTAINMENT         54   \n",
       "73   KT23 4HN                                    NEPTUNE MANNING         56   \n",
       "74    EN1 3TF                      NEW ENTERTAINMENT AND SERVICE         57   \n",
       "87    DT4 9LY                            ROBSON CREW RECRUITMENT         67   \n",
       "99    PO6 3TD                         STR (TRADING AS NAVIS LTD)         77   \n",
       "104  AB10 1TT                                   TEAM RECRUITMENT         83   \n",
       "107   BN7 2NN     THE CREW ACADEMY (INC \"THE CREW HUNTER\" BRAND)         86   \n",
       "114  BH15 4QE                          VANTAGE YACHT RECRUITMENT         93   \n",
       "115  CT16 2FG  VIKING MARITIME (INCLUDING VIKING CREW AND CHI...         94   \n",
       "125  PO15 5SJ                   WILSONHALLIGAN YACHT RECRUITMENT         98   \n",
       "\n",
       "     match_weight  match_probability source_dataset_l source_dataset_r  \\\n",
       "0             NaN                NaN              NaN              NaN   \n",
       "20            NaN                NaN              NaN              NaN   \n",
       "22            NaN                NaN              NaN              NaN   \n",
       "24            NaN                NaN              NaN              NaN   \n",
       "26            NaN                NaN              NaN              NaN   \n",
       "32            NaN                NaN              NaN              NaN   \n",
       "42            NaN                NaN              NaN              NaN   \n",
       "55            NaN                NaN              NaN              NaN   \n",
       "71            NaN                NaN              NaN              NaN   \n",
       "73            NaN                NaN              NaN              NaN   \n",
       "74            NaN                NaN              NaN              NaN   \n",
       "87            NaN                NaN              NaN              NaN   \n",
       "99            NaN                NaN              NaN              NaN   \n",
       "104           NaN                NaN              NaN              NaN   \n",
       "107           NaN                NaN              NaN              NaN   \n",
       "114           NaN                NaN              NaN              NaN   \n",
       "115           NaN                NaN              NaN              NaN   \n",
       "125           NaN                NaN              NaN              NaN   \n",
       "\n",
       "     unique_id_l  unique_id_r CompanyName_l CompanyName_r  gamma_CompanyName  \\\n",
       "0            NaN          NaN           NaN           NaN                NaN   \n",
       "20           NaN          NaN           NaN           NaN                NaN   \n",
       "22           NaN          NaN           NaN           NaN                NaN   \n",
       "24           NaN          NaN           NaN           NaN                NaN   \n",
       "26           NaN          NaN           NaN           NaN                NaN   \n",
       "32           NaN          NaN           NaN           NaN                NaN   \n",
       "42           NaN          NaN           NaN           NaN                NaN   \n",
       "55           NaN          NaN           NaN           NaN                NaN   \n",
       "71           NaN          NaN           NaN           NaN                NaN   \n",
       "73           NaN          NaN           NaN           NaN                NaN   \n",
       "74           NaN          NaN           NaN           NaN                NaN   \n",
       "87           NaN          NaN           NaN           NaN                NaN   \n",
       "99           NaN          NaN           NaN           NaN                NaN   \n",
       "104          NaN          NaN           NaN           NaN                NaN   \n",
       "107          NaN          NaN           NaN           NaN                NaN   \n",
       "114          NaN          NaN           NaN           NaN                NaN   \n",
       "115          NaN          NaN           NaN           NaN                NaN   \n",
       "125          NaN          NaN           NaN           NaN                NaN   \n",
       "\n",
       "     bf_CompanyName Postcode_l Postcode_r match_key  \n",
       "0               NaN        NaN        NaN       NaN  \n",
       "20              NaN        NaN        NaN       NaN  \n",
       "22              NaN        NaN        NaN       NaN  \n",
       "24              NaN        NaN        NaN       NaN  \n",
       "26              NaN        NaN        NaN       NaN  \n",
       "32              NaN        NaN        NaN       NaN  \n",
       "42              NaN        NaN        NaN       NaN  \n",
       "55              NaN        NaN        NaN       NaN  \n",
       "71              NaN        NaN        NaN       NaN  \n",
       "73              NaN        NaN        NaN       NaN  \n",
       "74              NaN        NaN        NaN       NaN  \n",
       "87              NaN        NaN        NaN       NaN  \n",
       "99              NaN        NaN        NaN       NaN  \n",
       "104             NaN        NaN        NaN       NaN  \n",
       "107             NaN        NaN        NaN       NaN  \n",
       "114             NaN        NaN        NaN       NaN  \n",
       "115             NaN        NaN        NaN       NaN  \n",
       "125             NaN        NaN        NaN       NaN  "
      ]
     },
     "execution_count": 29,
     "metadata": {},
     "output_type": "execute_result"
    }
   ],
   "source": [
    "results = df_m.merge(df_pred,left_on=['unique_id'], right_on=['unique_id_r'],how='left',\n",
    "          suffixes=('_m', '_p'))\n",
    "results[results['match_weight'].isnull()]"
   ]
  },
  {
   "cell_type": "code",
   "execution_count": 30,
   "id": "992fb681",
   "metadata": {},
   "outputs": [
    {
     "data": {
      "text/html": [
       "\n",
       "<style>\n",
       "  #altair-viz-df1a97090e8f4ff3a8c7cf4b559e30eb.vega-embed {\n",
       "    width: 100%;\n",
       "    display: flex;\n",
       "  }\n",
       "\n",
       "  #altair-viz-df1a97090e8f4ff3a8c7cf4b559e30eb.vega-embed details,\n",
       "  #altair-viz-df1a97090e8f4ff3a8c7cf4b559e30eb.vega-embed details summary {\n",
       "    position: relative;\n",
       "  }\n",
       "</style>\n",
       "<div id=\"altair-viz-df1a97090e8f4ff3a8c7cf4b559e30eb\"></div>\n",
       "<script type=\"text/javascript\">\n",
       "  var VEGA_DEBUG = (typeof VEGA_DEBUG == \"undefined\") ? {} : VEGA_DEBUG;\n",
       "  (function(spec, embedOpt){\n",
       "    let outputDiv = document.currentScript.previousElementSibling;\n",
       "    if (outputDiv.id !== \"altair-viz-df1a97090e8f4ff3a8c7cf4b559e30eb\") {\n",
       "      outputDiv = document.getElementById(\"altair-viz-df1a97090e8f4ff3a8c7cf4b559e30eb\");\n",
       "    }\n",
       "    const paths = {\n",
       "      \"vega\": \"https://cdn.jsdelivr.net/npm/vega@5?noext\",\n",
       "      \"vega-lib\": \"https://cdn.jsdelivr.net/npm/vega-lib?noext\",\n",
       "      \"vega-lite\": \"https://cdn.jsdelivr.net/npm/vega-lite@5.8.0?noext\",\n",
       "      \"vega-embed\": \"https://cdn.jsdelivr.net/npm/vega-embed@6?noext\",\n",
       "    };\n",
       "\n",
       "    function maybeLoadScript(lib, version) {\n",
       "      var key = `${lib.replace(\"-\", \"\")}_version`;\n",
       "      return (VEGA_DEBUG[key] == version) ?\n",
       "        Promise.resolve(paths[lib]) :\n",
       "        new Promise(function(resolve, reject) {\n",
       "          var s = document.createElement('script');\n",
       "          document.getElementsByTagName(\"head\")[0].appendChild(s);\n",
       "          s.async = true;\n",
       "          s.onload = () => {\n",
       "            VEGA_DEBUG[key] = version;\n",
       "            return resolve(paths[lib]);\n",
       "          };\n",
       "          s.onerror = () => reject(`Error loading script: ${paths[lib]}`);\n",
       "          s.src = paths[lib];\n",
       "        });\n",
       "    }\n",
       "\n",
       "    function showError(err) {\n",
       "      outputDiv.innerHTML = `<div class=\"error\" style=\"color:red;\">${err}</div>`;\n",
       "      throw err;\n",
       "    }\n",
       "\n",
       "    function displayChart(vegaEmbed) {\n",
       "      vegaEmbed(outputDiv, spec, embedOpt)\n",
       "        .catch(err => showError(`Javascript Error: ${err.message}<br>This usually means there's a typo in your chart specification. See the javascript console for the full traceback.`));\n",
       "    }\n",
       "\n",
       "    if(typeof define === \"function\" && define.amd) {\n",
       "      requirejs.config({paths});\n",
       "      require([\"vega-embed\"], displayChart, err => showError(`Error loading script: ${err.message}`));\n",
       "    } else {\n",
       "      maybeLoadScript(\"vega\", \"5\")\n",
       "        .then(() => maybeLoadScript(\"vega-lite\", \"5.8.0\"))\n",
       "        .then(() => maybeLoadScript(\"vega-embed\", \"6\"))\n",
       "        .catch(showError)\n",
       "        .then(() => displayChart(vegaEmbed));\n",
       "    }\n",
       "  })({\"config\": {\"view\": {\"continuousWidth\": 400, \"continuousHeight\": 300}}, \"layer\": [{\"layer\": [{\"mark\": \"rule\", \"encoding\": {\"color\": {\"value\": \"black\"}, \"size\": {\"value\": 0.5}, \"y\": {\"field\": \"zero\", \"type\": \"quantitative\"}}}, {\"mark\": {\"type\": \"bar\", \"width\": 60}, \"encoding\": {\"color\": {\"condition\": {\"test\": \"(datum.log2_bayes_factor < 0)\", \"value\": \"red\"}, \"value\": \"green\"}, \"opacity\": {\"condition\": {\"test\": \"datum.column_name == 'Prior match weight' || datum.column_name == 'Final score'\", \"value\": 1}, \"value\": 0.5}, \"tooltip\": [{\"field\": \"column_name\", \"title\": \"Comparison column\", \"type\": \"nominal\"}, {\"field\": \"value_l\", \"title\": \"Value (L)\", \"type\": \"nominal\"}, {\"field\": \"value_r\", \"title\": \"Value (R)\", \"type\": \"nominal\"}, {\"field\": \"label_for_charts\", \"title\": \"Label\", \"type\": \"ordinal\"}, {\"field\": \"sql_condition\", \"title\": \"SQL condition\", \"type\": \"nominal\"}, {\"field\": \"comparison_vector_value\", \"title\": \"Comparison vector value\", \"type\": \"nominal\"}, {\"field\": \"bayes_factor\", \"format\": \",.4f\", \"title\": \"Bayes factor = m/u\", \"type\": \"quantitative\"}, {\"field\": \"log2_bayes_factor\", \"format\": \",.4f\", \"title\": \"Match weight = log2(m/u)\", \"type\": \"quantitative\"}, {\"field\": \"prob\", \"format\": \".4f\", \"title\": \"Adjusted match score\", \"type\": \"quantitative\"}, {\"field\": \"bayes_factor_description\", \"title\": \"Match weight description\", \"type\": \"nominal\"}], \"x\": {\"axis\": {\"grid\": true, \"labelAlign\": \"center\", \"labelAngle\": -20, \"labelExpr\": \"datum.value == 'Prior' || datum.value == 'Final score' ? '' : datum.value\", \"labelPadding\": 10, \"tickBand\": \"extent\", \"title\": \"Column\"}, \"field\": \"column_name\", \"sort\": {\"field\": \"bar_sort_order\", \"order\": \"ascending\"}, \"type\": \"nominal\"}, \"y\": {\"axis\": {\"grid\": false, \"orient\": \"left\", \"title\": \"log2(Bayes factor)\"}, \"field\": \"previous_sum\", \"type\": \"quantitative\"}, \"y2\": {\"field\": \"sum\"}}}, {\"mark\": {\"type\": \"text\", \"fontWeight\": \"bold\"}, \"encoding\": {\"color\": {\"value\": \"white\"}, \"text\": {\"condition\": {\"test\": \"abs(datum.log2_bayes_factor) > 1\", \"field\": \"log2_bayes_factor\", \"format\": \".2f\", \"type\": \"nominal\"}, \"value\": \"\"}, \"x\": {\"axis\": {\"labelAngle\": -20, \"title\": \"Column\"}, \"field\": \"column_name\", \"sort\": {\"field\": \"bar_sort_order\", \"order\": \"ascending\"}, \"type\": \"nominal\"}, \"y\": {\"axis\": {\"orient\": \"left\"}, \"field\": \"center\", \"type\": \"quantitative\"}}}, {\"mark\": {\"type\": \"text\", \"baseline\": \"bottom\", \"dy\": -25, \"fontWeight\": \"bold\"}, \"encoding\": {\"color\": {\"value\": \"black\"}, \"text\": {\"field\": \"column_name\", \"type\": \"nominal\"}, \"x\": {\"axis\": {\"labelAngle\": -20, \"title\": \"Column\"}, \"field\": \"column_name\", \"sort\": {\"field\": \"bar_sort_order\", \"order\": \"ascending\"}, \"type\": \"nominal\"}, \"y\": {\"field\": \"sum_top\", \"type\": \"quantitative\"}}}, {\"mark\": {\"type\": \"text\", \"baseline\": \"bottom\", \"dy\": -13, \"fontSize\": 8}, \"encoding\": {\"color\": {\"value\": \"grey\"}, \"text\": {\"field\": \"value_l\", \"type\": \"nominal\"}, \"x\": {\"axis\": {\"labelAngle\": -20, \"title\": \"Column\"}, \"field\": \"column_name\", \"sort\": {\"field\": \"bar_sort_order\", \"order\": \"ascending\"}, \"type\": \"nominal\"}, \"y\": {\"field\": \"sum_top\", \"type\": \"quantitative\"}}}, {\"mark\": {\"type\": \"text\", \"baseline\": \"bottom\", \"dy\": -5, \"fontSize\": 8}, \"encoding\": {\"color\": {\"value\": \"grey\"}, \"text\": {\"field\": \"value_r\", \"type\": \"nominal\"}, \"x\": {\"axis\": {\"labelAngle\": -20, \"title\": \"Column\"}, \"field\": \"column_name\", \"sort\": {\"field\": \"bar_sort_order\", \"order\": \"ascending\"}, \"type\": \"nominal\"}, \"y\": {\"field\": \"sum_top\", \"type\": \"quantitative\"}}}]}, {\"mark\": {\"type\": \"rule\", \"color\": \"black\", \"strokeWidth\": 2, \"x2Offset\": 30, \"xOffset\": -30}, \"encoding\": {\"x\": {\"axis\": {\"labelAngle\": -20, \"title\": \"Column\"}, \"field\": \"column_name\", \"sort\": {\"field\": \"bar_sort_order\", \"order\": \"ascending\"}, \"type\": \"nominal\"}, \"x2\": {\"field\": \"lead\"}, \"y\": {\"axis\": {\"labelExpr\": \"format(1 / (1 + pow(2, -1*datum.value)), '.2r')\", \"orient\": \"right\", \"title\": \"Probability\"}, \"field\": \"sum\", \"scale\": {\"zero\": false}, \"type\": \"quantitative\"}}}], \"data\": {\"name\": \"data-cc3052ed156f71eb21b97ae7f73138f2\"}, \"height\": 450, \"params\": [{\"name\": \"record_number\", \"bind\": {\"input\": \"range\", \"max\": 109, \"min\": 0, \"step\": 1}, \"value\": 0}], \"resolve\": {\"axis\": {\"y\": \"independent\"}}, \"title\": {\"text\": \"Match weights waterfall chart\", \"subtitle\": \"How each comparison contributes to the final match score\"}, \"transform\": [{\"filter\": \"(datum.record_number == record_number)\"}, {\"filter\": \"(datum.bayes_factor !== 1.0)\"}, {\"window\": [{\"op\": \"sum\", \"field\": \"log2_bayes_factor\", \"as\": \"sum\"}, {\"op\": \"lead\", \"field\": \"column_name\", \"as\": \"lead\"}], \"frame\": [null, 0]}, {\"calculate\": \"datum.column_name === \\\"Final score\\\" ? datum.sum - datum.log2_bayes_factor : datum.sum\", \"as\": \"sum\"}, {\"calculate\": \"datum.lead === null ? datum.column_name : datum.lead\", \"as\": \"lead\"}, {\"calculate\": \"datum.column_name === \\\"Final score\\\" || datum.column_name === \\\"Prior match weight\\\" ? 0 : datum.sum - datum.log2_bayes_factor\", \"as\": \"previous_sum\"}, {\"calculate\": \"datum.sum > datum.previous_sum ? datum.column_name : \\\"\\\"\", \"as\": \"top_label\"}, {\"calculate\": \"datum.sum < datum.previous_sum ? datum.column_name : \\\"\\\"\", \"as\": \"bottom_label\"}, {\"calculate\": \"datum.sum > datum.previous_sum ? datum.sum : datum.previous_sum\", \"as\": \"sum_top\"}, {\"calculate\": \"datum.sum < datum.previous_sum ? datum.sum : datum.previous_sum\", \"as\": \"sum_bottom\"}, {\"calculate\": \"(datum.sum + datum.previous_sum) / 2\", \"as\": \"center\"}, {\"calculate\": \"(datum.log2_bayes_factor > 0 ? \\\"+\\\" : \\\"\\\") + datum.log2_bayes_factor\", \"as\": \"text_log2_bayes_factor\"}, {\"calculate\": \"datum.sum < datum.previous_sum ? 4 : -4\", \"as\": \"dy\"}, {\"calculate\": \"datum.sum < datum.previous_sum ? \\\"top\\\" : \\\"bottom\\\"\", \"as\": \"baseline\"}, {\"calculate\": \"1. / (1 + pow(2, -1.*datum.sum))\", \"as\": \"prob\"}, {\"calculate\": \"0*datum.sum\", \"as\": \"zero\"}], \"width\": {\"step\": 75}, \"$schema\": \"https://vega.github.io/schema/vega-lite/v5.9.3.json\", \"datasets\": {\"data-cc3052ed156f71eb21b97ae7f73138f2\": [{\"column_name\": \"Prior\", \"label_for_charts\": \"Starting match weight (prior)\", \"sql_condition\": null, \"log2_bayes_factor\": -13.287568102831404, \"bayes_factor\": 0.00010001000100010001, \"comparison_vector_value\": null, \"m_probability\": null, \"u_probability\": null, \"bayes_factor_description\": null, \"value_l\": \"\", \"value_r\": \"\", \"term_frequency_adjustment\": null, \"bar_sort_order\": 0, \"record_number\": 0}, {\"column_name\": \"CompanyName\", \"label_for_charts\": \"Jaro_winkler_similarity >= 0.9\", \"sql_condition\": \"jaro_winkler_similarity(\\\"CompanyName_l\\\", \\\"CompanyName_r\\\") >= 0.9\", \"log2_bayes_factor\": 13.81059225609019, \"bayes_factor\": 14368.205372342858, \"comparison_vector_value\": 2, \"m_probability\": 0.11876947513581855, \"u_probability\": 8.266131507588006e-06, \"bayes_factor_description\": \"If comparison level is `jaro_winkler_similarity >= 0.9` then comparison is 14,368.21 times more likely to be a match\", \"value_l\": \"ADVANCE GLOBAL RECRUITMENT (HOLDINGS)\", \"value_r\": \"ADVANCE GLOBAL RECRUITMENT\", \"term_frequency_adjustment\": false, \"bar_sort_order\": 1, \"record_number\": 0}, {\"column_name\": \"Final score\", \"label_for_charts\": \"Final score\", \"sql_condition\": null, \"log2_bayes_factor\": 0.5230241532587857, \"bayes_factor\": 1.4369642336576514, \"comparison_vector_value\": null, \"m_probability\": null, \"u_probability\": null, \"bayes_factor_description\": null, \"value_l\": \"\", \"value_r\": \"\", \"term_frequency_adjustment\": null, \"bar_sort_order\": 2, \"record_number\": 0}, {\"column_name\": \"Prior\", \"label_for_charts\": \"Starting match weight (prior)\", \"sql_condition\": null, \"log2_bayes_factor\": -13.287568102831404, \"bayes_factor\": 0.00010001000100010001, \"comparison_vector_value\": null, \"m_probability\": null, \"u_probability\": null, \"bayes_factor_description\": null, \"value_l\": \"\", \"value_r\": \"\", \"term_frequency_adjustment\": null, \"bar_sort_order\": 0, \"record_number\": 1}, {\"column_name\": \"CompanyName\", \"label_for_charts\": \"Exact match\", \"sql_condition\": \"\\\"CompanyName_l\\\" = \\\"CompanyName_r\\\"\", \"log2_bayes_factor\": 21.758225657453238, \"bayes_factor\": 3547142.00590578, \"comparison_vector_value\": 3, \"m_probability\": 0.8623865381443143, \"u_probability\": 2.43121514929059e-07, \"bayes_factor_description\": \"If comparison level is `exact match` then comparison is 3,547,142.01 times more likely to be a match\", \"value_l\": \"ADVANCE GLOBAL RECRUITMENT\", \"value_r\": \"ADVANCE GLOBAL RECRUITMENT\", \"term_frequency_adjustment\": false, \"bar_sort_order\": 1, \"record_number\": 1}, {\"column_name\": \"Final score\", \"label_for_charts\": \"Final score\", \"sql_condition\": null, \"log2_bayes_factor\": 8.470657554621832, \"bayes_factor\": 354.7496755581337, \"comparison_vector_value\": null, \"m_probability\": null, \"u_probability\": null, \"bayes_factor_description\": null, \"value_l\": \"\", \"value_r\": \"\", \"term_frequency_adjustment\": null, \"bar_sort_order\": 2, \"record_number\": 1}, {\"column_name\": \"Prior\", \"label_for_charts\": \"Starting match weight (prior)\", \"sql_condition\": null, \"log2_bayes_factor\": -13.287568102831404, \"bayes_factor\": 0.00010001000100010001, \"comparison_vector_value\": null, \"m_probability\": null, \"u_probability\": null, \"bayes_factor_description\": null, \"value_l\": \"\", \"value_r\": \"\", \"term_frequency_adjustment\": null, \"bar_sort_order\": 0, \"record_number\": 2}, {\"column_name\": \"CompanyName\", \"label_for_charts\": \"Jaro_winkler_similarity >= 0.9\", \"sql_condition\": \"jaro_winkler_similarity(\\\"CompanyName_l\\\", \\\"CompanyName_r\\\") >= 0.9\", \"log2_bayes_factor\": 13.81059225609019, \"bayes_factor\": 14368.205372342858, \"comparison_vector_value\": 2, \"m_probability\": 0.11876947513581855, \"u_probability\": 8.266131507588006e-06, \"bayes_factor_description\": \"If comparison level is `jaro_winkler_similarity >= 0.9` then comparison is 14,368.21 times more likely to be a match\", \"value_l\": \"ADVANCED RESOURCE MANAGERS ENGINEERING\", \"value_r\": \"ADVANCED RESOURCE MANAGERS\", \"term_frequency_adjustment\": false, \"bar_sort_order\": 1, \"record_number\": 2}, {\"column_name\": \"Final score\", \"label_for_charts\": \"Final score\", \"sql_condition\": null, \"log2_bayes_factor\": 0.5230241532587857, \"bayes_factor\": 1.4369642336576514, \"comparison_vector_value\": null, \"m_probability\": null, \"u_probability\": null, \"bayes_factor_description\": null, \"value_l\": \"\", \"value_r\": \"\", \"term_frequency_adjustment\": null, \"bar_sort_order\": 2, \"record_number\": 2}, {\"column_name\": \"Prior\", \"label_for_charts\": \"Starting match weight (prior)\", \"sql_condition\": null, \"log2_bayes_factor\": -13.287568102831404, \"bayes_factor\": 0.00010001000100010001, \"comparison_vector_value\": null, \"m_probability\": null, \"u_probability\": null, \"bayes_factor_description\": null, \"value_l\": \"\", \"value_r\": \"\", \"term_frequency_adjustment\": null, \"bar_sort_order\": 0, \"record_number\": 3}, {\"column_name\": \"CompanyName\", \"label_for_charts\": \"Jaro_winkler_similarity >= 0.9\", \"sql_condition\": \"jaro_winkler_similarity(\\\"CompanyName_l\\\", \\\"CompanyName_r\\\") >= 0.9\", \"log2_bayes_factor\": 13.81059225609019, \"bayes_factor\": 14368.205372342858, \"comparison_vector_value\": 2, \"m_probability\": 0.11876947513581855, \"u_probability\": 8.266131507588006e-06, \"bayes_factor_description\": \"If comparison level is `jaro_winkler_similarity >= 0.9` then comparison is 14,368.21 times more likely to be a match\", \"value_l\": \"ADVANCED RESOURCE MANAGERS IT\", \"value_r\": \"ADVANCED RESOURCE MANAGERS\", \"term_frequency_adjustment\": false, \"bar_sort_order\": 1, \"record_number\": 3}, {\"column_name\": \"Final score\", \"label_for_charts\": \"Final score\", \"sql_condition\": null, \"log2_bayes_factor\": 0.5230241532587857, \"bayes_factor\": 1.4369642336576514, \"comparison_vector_value\": null, \"m_probability\": null, \"u_probability\": null, \"bayes_factor_description\": null, \"value_l\": \"\", \"value_r\": \"\", \"term_frequency_adjustment\": null, \"bar_sort_order\": 2, \"record_number\": 3}, {\"column_name\": \"Prior\", \"label_for_charts\": \"Starting match weight (prior)\", \"sql_condition\": null, \"log2_bayes_factor\": -13.287568102831404, \"bayes_factor\": 0.00010001000100010001, \"comparison_vector_value\": null, \"m_probability\": null, \"u_probability\": null, \"bayes_factor_description\": null, \"value_l\": \"\", \"value_r\": \"\", \"term_frequency_adjustment\": null, \"bar_sort_order\": 0, \"record_number\": 4}, {\"column_name\": \"CompanyName\", \"label_for_charts\": \"Exact match\", \"sql_condition\": \"\\\"CompanyName_l\\\" = \\\"CompanyName_r\\\"\", \"log2_bayes_factor\": 21.758225657453238, \"bayes_factor\": 3547142.00590578, \"comparison_vector_value\": 3, \"m_probability\": 0.8623865381443143, \"u_probability\": 2.43121514929059e-07, \"bayes_factor_description\": \"If comparison level is `exact match` then comparison is 3,547,142.01 times more likely to be a match\", \"value_l\": \"ADVANCED RESOURCE MANAGERS\", \"value_r\": \"ADVANCED RESOURCE MANAGERS\", \"term_frequency_adjustment\": false, \"bar_sort_order\": 1, \"record_number\": 4}, {\"column_name\": \"Final score\", \"label_for_charts\": \"Final score\", \"sql_condition\": null, \"log2_bayes_factor\": 8.470657554621832, \"bayes_factor\": 354.7496755581337, \"comparison_vector_value\": null, \"m_probability\": null, \"u_probability\": null, \"bayes_factor_description\": null, \"value_l\": \"\", \"value_r\": \"\", \"term_frequency_adjustment\": null, \"bar_sort_order\": 2, \"record_number\": 4}, {\"column_name\": \"Prior\", \"label_for_charts\": \"Starting match weight (prior)\", \"sql_condition\": null, \"log2_bayes_factor\": -13.287568102831404, \"bayes_factor\": 0.00010001000100010001, \"comparison_vector_value\": null, \"m_probability\": null, \"u_probability\": null, \"bayes_factor_description\": null, \"value_l\": \"\", \"value_r\": \"\", \"term_frequency_adjustment\": null, \"bar_sort_order\": 0, \"record_number\": 5}, {\"column_name\": \"CompanyName\", \"label_for_charts\": \"Exact match\", \"sql_condition\": \"\\\"CompanyName_l\\\" = \\\"CompanyName_r\\\"\", \"log2_bayes_factor\": 21.758225657453238, \"bayes_factor\": 3547142.00590578, \"comparison_vector_value\": 3, \"m_probability\": 0.8623865381443143, \"u_probability\": 2.43121514929059e-07, \"bayes_factor_description\": \"If comparison level is `exact match` then comparison is 3,547,142.01 times more likely to be a match\", \"value_l\": \"DE MONTFORT FINE ART\", \"value_r\": \"DE MONTFORT FINE ART\", \"term_frequency_adjustment\": false, \"bar_sort_order\": 1, \"record_number\": 5}, {\"column_name\": \"Final score\", \"label_for_charts\": \"Final score\", \"sql_condition\": null, \"log2_bayes_factor\": 8.470657554621832, \"bayes_factor\": 354.7496755581337, \"comparison_vector_value\": null, \"m_probability\": null, \"u_probability\": null, \"bayes_factor_description\": null, \"value_l\": \"\", \"value_r\": \"\", \"term_frequency_adjustment\": null, \"bar_sort_order\": 2, \"record_number\": 5}, {\"column_name\": \"Prior\", \"label_for_charts\": \"Starting match weight (prior)\", \"sql_condition\": null, \"log2_bayes_factor\": -13.287568102831404, \"bayes_factor\": 0.00010001000100010001, \"comparison_vector_value\": null, \"m_probability\": null, \"u_probability\": null, \"bayes_factor_description\": null, \"value_l\": \"\", \"value_r\": \"\", \"term_frequency_adjustment\": null, \"bar_sort_order\": 0, \"record_number\": 6}, {\"column_name\": \"CompanyName\", \"label_for_charts\": \"Exact match\", \"sql_condition\": \"\\\"CompanyName_l\\\" = \\\"CompanyName_r\\\"\", \"log2_bayes_factor\": 21.758225657453238, \"bayes_factor\": 3547142.00590578, \"comparison_vector_value\": 3, \"m_probability\": 0.8623865381443143, \"u_probability\": 2.43121514929059e-07, \"bayes_factor_description\": \"If comparison level is `exact match` then comparison is 3,547,142.01 times more likely to be a match\", \"value_l\": \"DEESIDE CREWING\", \"value_r\": \"DEESIDE CREWING\", \"term_frequency_adjustment\": false, \"bar_sort_order\": 1, \"record_number\": 6}, {\"column_name\": \"Final score\", \"label_for_charts\": \"Final score\", \"sql_condition\": null, \"log2_bayes_factor\": 8.470657554621832, \"bayes_factor\": 354.7496755581337, \"comparison_vector_value\": null, \"m_probability\": null, \"u_probability\": null, \"bayes_factor_description\": null, \"value_l\": \"\", \"value_r\": \"\", \"term_frequency_adjustment\": null, \"bar_sort_order\": 2, \"record_number\": 6}, {\"column_name\": \"Prior\", \"label_for_charts\": \"Starting match weight (prior)\", \"sql_condition\": null, \"log2_bayes_factor\": -13.287568102831404, \"bayes_factor\": 0.00010001000100010001, \"comparison_vector_value\": null, \"m_probability\": null, \"u_probability\": null, \"bayes_factor_description\": null, \"value_l\": \"\", \"value_r\": \"\", \"term_frequency_adjustment\": null, \"bar_sort_order\": 0, \"record_number\": 7}, {\"column_name\": \"CompanyName\", \"label_for_charts\": \"Exact match\", \"sql_condition\": \"\\\"CompanyName_l\\\" = \\\"CompanyName_r\\\"\", \"log2_bayes_factor\": 21.758225657453238, \"bayes_factor\": 3547142.00590578, \"comparison_vector_value\": 3, \"m_probability\": 0.8623865381443143, \"u_probability\": 2.43121514929059e-07, \"bayes_factor_description\": \"If comparison level is `exact match` then comparison is 3,547,142.01 times more likely to be a match\", \"value_l\": \"LUNA ROSSA PRODUCTIONS\", \"value_r\": \"LUNA ROSSA PRODUCTIONS\", \"term_frequency_adjustment\": false, \"bar_sort_order\": 1, \"record_number\": 7}, {\"column_name\": \"Final score\", \"label_for_charts\": \"Final score\", \"sql_condition\": null, \"log2_bayes_factor\": 8.470657554621832, \"bayes_factor\": 354.7496755581337, \"comparison_vector_value\": null, \"m_probability\": null, \"u_probability\": null, \"bayes_factor_description\": null, \"value_l\": \"\", \"value_r\": \"\", \"term_frequency_adjustment\": null, \"bar_sort_order\": 2, \"record_number\": 7}, {\"column_name\": \"Prior\", \"label_for_charts\": \"Starting match weight (prior)\", \"sql_condition\": null, \"log2_bayes_factor\": -13.287568102831404, \"bayes_factor\": 0.00010001000100010001, \"comparison_vector_value\": null, \"m_probability\": null, \"u_probability\": null, \"bayes_factor_description\": null, \"value_l\": \"\", \"value_r\": \"\", \"term_frequency_adjustment\": null, \"bar_sort_order\": 0, \"record_number\": 8}, {\"column_name\": \"CompanyName\", \"label_for_charts\": \"Exact match\", \"sql_condition\": \"\\\"CompanyName_l\\\" = \\\"CompanyName_r\\\"\", \"log2_bayes_factor\": 21.758225657453238, \"bayes_factor\": 3547142.00590578, \"comparison_vector_value\": 3, \"m_probability\": 0.8623865381443143, \"u_probability\": 2.43121514929059e-07, \"bayes_factor_description\": \"If comparison level is `exact match` then comparison is 3,547,142.01 times more likely to be a match\", \"value_l\": \"TAYLOR HOPKINSON\", \"value_r\": \"TAYLOR HOPKINSON\", \"term_frequency_adjustment\": false, \"bar_sort_order\": 1, \"record_number\": 8}, {\"column_name\": \"Final score\", \"label_for_charts\": \"Final score\", \"sql_condition\": null, \"log2_bayes_factor\": 8.470657554621832, \"bayes_factor\": 354.7496755581337, \"comparison_vector_value\": null, \"m_probability\": null, \"u_probability\": null, \"bayes_factor_description\": null, \"value_l\": \"\", \"value_r\": \"\", \"term_frequency_adjustment\": null, \"bar_sort_order\": 2, \"record_number\": 8}, {\"column_name\": \"Prior\", \"label_for_charts\": \"Starting match weight (prior)\", \"sql_condition\": null, \"log2_bayes_factor\": -13.287568102831404, \"bayes_factor\": 0.00010001000100010001, \"comparison_vector_value\": null, \"m_probability\": null, \"u_probability\": null, \"bayes_factor_description\": null, \"value_l\": \"\", \"value_r\": \"\", \"term_frequency_adjustment\": null, \"bar_sort_order\": 0, \"record_number\": 9}, {\"column_name\": \"CompanyName\", \"label_for_charts\": \"Exact match\", \"sql_condition\": \"\\\"CompanyName_l\\\" = \\\"CompanyName_r\\\"\", \"log2_bayes_factor\": 21.758225657453238, \"bayes_factor\": 3547142.00590578, \"comparison_vector_value\": 3, \"m_probability\": 0.8623865381443143, \"u_probability\": 2.43121514929059e-07, \"bayes_factor_description\": \"If comparison level is `exact match` then comparison is 3,547,142.01 times more likely to be a match\", \"value_l\": \"TECH PROFESSIONALS\", \"value_r\": \"TECH PROFESSIONALS\", \"term_frequency_adjustment\": false, \"bar_sort_order\": 1, \"record_number\": 9}, {\"column_name\": \"Final score\", \"label_for_charts\": \"Final score\", \"sql_condition\": null, \"log2_bayes_factor\": 8.470657554621832, \"bayes_factor\": 354.7496755581337, \"comparison_vector_value\": null, \"m_probability\": null, \"u_probability\": null, \"bayes_factor_description\": null, \"value_l\": \"\", \"value_r\": \"\", \"term_frequency_adjustment\": null, \"bar_sort_order\": 2, \"record_number\": 9}, {\"column_name\": \"Prior\", \"label_for_charts\": \"Starting match weight (prior)\", \"sql_condition\": null, \"log2_bayes_factor\": -13.287568102831404, \"bayes_factor\": 0.00010001000100010001, \"comparison_vector_value\": null, \"m_probability\": null, \"u_probability\": null, \"bayes_factor_description\": null, \"value_l\": \"\", \"value_r\": \"\", \"term_frequency_adjustment\": null, \"bar_sort_order\": 0, \"record_number\": 10}, {\"column_name\": \"CompanyName\", \"label_for_charts\": \"Exact match\", \"sql_condition\": \"\\\"CompanyName_l\\\" = \\\"CompanyName_r\\\"\", \"log2_bayes_factor\": 21.758225657453238, \"bayes_factor\": 3547142.00590578, \"comparison_vector_value\": 3, \"m_probability\": 0.8623865381443143, \"u_probability\": 2.43121514929059e-07, \"bayes_factor_description\": \"If comparison level is `exact match` then comparison is 3,547,142.01 times more likely to be a match\", \"value_l\": \"THE AGENCY EXCELLENT ENTERTAINMENT\", \"value_r\": \"THE AGENCY EXCELLENT ENTERTAINMENT\", \"term_frequency_adjustment\": false, \"bar_sort_order\": 1, \"record_number\": 10}, {\"column_name\": \"Final score\", \"label_for_charts\": \"Final score\", \"sql_condition\": null, \"log2_bayes_factor\": 8.470657554621832, \"bayes_factor\": 354.7496755581337, \"comparison_vector_value\": null, \"m_probability\": null, \"u_probability\": null, \"bayes_factor_description\": null, \"value_l\": \"\", \"value_r\": \"\", \"term_frequency_adjustment\": null, \"bar_sort_order\": 2, \"record_number\": 10}, {\"column_name\": \"Prior\", \"label_for_charts\": \"Starting match weight (prior)\", \"sql_condition\": null, \"log2_bayes_factor\": -13.287568102831404, \"bayes_factor\": 0.00010001000100010001, \"comparison_vector_value\": null, \"m_probability\": null, \"u_probability\": null, \"bayes_factor_description\": null, \"value_l\": \"\", \"value_r\": \"\", \"term_frequency_adjustment\": null, \"bar_sort_order\": 0, \"record_number\": 11}, {\"column_name\": \"CompanyName\", \"label_for_charts\": \"Exact match\", \"sql_condition\": \"\\\"CompanyName_l\\\" = \\\"CompanyName_r\\\"\", \"log2_bayes_factor\": 21.758225657453238, \"bayes_factor\": 3547142.00590578, \"comparison_vector_value\": 3, \"m_probability\": 0.8623865381443143, \"u_probability\": 2.43121514929059e-07, \"bayes_factor_description\": \"If comparison level is `exact match` then comparison is 3,547,142.01 times more likely to be a match\", \"value_l\": \"BESPOKE CREW\", \"value_r\": \"BESPOKE CREW\", \"term_frequency_adjustment\": false, \"bar_sort_order\": 1, \"record_number\": 11}, {\"column_name\": \"Final score\", \"label_for_charts\": \"Final score\", \"sql_condition\": null, \"log2_bayes_factor\": 8.470657554621832, \"bayes_factor\": 354.7496755581337, \"comparison_vector_value\": null, \"m_probability\": null, \"u_probability\": null, \"bayes_factor_description\": null, \"value_l\": \"\", \"value_r\": \"\", \"term_frequency_adjustment\": null, \"bar_sort_order\": 2, \"record_number\": 11}, {\"column_name\": \"Prior\", \"label_for_charts\": \"Starting match weight (prior)\", \"sql_condition\": null, \"log2_bayes_factor\": -13.287568102831404, \"bayes_factor\": 0.00010001000100010001, \"comparison_vector_value\": null, \"m_probability\": null, \"u_probability\": null, \"bayes_factor_description\": null, \"value_l\": \"\", \"value_r\": \"\", \"term_frequency_adjustment\": null, \"bar_sort_order\": 0, \"record_number\": 12}, {\"column_name\": \"CompanyName\", \"label_for_charts\": \"Jaro_winkler_similarity >= 0.9\", \"sql_condition\": \"jaro_winkler_similarity(\\\"CompanyName_l\\\", \\\"CompanyName_r\\\") >= 0.9\", \"log2_bayes_factor\": 13.81059225609019, \"bayes_factor\": 14368.205372342858, \"comparison_vector_value\": 2, \"m_probability\": 0.11876947513581855, \"u_probability\": 8.266131507588006e-06, \"bayes_factor_description\": \"If comparison level is `jaro_winkler_similarity >= 0.9` then comparison is 14,368.21 times more likely to be a match\", \"value_l\": \"CPOWER ENERGY\", \"value_r\": \"C POWER ENERGY\", \"term_frequency_adjustment\": false, \"bar_sort_order\": 1, \"record_number\": 12}, {\"column_name\": \"Final score\", \"label_for_charts\": \"Final score\", \"sql_condition\": null, \"log2_bayes_factor\": 0.5230241532587857, \"bayes_factor\": 1.4369642336576514, \"comparison_vector_value\": null, \"m_probability\": null, \"u_probability\": null, \"bayes_factor_description\": null, \"value_l\": \"\", \"value_r\": \"\", \"term_frequency_adjustment\": null, \"bar_sort_order\": 2, \"record_number\": 12}, {\"column_name\": \"Prior\", \"label_for_charts\": \"Starting match weight (prior)\", \"sql_condition\": null, \"log2_bayes_factor\": -13.287568102831404, \"bayes_factor\": 0.00010001000100010001, \"comparison_vector_value\": null, \"m_probability\": null, \"u_probability\": null, \"bayes_factor_description\": null, \"value_l\": \"\", \"value_r\": \"\", \"term_frequency_adjustment\": null, \"bar_sort_order\": 0, \"record_number\": 13}, {\"column_name\": \"CompanyName\", \"label_for_charts\": \"Jaro_winkler_similarity >= 0.9\", \"sql_condition\": \"jaro_winkler_similarity(\\\"CompanyName_l\\\", \\\"CompanyName_r\\\") >= 0.9\", \"log2_bayes_factor\": 13.81059225609019, \"bayes_factor\": 14368.205372342858, \"comparison_vector_value\": 2, \"m_probability\": 0.11876947513581855, \"u_probability\": 8.266131507588006e-06, \"bayes_factor_description\": \"If comparison level is `jaro_winkler_similarity >= 0.9` then comparison is 14,368.21 times more likely to be a match\", \"value_l\": \"CREW & CONCIERGE\", \"value_r\": \"CREW AND CONCIERGE\", \"term_frequency_adjustment\": false, \"bar_sort_order\": 1, \"record_number\": 13}, {\"column_name\": \"Final score\", \"label_for_charts\": \"Final score\", \"sql_condition\": null, \"log2_bayes_factor\": 0.5230241532587857, \"bayes_factor\": 1.4369642336576514, \"comparison_vector_value\": null, \"m_probability\": null, \"u_probability\": null, \"bayes_factor_description\": null, \"value_l\": \"\", \"value_r\": \"\", \"term_frequency_adjustment\": null, \"bar_sort_order\": 2, \"record_number\": 13}, {\"column_name\": \"Prior\", \"label_for_charts\": \"Starting match weight (prior)\", \"sql_condition\": null, \"log2_bayes_factor\": -13.287568102831404, \"bayes_factor\": 0.00010001000100010001, \"comparison_vector_value\": null, \"m_probability\": null, \"u_probability\": null, \"bayes_factor_description\": null, \"value_l\": \"\", \"value_r\": \"\", \"term_frequency_adjustment\": null, \"bar_sort_order\": 0, \"record_number\": 14}, {\"column_name\": \"CompanyName\", \"label_for_charts\": \"Exact match\", \"sql_condition\": \"\\\"CompanyName_l\\\" = \\\"CompanyName_r\\\"\", \"log2_bayes_factor\": 21.758225657453238, \"bayes_factor\": 3547142.00590578, \"comparison_vector_value\": 3, \"m_probability\": 0.8623865381443143, \"u_probability\": 2.43121514929059e-07, \"bayes_factor_description\": \"If comparison level is `exact match` then comparison is 3,547,142.01 times more likely to be a match\", \"value_l\": \"CREWING (ABERDEEN)\", \"value_r\": \"CREWING (ABERDEEN)\", \"term_frequency_adjustment\": false, \"bar_sort_order\": 1, \"record_number\": 14}, {\"column_name\": \"Final score\", \"label_for_charts\": \"Final score\", \"sql_condition\": null, \"log2_bayes_factor\": 8.470657554621832, \"bayes_factor\": 354.7496755581337, \"comparison_vector_value\": null, \"m_probability\": null, \"u_probability\": null, \"bayes_factor_description\": null, \"value_l\": \"\", \"value_r\": \"\", \"term_frequency_adjustment\": null, \"bar_sort_order\": 2, \"record_number\": 14}, {\"column_name\": \"Prior\", \"label_for_charts\": \"Starting match weight (prior)\", \"sql_condition\": null, \"log2_bayes_factor\": -13.287568102831404, \"bayes_factor\": 0.00010001000100010001, \"comparison_vector_value\": null, \"m_probability\": null, \"u_probability\": null, \"bayes_factor_description\": null, \"value_l\": \"\", \"value_r\": \"\", \"term_frequency_adjustment\": null, \"bar_sort_order\": 0, \"record_number\": 15}, {\"column_name\": \"CompanyName\", \"label_for_charts\": \"Exact match\", \"sql_condition\": \"\\\"CompanyName_l\\\" = \\\"CompanyName_r\\\"\", \"log2_bayes_factor\": 21.758225657453238, \"bayes_factor\": 3547142.00590578, \"comparison_vector_value\": 3, \"m_probability\": 0.8623865381443143, \"u_probability\": 2.43121514929059e-07, \"bayes_factor_description\": \"If comparison level is `exact match` then comparison is 3,547,142.01 times more likely to be a match\", \"value_l\": \"CROWN CREWING (UK)\", \"value_r\": \"CROWN CREWING (UK)\", \"term_frequency_adjustment\": false, \"bar_sort_order\": 1, \"record_number\": 15}, {\"column_name\": \"Final score\", \"label_for_charts\": \"Final score\", \"sql_condition\": null, \"log2_bayes_factor\": 8.470657554621832, \"bayes_factor\": 354.7496755581337, \"comparison_vector_value\": null, \"m_probability\": null, \"u_probability\": null, \"bayes_factor_description\": null, \"value_l\": \"\", \"value_r\": \"\", \"term_frequency_adjustment\": null, \"bar_sort_order\": 2, \"record_number\": 15}, {\"column_name\": \"Prior\", \"label_for_charts\": \"Starting match weight (prior)\", \"sql_condition\": null, \"log2_bayes_factor\": -13.287568102831404, \"bayes_factor\": 0.00010001000100010001, \"comparison_vector_value\": null, \"m_probability\": null, \"u_probability\": null, \"bayes_factor_description\": null, \"value_l\": \"\", \"value_r\": \"\", \"term_frequency_adjustment\": null, \"bar_sort_order\": 0, \"record_number\": 16}, {\"column_name\": \"CompanyName\", \"label_for_charts\": \"Exact match\", \"sql_condition\": \"\\\"CompanyName_l\\\" = \\\"CompanyName_r\\\"\", \"log2_bayes_factor\": 21.758225657453238, \"bayes_factor\": 3547142.00590578, \"comparison_vector_value\": 3, \"m_probability\": 0.8623865381443143, \"u_probability\": 2.43121514929059e-07, \"bayes_factor_description\": \"If comparison level is `exact match` then comparison is 3,547,142.01 times more likely to be a match\", \"value_l\": \"CRUISE ACADEMY\", \"value_r\": \"CRUISE ACADEMY\", \"term_frequency_adjustment\": false, \"bar_sort_order\": 1, \"record_number\": 16}, {\"column_name\": \"Final score\", \"label_for_charts\": \"Final score\", \"sql_condition\": null, \"log2_bayes_factor\": 8.470657554621832, \"bayes_factor\": 354.7496755581337, \"comparison_vector_value\": null, \"m_probability\": null, \"u_probability\": null, \"bayes_factor_description\": null, \"value_l\": \"\", \"value_r\": \"\", \"term_frequency_adjustment\": null, \"bar_sort_order\": 2, \"record_number\": 16}, {\"column_name\": \"Prior\", \"label_for_charts\": \"Starting match weight (prior)\", \"sql_condition\": null, \"log2_bayes_factor\": -13.287568102831404, \"bayes_factor\": 0.00010001000100010001, \"comparison_vector_value\": null, \"m_probability\": null, \"u_probability\": null, \"bayes_factor_description\": null, \"value_l\": \"\", \"value_r\": \"\", \"term_frequency_adjustment\": null, \"bar_sort_order\": 0, \"record_number\": 17}, {\"column_name\": \"CompanyName\", \"label_for_charts\": \"Exact match\", \"sql_condition\": \"\\\"CompanyName_l\\\" = \\\"CompanyName_r\\\"\", \"log2_bayes_factor\": 21.758225657453238, \"bayes_factor\": 3547142.00590578, \"comparison_vector_value\": 3, \"m_probability\": 0.8623865381443143, \"u_probability\": 2.43121514929059e-07, \"bayes_factor_description\": \"If comparison level is `exact match` then comparison is 3,547,142.01 times more likely to be a match\", \"value_l\": \"ENTIER\", \"value_r\": \"ENTIER\", \"term_frequency_adjustment\": false, \"bar_sort_order\": 1, \"record_number\": 17}, {\"column_name\": \"Final score\", \"label_for_charts\": \"Final score\", \"sql_condition\": null, \"log2_bayes_factor\": 8.470657554621832, \"bayes_factor\": 354.7496755581337, \"comparison_vector_value\": null, \"m_probability\": null, \"u_probability\": null, \"bayes_factor_description\": null, \"value_l\": \"\", \"value_r\": \"\", \"term_frequency_adjustment\": null, \"bar_sort_order\": 2, \"record_number\": 17}, {\"column_name\": \"Prior\", \"label_for_charts\": \"Starting match weight (prior)\", \"sql_condition\": null, \"log2_bayes_factor\": -13.287568102831404, \"bayes_factor\": 0.00010001000100010001, \"comparison_vector_value\": null, \"m_probability\": null, \"u_probability\": null, \"bayes_factor_description\": null, \"value_l\": \"\", \"value_r\": \"\", \"term_frequency_adjustment\": null, \"bar_sort_order\": 0, \"record_number\": 18}, {\"column_name\": \"CompanyName\", \"label_for_charts\": \"Exact match\", \"sql_condition\": \"\\\"CompanyName_l\\\" = \\\"CompanyName_r\\\"\", \"log2_bayes_factor\": 21.758225657453238, \"bayes_factor\": 3547142.00590578, \"comparison_vector_value\": 3, \"m_probability\": 0.8623865381443143, \"u_probability\": 2.43121514929059e-07, \"bayes_factor_description\": \"If comparison level is `exact match` then comparison is 3,547,142.01 times more likely to be a match\", \"value_l\": \"ERSG\", \"value_r\": \"ERSG\", \"term_frequency_adjustment\": false, \"bar_sort_order\": 1, \"record_number\": 18}, {\"column_name\": \"Final score\", \"label_for_charts\": \"Final score\", \"sql_condition\": null, \"log2_bayes_factor\": 8.470657554621832, \"bayes_factor\": 354.7496755581337, \"comparison_vector_value\": null, \"m_probability\": null, \"u_probability\": null, \"bayes_factor_description\": null, \"value_l\": \"\", \"value_r\": \"\", \"term_frequency_adjustment\": null, \"bar_sort_order\": 2, \"record_number\": 18}, {\"column_name\": \"Prior\", \"label_for_charts\": \"Starting match weight (prior)\", \"sql_condition\": null, \"log2_bayes_factor\": -13.287568102831404, \"bayes_factor\": 0.00010001000100010001, \"comparison_vector_value\": null, \"m_probability\": null, \"u_probability\": null, \"bayes_factor_description\": null, \"value_l\": \"\", \"value_r\": \"\", \"term_frequency_adjustment\": null, \"bar_sort_order\": 0, \"record_number\": 19}, {\"column_name\": \"CompanyName\", \"label_for_charts\": \"Exact match\", \"sql_condition\": \"\\\"CompanyName_l\\\" = \\\"CompanyName_r\\\"\", \"log2_bayes_factor\": 21.758225657453238, \"bayes_factor\": 3547142.00590578, \"comparison_vector_value\": 3, \"m_probability\": 0.8623865381443143, \"u_probability\": 2.43121514929059e-07, \"bayes_factor_description\": \"If comparison level is `exact match` then comparison is 3,547,142.01 times more likely to be a match\", \"value_l\": \"ERSG\", \"value_r\": \"ERSG\", \"term_frequency_adjustment\": false, \"bar_sort_order\": 1, \"record_number\": 19}, {\"column_name\": \"Final score\", \"label_for_charts\": \"Final score\", \"sql_condition\": null, \"log2_bayes_factor\": 8.470657554621832, \"bayes_factor\": 354.7496755581337, \"comparison_vector_value\": null, \"m_probability\": null, \"u_probability\": null, \"bayes_factor_description\": null, \"value_l\": \"\", \"value_r\": \"\", \"term_frequency_adjustment\": null, \"bar_sort_order\": 2, \"record_number\": 19}, {\"column_name\": \"Prior\", \"label_for_charts\": \"Starting match weight (prior)\", \"sql_condition\": null, \"log2_bayes_factor\": -13.287568102831404, \"bayes_factor\": 0.00010001000100010001, \"comparison_vector_value\": null, \"m_probability\": null, \"u_probability\": null, \"bayes_factor_description\": null, \"value_l\": \"\", \"value_r\": \"\", \"term_frequency_adjustment\": null, \"bar_sort_order\": 0, \"record_number\": 20}, {\"column_name\": \"CompanyName\", \"label_for_charts\": \"Exact match\", \"sql_condition\": \"\\\"CompanyName_l\\\" = \\\"CompanyName_r\\\"\", \"log2_bayes_factor\": 21.758225657453238, \"bayes_factor\": 3547142.00590578, \"comparison_vector_value\": 3, \"m_probability\": 0.8623865381443143, \"u_probability\": 2.43121514929059e-07, \"bayes_factor_description\": \"If comparison level is `exact match` then comparison is 3,547,142.01 times more likely to be a match\", \"value_l\": \"ETPM\", \"value_r\": \"ETPM\", \"term_frequency_adjustment\": false, \"bar_sort_order\": 1, \"record_number\": 20}, {\"column_name\": \"Final score\", \"label_for_charts\": \"Final score\", \"sql_condition\": null, \"log2_bayes_factor\": 8.470657554621832, \"bayes_factor\": 354.7496755581337, \"comparison_vector_value\": null, \"m_probability\": null, \"u_probability\": null, \"bayes_factor_description\": null, \"value_l\": \"\", \"value_r\": \"\", \"term_frequency_adjustment\": null, \"bar_sort_order\": 2, \"record_number\": 20}, {\"column_name\": \"Prior\", \"label_for_charts\": \"Starting match weight (prior)\", \"sql_condition\": null, \"log2_bayes_factor\": -13.287568102831404, \"bayes_factor\": 0.00010001000100010001, \"comparison_vector_value\": null, \"m_probability\": null, \"u_probability\": null, \"bayes_factor_description\": null, \"value_l\": \"\", \"value_r\": \"\", \"term_frequency_adjustment\": null, \"bar_sort_order\": 0, \"record_number\": 21}, {\"column_name\": \"CompanyName\", \"label_for_charts\": \"Exact match\", \"sql_condition\": \"\\\"CompanyName_l\\\" = \\\"CompanyName_r\\\"\", \"log2_bayes_factor\": 21.758225657453238, \"bayes_factor\": 3547142.00590578, \"comparison_vector_value\": 3, \"m_probability\": 0.8623865381443143, \"u_probability\": 2.43121514929059e-07, \"bayes_factor_description\": \"If comparison level is `exact match` then comparison is 3,547,142.01 times more likely to be a match\", \"value_l\": \"HYDRO ENERGY\", \"value_r\": \"HYDRO ENERGY\", \"term_frequency_adjustment\": false, \"bar_sort_order\": 1, \"record_number\": 21}, {\"column_name\": \"Final score\", \"label_for_charts\": \"Final score\", \"sql_condition\": null, \"log2_bayes_factor\": 8.470657554621832, \"bayes_factor\": 354.7496755581337, \"comparison_vector_value\": null, \"m_probability\": null, \"u_probability\": null, \"bayes_factor_description\": null, \"value_l\": \"\", \"value_r\": \"\", \"term_frequency_adjustment\": null, \"bar_sort_order\": 2, \"record_number\": 21}, {\"column_name\": \"Prior\", \"label_for_charts\": \"Starting match weight (prior)\", \"sql_condition\": null, \"log2_bayes_factor\": -13.287568102831404, \"bayes_factor\": 0.00010001000100010001, \"comparison_vector_value\": null, \"m_probability\": null, \"u_probability\": null, \"bayes_factor_description\": null, \"value_l\": \"\", \"value_r\": \"\", \"term_frequency_adjustment\": null, \"bar_sort_order\": 0, \"record_number\": 22}, {\"column_name\": \"CompanyName\", \"label_for_charts\": \"Jaro_winkler_similarity >= 0.9\", \"sql_condition\": \"jaro_winkler_similarity(\\\"CompanyName_l\\\", \\\"CompanyName_r\\\") >= 0.9\", \"log2_bayes_factor\": 13.81059225609019, \"bayes_factor\": 14368.205372342858, \"comparison_vector_value\": 2, \"m_probability\": 0.11876947513581855, \"u_probability\": 8.266131507588006e-06, \"bayes_factor_description\": \"If comparison level is `jaro_winkler_similarity >= 0.9` then comparison is 14,368.21 times more likely to be a match\", \"value_l\": \"INDIE-PEARL\", \"value_r\": \"INDIE PEARL\", \"term_frequency_adjustment\": false, \"bar_sort_order\": 1, \"record_number\": 22}, {\"column_name\": \"Final score\", \"label_for_charts\": \"Final score\", \"sql_condition\": null, \"log2_bayes_factor\": 0.5230241532587857, \"bayes_factor\": 1.4369642336576514, \"comparison_vector_value\": null, \"m_probability\": null, \"u_probability\": null, \"bayes_factor_description\": null, \"value_l\": \"\", \"value_r\": \"\", \"term_frequency_adjustment\": null, \"bar_sort_order\": 2, \"record_number\": 22}, {\"column_name\": \"Prior\", \"label_for_charts\": \"Starting match weight (prior)\", \"sql_condition\": null, \"log2_bayes_factor\": -13.287568102831404, \"bayes_factor\": 0.00010001000100010001, \"comparison_vector_value\": null, \"m_probability\": null, \"u_probability\": null, \"bayes_factor_description\": null, \"value_l\": \"\", \"value_r\": \"\", \"term_frequency_adjustment\": null, \"bar_sort_order\": 0, \"record_number\": 23}, {\"column_name\": \"CompanyName\", \"label_for_charts\": \"Jaro_winkler_similarity >= 0.9\", \"sql_condition\": \"jaro_winkler_similarity(\\\"CompanyName_l\\\", \\\"CompanyName_r\\\") >= 0.9\", \"log2_bayes_factor\": 13.81059225609019, \"bayes_factor\": 14368.205372342858, \"comparison_vector_value\": 2, \"m_probability\": 0.11876947513581855, \"u_probability\": 8.266131507588006e-06, \"bayes_factor_description\": \"If comparison level is `jaro_winkler_similarity >= 0.9` then comparison is 14,368.21 times more likely to be a match\", \"value_l\": \"NORTHERN MARINE MANAGEMENT\", \"value_r\": \"NORTHERN MARINE MANNING SERVICES, LTD,\", \"term_frequency_adjustment\": false, \"bar_sort_order\": 1, \"record_number\": 23}, {\"column_name\": \"Final score\", \"label_for_charts\": \"Final score\", \"sql_condition\": null, \"log2_bayes_factor\": 0.5230241532587857, \"bayes_factor\": 1.4369642336576514, \"comparison_vector_value\": null, \"m_probability\": null, \"u_probability\": null, \"bayes_factor_description\": null, \"value_l\": \"\", \"value_r\": \"\", \"term_frequency_adjustment\": null, \"bar_sort_order\": 2, \"record_number\": 23}, {\"column_name\": \"Prior\", \"label_for_charts\": \"Starting match weight (prior)\", \"sql_condition\": null, \"log2_bayes_factor\": -13.287568102831404, \"bayes_factor\": 0.00010001000100010001, \"comparison_vector_value\": null, \"m_probability\": null, \"u_probability\": null, \"bayes_factor_description\": null, \"value_l\": \"\", \"value_r\": \"\", \"term_frequency_adjustment\": null, \"bar_sort_order\": 0, \"record_number\": 24}, {\"column_name\": \"CompanyName\", \"label_for_charts\": \"Jaro_winkler_similarity >= 0.9\", \"sql_condition\": \"jaro_winkler_similarity(\\\"CompanyName_l\\\", \\\"CompanyName_r\\\") >= 0.9\", \"log2_bayes_factor\": 13.81059225609019, \"bayes_factor\": 14368.205372342858, \"comparison_vector_value\": 2, \"m_probability\": 0.11876947513581855, \"u_probability\": 8.266131507588006e-06, \"bayes_factor_description\": \"If comparison level is `jaro_winkler_similarity >= 0.9` then comparison is 14,368.21 times more likely to be a match\", \"value_l\": \"NORTHERN MARINE MANNING\", \"value_r\": \"NORTHERN MARINE MANNING SERVICES, LTD,\", \"term_frequency_adjustment\": false, \"bar_sort_order\": 1, \"record_number\": 24}, {\"column_name\": \"Final score\", \"label_for_charts\": \"Final score\", \"sql_condition\": null, \"log2_bayes_factor\": 0.5230241532587857, \"bayes_factor\": 1.4369642336576514, \"comparison_vector_value\": null, \"m_probability\": null, \"u_probability\": null, \"bayes_factor_description\": null, \"value_l\": \"\", \"value_r\": \"\", \"term_frequency_adjustment\": null, \"bar_sort_order\": 2, \"record_number\": 24}, {\"column_name\": \"Prior\", \"label_for_charts\": \"Starting match weight (prior)\", \"sql_condition\": null, \"log2_bayes_factor\": -13.287568102831404, \"bayes_factor\": 0.00010001000100010001, \"comparison_vector_value\": null, \"m_probability\": null, \"u_probability\": null, \"bayes_factor_description\": null, \"value_l\": \"\", \"value_r\": \"\", \"term_frequency_adjustment\": null, \"bar_sort_order\": 0, \"record_number\": 25}, {\"column_name\": \"CompanyName\", \"label_for_charts\": \"Exact match\", \"sql_condition\": \"\\\"CompanyName_l\\\" = \\\"CompanyName_r\\\"\", \"log2_bayes_factor\": 21.758225657453238, \"bayes_factor\": 3547142.00590578, \"comparison_vector_value\": 3, \"m_probability\": 0.8623865381443143, \"u_probability\": 2.43121514929059e-07, \"bayes_factor_description\": \"If comparison level is `exact match` then comparison is 3,547,142.01 times more likely to be a match\", \"value_l\": \"ROBERTSON ETOS\", \"value_r\": \"ROBERTSON ETOS\", \"term_frequency_adjustment\": false, \"bar_sort_order\": 1, \"record_number\": 25}, {\"column_name\": \"Final score\", \"label_for_charts\": \"Final score\", \"sql_condition\": null, \"log2_bayes_factor\": 8.470657554621832, \"bayes_factor\": 354.7496755581337, \"comparison_vector_value\": null, \"m_probability\": null, \"u_probability\": null, \"bayes_factor_description\": null, \"value_l\": \"\", \"value_r\": \"\", \"term_frequency_adjustment\": null, \"bar_sort_order\": 2, \"record_number\": 25}, {\"column_name\": \"Prior\", \"label_for_charts\": \"Starting match weight (prior)\", \"sql_condition\": null, \"log2_bayes_factor\": -13.287568102831404, \"bayes_factor\": 0.00010001000100010001, \"comparison_vector_value\": null, \"m_probability\": null, \"u_probability\": null, \"bayes_factor_description\": null, \"value_l\": \"\", \"value_r\": \"\", \"term_frequency_adjustment\": null, \"bar_sort_order\": 0, \"record_number\": 26}, {\"column_name\": \"CompanyName\", \"label_for_charts\": \"Exact match\", \"sql_condition\": \"\\\"CompanyName_l\\\" = \\\"CompanyName_r\\\"\", \"log2_bayes_factor\": 21.758225657453238, \"bayes_factor\": 3547142.00590578, \"comparison_vector_value\": 3, \"m_probability\": 0.8623865381443143, \"u_probability\": 2.43121514929059e-07, \"bayes_factor_description\": \"If comparison level is `exact match` then comparison is 3,547,142.01 times more likely to be a match\", \"value_l\": \"AIR RESOURCES\", \"value_r\": \"AIR RESOURCES\", \"term_frequency_adjustment\": false, \"bar_sort_order\": 1, \"record_number\": 26}, {\"column_name\": \"Final score\", \"label_for_charts\": \"Final score\", \"sql_condition\": null, \"log2_bayes_factor\": 8.470657554621832, \"bayes_factor\": 354.7496755581337, \"comparison_vector_value\": null, \"m_probability\": null, \"u_probability\": null, \"bayes_factor_description\": null, \"value_l\": \"\", \"value_r\": \"\", \"term_frequency_adjustment\": null, \"bar_sort_order\": 2, \"record_number\": 26}, {\"column_name\": \"Prior\", \"label_for_charts\": \"Starting match weight (prior)\", \"sql_condition\": null, \"log2_bayes_factor\": -13.287568102831404, \"bayes_factor\": 0.00010001000100010001, \"comparison_vector_value\": null, \"m_probability\": null, \"u_probability\": null, \"bayes_factor_description\": null, \"value_l\": \"\", \"value_r\": \"\", \"term_frequency_adjustment\": null, \"bar_sort_order\": 0, \"record_number\": 27}, {\"column_name\": \"CompanyName\", \"label_for_charts\": \"Exact match\", \"sql_condition\": \"\\\"CompanyName_l\\\" = \\\"CompanyName_r\\\"\", \"log2_bayes_factor\": 21.758225657453238, \"bayes_factor\": 3547142.00590578, \"comparison_vector_value\": 3, \"m_probability\": 0.8623865381443143, \"u_probability\": 2.43121514929059e-07, \"bayes_factor_description\": \"If comparison level is `exact match` then comparison is 3,547,142.01 times more likely to be a match\", \"value_l\": \"ALIS GLOBAL\", \"value_r\": \"ALIS GLOBAL\", \"term_frequency_adjustment\": false, \"bar_sort_order\": 1, \"record_number\": 27}, {\"column_name\": \"Final score\", \"label_for_charts\": \"Final score\", \"sql_condition\": null, \"log2_bayes_factor\": 8.470657554621832, \"bayes_factor\": 354.7496755581337, \"comparison_vector_value\": null, \"m_probability\": null, \"u_probability\": null, \"bayes_factor_description\": null, \"value_l\": \"\", \"value_r\": \"\", \"term_frequency_adjustment\": null, \"bar_sort_order\": 2, \"record_number\": 27}, {\"column_name\": \"Prior\", \"label_for_charts\": \"Starting match weight (prior)\", \"sql_condition\": null, \"log2_bayes_factor\": -13.287568102831404, \"bayes_factor\": 0.00010001000100010001, \"comparison_vector_value\": null, \"m_probability\": null, \"u_probability\": null, \"bayes_factor_description\": null, \"value_l\": \"\", \"value_r\": \"\", \"term_frequency_adjustment\": null, \"bar_sort_order\": 0, \"record_number\": 28}, {\"column_name\": \"CompanyName\", \"label_for_charts\": \"Exact match\", \"sql_condition\": \"\\\"CompanyName_l\\\" = \\\"CompanyName_r\\\"\", \"log2_bayes_factor\": 21.758225657453238, \"bayes_factor\": 3547142.00590578, \"comparison_vector_value\": 3, \"m_probability\": 0.8623865381443143, \"u_probability\": 2.43121514929059e-07, \"bayes_factor_description\": \"If comparison level is `exact match` then comparison is 3,547,142.01 times more likely to be a match\", \"value_l\": \"DMB YACHTING\", \"value_r\": \"DMB YACHTING\", \"term_frequency_adjustment\": false, \"bar_sort_order\": 1, \"record_number\": 28}, {\"column_name\": \"Final score\", \"label_for_charts\": \"Final score\", \"sql_condition\": null, \"log2_bayes_factor\": 8.470657554621832, \"bayes_factor\": 354.7496755581337, \"comparison_vector_value\": null, \"m_probability\": null, \"u_probability\": null, \"bayes_factor_description\": null, \"value_l\": \"\", \"value_r\": \"\", \"term_frequency_adjustment\": null, \"bar_sort_order\": 2, \"record_number\": 28}, {\"column_name\": \"Prior\", \"label_for_charts\": \"Starting match weight (prior)\", \"sql_condition\": null, \"log2_bayes_factor\": -13.287568102831404, \"bayes_factor\": 0.00010001000100010001, \"comparison_vector_value\": null, \"m_probability\": null, \"u_probability\": null, \"bayes_factor_description\": null, \"value_l\": \"\", \"value_r\": \"\", \"term_frequency_adjustment\": null, \"bar_sort_order\": 0, \"record_number\": 29}, {\"column_name\": \"CompanyName\", \"label_for_charts\": \"Exact match\", \"sql_condition\": \"\\\"CompanyName_l\\\" = \\\"CompanyName_r\\\"\", \"log2_bayes_factor\": 21.758225657453238, \"bayes_factor\": 3547142.00590578, \"comparison_vector_value\": 3, \"m_probability\": 0.8623865381443143, \"u_probability\": 2.43121514929059e-07, \"bayes_factor_description\": \"If comparison level is `exact match` then comparison is 3,547,142.01 times more likely to be a match\", \"value_l\": \"INTEROCEAN PERSONNEL (UK)\", \"value_r\": \"INTEROCEAN PERSONNEL (UK)\", \"term_frequency_adjustment\": false, \"bar_sort_order\": 1, \"record_number\": 29}, {\"column_name\": \"Final score\", \"label_for_charts\": \"Final score\", \"sql_condition\": null, \"log2_bayes_factor\": 8.470657554621832, \"bayes_factor\": 354.7496755581337, \"comparison_vector_value\": null, \"m_probability\": null, \"u_probability\": null, \"bayes_factor_description\": null, \"value_l\": \"\", \"value_r\": \"\", \"term_frequency_adjustment\": null, \"bar_sort_order\": 2, \"record_number\": 29}, {\"column_name\": \"Prior\", \"label_for_charts\": \"Starting match weight (prior)\", \"sql_condition\": null, \"log2_bayes_factor\": -13.287568102831404, \"bayes_factor\": 0.00010001000100010001, \"comparison_vector_value\": null, \"m_probability\": null, \"u_probability\": null, \"bayes_factor_description\": null, \"value_l\": \"\", \"value_r\": \"\", \"term_frequency_adjustment\": null, \"bar_sort_order\": 0, \"record_number\": 30}, {\"column_name\": \"CompanyName\", \"label_for_charts\": \"Exact match\", \"sql_condition\": \"\\\"CompanyName_l\\\" = \\\"CompanyName_r\\\"\", \"log2_bayes_factor\": 21.758225657453238, \"bayes_factor\": 3547142.00590578, \"comparison_vector_value\": 3, \"m_probability\": 0.8623865381443143, \"u_probability\": 2.43121514929059e-07, \"bayes_factor_description\": \"If comparison level is `exact match` then comparison is 3,547,142.01 times more likely to be a match\", \"value_l\": \"SCARLETT ENTERTAINMENT & MANAGEMENT\", \"value_r\": \"SCARLETT ENTERTAINMENT & MANAGEMENT\", \"term_frequency_adjustment\": false, \"bar_sort_order\": 1, \"record_number\": 30}, {\"column_name\": \"Final score\", \"label_for_charts\": \"Final score\", \"sql_condition\": null, \"log2_bayes_factor\": 8.470657554621832, \"bayes_factor\": 354.7496755581337, \"comparison_vector_value\": null, \"m_probability\": null, \"u_probability\": null, \"bayes_factor_description\": null, \"value_l\": \"\", \"value_r\": \"\", \"term_frequency_adjustment\": null, \"bar_sort_order\": 2, \"record_number\": 30}, {\"column_name\": \"Prior\", \"label_for_charts\": \"Starting match weight (prior)\", \"sql_condition\": null, \"log2_bayes_factor\": -13.287568102831404, \"bayes_factor\": 0.00010001000100010001, \"comparison_vector_value\": null, \"m_probability\": null, \"u_probability\": null, \"bayes_factor_description\": null, \"value_l\": \"\", \"value_r\": \"\", \"term_frequency_adjustment\": null, \"bar_sort_order\": 0, \"record_number\": 31}, {\"column_name\": \"CompanyName\", \"label_for_charts\": \"Exact match\", \"sql_condition\": \"\\\"CompanyName_l\\\" = \\\"CompanyName_r\\\"\", \"log2_bayes_factor\": 21.758225657453238, \"bayes_factor\": 3547142.00590578, \"comparison_vector_value\": 3, \"m_probability\": 0.8623865381443143, \"u_probability\": 2.43121514929059e-07, \"bayes_factor_description\": \"If comparison level is `exact match` then comparison is 3,547,142.01 times more likely to be a match\", \"value_l\": \"SCARLETT ENTERTAINMENT & MANAGEMENT\", \"value_r\": \"SCARLETT ENTERTAINMENT & MANAGEMENT\", \"term_frequency_adjustment\": false, \"bar_sort_order\": 1, \"record_number\": 31}, {\"column_name\": \"Final score\", \"label_for_charts\": \"Final score\", \"sql_condition\": null, \"log2_bayes_factor\": 8.470657554621832, \"bayes_factor\": 354.7496755581337, \"comparison_vector_value\": null, \"m_probability\": null, \"u_probability\": null, \"bayes_factor_description\": null, \"value_l\": \"\", \"value_r\": \"\", \"term_frequency_adjustment\": null, \"bar_sort_order\": 2, \"record_number\": 31}, {\"column_name\": \"Prior\", \"label_for_charts\": \"Starting match weight (prior)\", \"sql_condition\": null, \"log2_bayes_factor\": -13.287568102831404, \"bayes_factor\": 0.00010001000100010001, \"comparison_vector_value\": null, \"m_probability\": null, \"u_probability\": null, \"bayes_factor_description\": null, \"value_l\": \"\", \"value_r\": \"\", \"term_frequency_adjustment\": null, \"bar_sort_order\": 0, \"record_number\": 32}, {\"column_name\": \"CompanyName\", \"label_for_charts\": \"Exact match\", \"sql_condition\": \"\\\"CompanyName_l\\\" = \\\"CompanyName_r\\\"\", \"log2_bayes_factor\": 21.758225657453238, \"bayes_factor\": 3547142.00590578, \"comparison_vector_value\": 3, \"m_probability\": 0.8623865381443143, \"u_probability\": 2.43121514929059e-07, \"bayes_factor_description\": \"If comparison level is `exact match` then comparison is 3,547,142.01 times more likely to be a match\", \"value_l\": \"SEVEN SEAS RECRUITMENT\", \"value_r\": \"SEVEN SEAS RECRUITMENT\", \"term_frequency_adjustment\": false, \"bar_sort_order\": 1, \"record_number\": 32}, {\"column_name\": \"Final score\", \"label_for_charts\": \"Final score\", \"sql_condition\": null, \"log2_bayes_factor\": 8.470657554621832, \"bayes_factor\": 354.7496755581337, \"comparison_vector_value\": null, \"m_probability\": null, \"u_probability\": null, \"bayes_factor_description\": null, \"value_l\": \"\", \"value_r\": \"\", \"term_frequency_adjustment\": null, \"bar_sort_order\": 2, \"record_number\": 32}, {\"column_name\": \"Prior\", \"label_for_charts\": \"Starting match weight (prior)\", \"sql_condition\": null, \"log2_bayes_factor\": -13.287568102831404, \"bayes_factor\": 0.00010001000100010001, \"comparison_vector_value\": null, \"m_probability\": null, \"u_probability\": null, \"bayes_factor_description\": null, \"value_l\": \"\", \"value_r\": \"\", \"term_frequency_adjustment\": null, \"bar_sort_order\": 0, \"record_number\": 33}, {\"column_name\": \"CompanyName\", \"label_for_charts\": \"Exact match\", \"sql_condition\": \"\\\"CompanyName_l\\\" = \\\"CompanyName_r\\\"\", \"log2_bayes_factor\": 21.758225657453238, \"bayes_factor\": 3547142.00590578, \"comparison_vector_value\": 3, \"m_probability\": 0.8623865381443143, \"u_probability\": 2.43121514929059e-07, \"bayes_factor_description\": \"If comparison level is `exact match` then comparison is 3,547,142.01 times more likely to be a match\", \"value_l\": \"CARA LEES YACHT CREW\", \"value_r\": \"CARA LEES YACHT CREW\", \"term_frequency_adjustment\": false, \"bar_sort_order\": 1, \"record_number\": 33}, {\"column_name\": \"Final score\", \"label_for_charts\": \"Final score\", \"sql_condition\": null, \"log2_bayes_factor\": 8.470657554621832, \"bayes_factor\": 354.7496755581337, \"comparison_vector_value\": null, \"m_probability\": null, \"u_probability\": null, \"bayes_factor_description\": null, \"value_l\": \"\", \"value_r\": \"\", \"term_frequency_adjustment\": null, \"bar_sort_order\": 2, \"record_number\": 33}, {\"column_name\": \"Prior\", \"label_for_charts\": \"Starting match weight (prior)\", \"sql_condition\": null, \"log2_bayes_factor\": -13.287568102831404, \"bayes_factor\": 0.00010001000100010001, \"comparison_vector_value\": null, \"m_probability\": null, \"u_probability\": null, \"bayes_factor_description\": null, \"value_l\": \"\", \"value_r\": \"\", \"term_frequency_adjustment\": null, \"bar_sort_order\": 0, \"record_number\": 34}, {\"column_name\": \"CompanyName\", \"label_for_charts\": \"Exact match\", \"sql_condition\": \"\\\"CompanyName_l\\\" = \\\"CompanyName_r\\\"\", \"log2_bayes_factor\": 21.758225657453238, \"bayes_factor\": 3547142.00590578, \"comparison_vector_value\": 3, \"m_probability\": 0.8623865381443143, \"u_probability\": 2.43121514929059e-07, \"bayes_factor_description\": \"If comparison level is `exact match` then comparison is 3,547,142.01 times more likely to be a match\", \"value_l\": \"CARNIVAL\", \"value_r\": \"CARNIVAL\", \"term_frequency_adjustment\": false, \"bar_sort_order\": 1, \"record_number\": 34}, {\"column_name\": \"Final score\", \"label_for_charts\": \"Final score\", \"sql_condition\": null, \"log2_bayes_factor\": 8.470657554621832, \"bayes_factor\": 354.7496755581337, \"comparison_vector_value\": null, \"m_probability\": null, \"u_probability\": null, \"bayes_factor_description\": null, \"value_l\": \"\", \"value_r\": \"\", \"term_frequency_adjustment\": null, \"bar_sort_order\": 2, \"record_number\": 34}, {\"column_name\": \"Prior\", \"label_for_charts\": \"Starting match weight (prior)\", \"sql_condition\": null, \"log2_bayes_factor\": -13.287568102831404, \"bayes_factor\": 0.00010001000100010001, \"comparison_vector_value\": null, \"m_probability\": null, \"u_probability\": null, \"bayes_factor_description\": null, \"value_l\": \"\", \"value_r\": \"\", \"term_frequency_adjustment\": null, \"bar_sort_order\": 0, \"record_number\": 35}, {\"column_name\": \"CompanyName\", \"label_for_charts\": \"Jaro_winkler_similarity >= 0.9\", \"sql_condition\": \"jaro_winkler_similarity(\\\"CompanyName_l\\\", \\\"CompanyName_r\\\") >= 0.9\", \"log2_bayes_factor\": 13.81059225609019, \"bayes_factor\": 14368.205372342858, \"comparison_vector_value\": 2, \"m_probability\": 0.11876947513581855, \"u_probability\": 8.266131507588006e-06, \"bayes_factor_description\": \"If comparison level is `jaro_winkler_similarity >= 0.9` then comparison is 14,368.21 times more likely to be a match\", \"value_l\": \"CARNIVAL PORT\", \"value_r\": \"CARNIVAL\", \"term_frequency_adjustment\": false, \"bar_sort_order\": 1, \"record_number\": 35}, {\"column_name\": \"Final score\", \"label_for_charts\": \"Final score\", \"sql_condition\": null, \"log2_bayes_factor\": 0.5230241532587857, \"bayes_factor\": 1.4369642336576514, \"comparison_vector_value\": null, \"m_probability\": null, \"u_probability\": null, \"bayes_factor_description\": null, \"value_l\": \"\", \"value_r\": \"\", \"term_frequency_adjustment\": null, \"bar_sort_order\": 2, \"record_number\": 35}, {\"column_name\": \"Prior\", \"label_for_charts\": \"Starting match weight (prior)\", \"sql_condition\": null, \"log2_bayes_factor\": -13.287568102831404, \"bayes_factor\": 0.00010001000100010001, \"comparison_vector_value\": null, \"m_probability\": null, \"u_probability\": null, \"bayes_factor_description\": null, \"value_l\": \"\", \"value_r\": \"\", \"term_frequency_adjustment\": null, \"bar_sort_order\": 0, \"record_number\": 36}, {\"column_name\": \"CompanyName\", \"label_for_charts\": \"Jaro_winkler_similarity >= 0.9\", \"sql_condition\": \"jaro_winkler_similarity(\\\"CompanyName_l\\\", \\\"CompanyName_r\\\") >= 0.9\", \"log2_bayes_factor\": 13.81059225609019, \"bayes_factor\": 14368.205372342858, \"comparison_vector_value\": 2, \"m_probability\": 0.11876947513581855, \"u_probability\": 8.266131507588006e-06, \"bayes_factor_description\": \"If comparison level is `jaro_winkler_similarity >= 0.9` then comparison is 14,368.21 times more likely to be a match\", \"value_l\": \"GARDLINE MARINE SCIENCES (SOUTH AMERICA)\", \"value_r\": \"GARDLINE MARINE SCIENCES\", \"term_frequency_adjustment\": false, \"bar_sort_order\": 1, \"record_number\": 36}, {\"column_name\": \"Final score\", \"label_for_charts\": \"Final score\", \"sql_condition\": null, \"log2_bayes_factor\": 0.5230241532587857, \"bayes_factor\": 1.4369642336576514, \"comparison_vector_value\": null, \"m_probability\": null, \"u_probability\": null, \"bayes_factor_description\": null, \"value_l\": \"\", \"value_r\": \"\", \"term_frequency_adjustment\": null, \"bar_sort_order\": 2, \"record_number\": 36}, {\"column_name\": \"Prior\", \"label_for_charts\": \"Starting match weight (prior)\", \"sql_condition\": null, \"log2_bayes_factor\": -13.287568102831404, \"bayes_factor\": 0.00010001000100010001, \"comparison_vector_value\": null, \"m_probability\": null, \"u_probability\": null, \"bayes_factor_description\": null, \"value_l\": \"\", \"value_r\": \"\", \"term_frequency_adjustment\": null, \"bar_sort_order\": 0, \"record_number\": 37}, {\"column_name\": \"CompanyName\", \"label_for_charts\": \"Exact match\", \"sql_condition\": \"\\\"CompanyName_l\\\" = \\\"CompanyName_r\\\"\", \"log2_bayes_factor\": 21.758225657453238, \"bayes_factor\": 3547142.00590578, \"comparison_vector_value\": 3, \"m_probability\": 0.8623865381443143, \"u_probability\": 2.43121514929059e-07, \"bayes_factor_description\": \"If comparison level is `exact match` then comparison is 3,547,142.01 times more likely to be a match\", \"value_l\": \"GARDLINE MARINE SCIENCES\", \"value_r\": \"GARDLINE MARINE SCIENCES\", \"term_frequency_adjustment\": false, \"bar_sort_order\": 1, \"record_number\": 37}, {\"column_name\": \"Final score\", \"label_for_charts\": \"Final score\", \"sql_condition\": null, \"log2_bayes_factor\": 8.470657554621832, \"bayes_factor\": 354.7496755581337, \"comparison_vector_value\": null, \"m_probability\": null, \"u_probability\": null, \"bayes_factor_description\": null, \"value_l\": \"\", \"value_r\": \"\", \"term_frequency_adjustment\": null, \"bar_sort_order\": 2, \"record_number\": 37}, {\"column_name\": \"Prior\", \"label_for_charts\": \"Starting match weight (prior)\", \"sql_condition\": null, \"log2_bayes_factor\": -13.287568102831404, \"bayes_factor\": 0.00010001000100010001, \"comparison_vector_value\": null, \"m_probability\": null, \"u_probability\": null, \"bayes_factor_description\": null, \"value_l\": \"\", \"value_r\": \"\", \"term_frequency_adjustment\": null, \"bar_sort_order\": 0, \"record_number\": 38}, {\"column_name\": \"CompanyName\", \"label_for_charts\": \"Exact match\", \"sql_condition\": \"\\\"CompanyName_l\\\" = \\\"CompanyName_r\\\"\", \"log2_bayes_factor\": 21.758225657453238, \"bayes_factor\": 3547142.00590578, \"comparison_vector_value\": 3, \"m_probability\": 0.8623865381443143, \"u_probability\": 2.43121514929059e-07, \"bayes_factor_description\": \"If comparison level is `exact match` then comparison is 3,547,142.01 times more likely to be a match\", \"value_l\": \"GEO-ENVIRONMENTAL RECRUITMENT\", \"value_r\": \"GEO-ENVIRONMENTAL RECRUITMENT\", \"term_frequency_adjustment\": false, \"bar_sort_order\": 1, \"record_number\": 38}, {\"column_name\": \"Final score\", \"label_for_charts\": \"Final score\", \"sql_condition\": null, \"log2_bayes_factor\": 8.470657554621832, \"bayes_factor\": 354.7496755581337, \"comparison_vector_value\": null, \"m_probability\": null, \"u_probability\": null, \"bayes_factor_description\": null, \"value_l\": \"\", \"value_r\": \"\", \"term_frequency_adjustment\": null, \"bar_sort_order\": 2, \"record_number\": 38}, {\"column_name\": \"Prior\", \"label_for_charts\": \"Starting match weight (prior)\", \"sql_condition\": null, \"log2_bayes_factor\": -13.287568102831404, \"bayes_factor\": 0.00010001000100010001, \"comparison_vector_value\": null, \"m_probability\": null, \"u_probability\": null, \"bayes_factor_description\": null, \"value_l\": \"\", \"value_r\": \"\", \"term_frequency_adjustment\": null, \"bar_sort_order\": 0, \"record_number\": 39}, {\"column_name\": \"CompanyName\", \"label_for_charts\": \"Jaro_winkler_similarity >= 0.9\", \"sql_condition\": \"jaro_winkler_similarity(\\\"CompanyName_l\\\", \\\"CompanyName_r\\\") >= 0.9\", \"log2_bayes_factor\": 13.81059225609019, \"bayes_factor\": 14368.205372342858, \"comparison_vector_value\": 2, \"m_probability\": 0.11876947513581855, \"u_probability\": 8.266131507588006e-06, \"bayes_factor_description\": \"If comparison level is `jaro_winkler_similarity >= 0.9` then comparison is 14,368.21 times more likely to be a match\", \"value_l\": \"JAMES FISHER (ABERDEEN)\", \"value_r\": \"JAMES FISHER MARINE\", \"term_frequency_adjustment\": false, \"bar_sort_order\": 1, \"record_number\": 39}, {\"column_name\": \"Final score\", \"label_for_charts\": \"Final score\", \"sql_condition\": null, \"log2_bayes_factor\": 0.5230241532587857, \"bayes_factor\": 1.4369642336576514, \"comparison_vector_value\": null, \"m_probability\": null, \"u_probability\": null, \"bayes_factor_description\": null, \"value_l\": \"\", \"value_r\": \"\", \"term_frequency_adjustment\": null, \"bar_sort_order\": 2, \"record_number\": 39}, {\"column_name\": \"Prior\", \"label_for_charts\": \"Starting match weight (prior)\", \"sql_condition\": null, \"log2_bayes_factor\": -13.287568102831404, \"bayes_factor\": 0.00010001000100010001, \"comparison_vector_value\": null, \"m_probability\": null, \"u_probability\": null, \"bayes_factor_description\": null, \"value_l\": \"\", \"value_r\": \"\", \"term_frequency_adjustment\": null, \"bar_sort_order\": 0, \"record_number\": 40}, {\"column_name\": \"CompanyName\", \"label_for_charts\": \"Jaro_winkler_similarity >= 0.9\", \"sql_condition\": \"jaro_winkler_similarity(\\\"CompanyName_l\\\", \\\"CompanyName_r\\\") >= 0.9\", \"log2_bayes_factor\": 13.81059225609019, \"bayes_factor\": 14368.205372342858, \"comparison_vector_value\": 2, \"m_probability\": 0.11876947513581855, \"u_probability\": 8.266131507588006e-06, \"bayes_factor_description\": \"If comparison level is `jaro_winkler_similarity >= 0.9` then comparison is 14,368.21 times more likely to be a match\", \"value_l\": \"JAMES FISHER ANGOLA\", \"value_r\": \"JAMES FISHER MARINE\", \"term_frequency_adjustment\": false, \"bar_sort_order\": 1, \"record_number\": 40}, {\"column_name\": \"Final score\", \"label_for_charts\": \"Final score\", \"sql_condition\": null, \"log2_bayes_factor\": 0.5230241532587857, \"bayes_factor\": 1.4369642336576514, \"comparison_vector_value\": null, \"m_probability\": null, \"u_probability\": null, \"bayes_factor_description\": null, \"value_l\": \"\", \"value_r\": \"\", \"term_frequency_adjustment\": null, \"bar_sort_order\": 2, \"record_number\": 40}, {\"column_name\": \"Prior\", \"label_for_charts\": \"Starting match weight (prior)\", \"sql_condition\": null, \"log2_bayes_factor\": -13.287568102831404, \"bayes_factor\": 0.00010001000100010001, \"comparison_vector_value\": null, \"m_probability\": null, \"u_probability\": null, \"bayes_factor_description\": null, \"value_l\": \"\", \"value_r\": \"\", \"term_frequency_adjustment\": null, \"bar_sort_order\": 0, \"record_number\": 41}, {\"column_name\": \"CompanyName\", \"label_for_charts\": \"Jaro_winkler_similarity >= 0.9\", \"sql_condition\": \"jaro_winkler_similarity(\\\"CompanyName_l\\\", \\\"CompanyName_r\\\") >= 0.9\", \"log2_bayes_factor\": 13.81059225609019, \"bayes_factor\": 14368.205372342858, \"comparison_vector_value\": 2, \"m_probability\": 0.11876947513581855, \"u_probability\": 8.266131507588006e-06, \"bayes_factor_description\": \"If comparison level is `jaro_winkler_similarity >= 0.9` then comparison is 14,368.21 times more likely to be a match\", \"value_l\": \"JAMES FISHER EVERARD\", \"value_r\": \"JAMES FISHER MARINE\", \"term_frequency_adjustment\": false, \"bar_sort_order\": 1, \"record_number\": 41}, {\"column_name\": \"Final score\", \"label_for_charts\": \"Final score\", \"sql_condition\": null, \"log2_bayes_factor\": 0.5230241532587857, \"bayes_factor\": 1.4369642336576514, \"comparison_vector_value\": null, \"m_probability\": null, \"u_probability\": null, \"bayes_factor_description\": null, \"value_l\": \"\", \"value_r\": \"\", \"term_frequency_adjustment\": null, \"bar_sort_order\": 2, \"record_number\": 41}, {\"column_name\": \"Prior\", \"label_for_charts\": \"Starting match weight (prior)\", \"sql_condition\": null, \"log2_bayes_factor\": -13.287568102831404, \"bayes_factor\": 0.00010001000100010001, \"comparison_vector_value\": null, \"m_probability\": null, \"u_probability\": null, \"bayes_factor_description\": null, \"value_l\": \"\", \"value_r\": \"\", \"term_frequency_adjustment\": null, \"bar_sort_order\": 0, \"record_number\": 42}, {\"column_name\": \"CompanyName\", \"label_for_charts\": \"Jaro_winkler_similarity >= 0.9\", \"sql_condition\": \"jaro_winkler_similarity(\\\"CompanyName_l\\\", \\\"CompanyName_r\\\") >= 0.9\", \"log2_bayes_factor\": 13.81059225609019, \"bayes_factor\": 14368.205372342858, \"comparison_vector_value\": 2, \"m_probability\": 0.11876947513581855, \"u_probability\": 8.266131507588006e-06, \"bayes_factor_description\": \"If comparison level is `jaro_winkler_similarity >= 0.9` then comparison is 14,368.21 times more likely to be a match\", \"value_l\": \"JAMES FISHER\", \"value_r\": \"JAMES FISHER MARINE\", \"term_frequency_adjustment\": false, \"bar_sort_order\": 1, \"record_number\": 42}, {\"column_name\": \"Final score\", \"label_for_charts\": \"Final score\", \"sql_condition\": null, \"log2_bayes_factor\": 0.5230241532587857, \"bayes_factor\": 1.4369642336576514, \"comparison_vector_value\": null, \"m_probability\": null, \"u_probability\": null, \"bayes_factor_description\": null, \"value_l\": \"\", \"value_r\": \"\", \"term_frequency_adjustment\": null, \"bar_sort_order\": 2, \"record_number\": 42}, {\"column_name\": \"Prior\", \"label_for_charts\": \"Starting match weight (prior)\", \"sql_condition\": null, \"log2_bayes_factor\": -13.287568102831404, \"bayes_factor\": 0.00010001000100010001, \"comparison_vector_value\": null, \"m_probability\": null, \"u_probability\": null, \"bayes_factor_description\": null, \"value_l\": \"\", \"value_r\": \"\", \"term_frequency_adjustment\": null, \"bar_sort_order\": 0, \"record_number\": 43}, {\"column_name\": \"CompanyName\", \"label_for_charts\": \"Exact match\", \"sql_condition\": \"\\\"CompanyName_l\\\" = \\\"CompanyName_r\\\"\", \"log2_bayes_factor\": 21.758225657453238, \"bayes_factor\": 3547142.00590578, \"comparison_vector_value\": 3, \"m_probability\": 0.8623865381443143, \"u_probability\": 2.43121514929059e-07, \"bayes_factor_description\": \"If comparison level is `exact match` then comparison is 3,547,142.01 times more likely to be a match\", \"value_l\": \"JAMES FISHER MARINE\", \"value_r\": \"JAMES FISHER MARINE\", \"term_frequency_adjustment\": false, \"bar_sort_order\": 1, \"record_number\": 43}, {\"column_name\": \"Final score\", \"label_for_charts\": \"Final score\", \"sql_condition\": null, \"log2_bayes_factor\": 8.470657554621832, \"bayes_factor\": 354.7496755581337, \"comparison_vector_value\": null, \"m_probability\": null, \"u_probability\": null, \"bayes_factor_description\": null, \"value_l\": \"\", \"value_r\": \"\", \"term_frequency_adjustment\": null, \"bar_sort_order\": 2, \"record_number\": 43}, {\"column_name\": \"Prior\", \"label_for_charts\": \"Starting match weight (prior)\", \"sql_condition\": null, \"log2_bayes_factor\": -13.287568102831404, \"bayes_factor\": 0.00010001000100010001, \"comparison_vector_value\": null, \"m_probability\": null, \"u_probability\": null, \"bayes_factor_description\": null, \"value_l\": \"\", \"value_r\": \"\", \"term_frequency_adjustment\": null, \"bar_sort_order\": 0, \"record_number\": 44}, {\"column_name\": \"CompanyName\", \"label_for_charts\": \"Jaro_winkler_similarity >= 0.9\", \"sql_condition\": \"jaro_winkler_similarity(\\\"CompanyName_l\\\", \\\"CompanyName_r\\\") >= 0.9\", \"log2_bayes_factor\": 13.81059225609019, \"bayes_factor\": 14368.205372342858, \"comparison_vector_value\": 2, \"m_probability\": 0.11876947513581855, \"u_probability\": 8.266131507588006e-06, \"bayes_factor_description\": \"If comparison level is `jaro_winkler_similarity >= 0.9` then comparison is 14,368.21 times more likely to be a match\", \"value_l\": \"JAMES FISHER MFE\", \"value_r\": \"JAMES FISHER MARINE\", \"term_frequency_adjustment\": false, \"bar_sort_order\": 1, \"record_number\": 44}, {\"column_name\": \"Final score\", \"label_for_charts\": \"Final score\", \"sql_condition\": null, \"log2_bayes_factor\": 0.5230241532587857, \"bayes_factor\": 1.4369642336576514, \"comparison_vector_value\": null, \"m_probability\": null, \"u_probability\": null, \"bayes_factor_description\": null, \"value_l\": \"\", \"value_r\": \"\", \"term_frequency_adjustment\": null, \"bar_sort_order\": 2, \"record_number\": 44}, {\"column_name\": \"Prior\", \"label_for_charts\": \"Starting match weight (prior)\", \"sql_condition\": null, \"log2_bayes_factor\": -13.287568102831404, \"bayes_factor\": 0.00010001000100010001, \"comparison_vector_value\": null, \"m_probability\": null, \"u_probability\": null, \"bayes_factor_description\": null, \"value_l\": \"\", \"value_r\": \"\", \"term_frequency_adjustment\": null, \"bar_sort_order\": 0, \"record_number\": 45}, {\"column_name\": \"CompanyName\", \"label_for_charts\": \"Jaro_winkler_similarity >= 0.9\", \"sql_condition\": \"jaro_winkler_similarity(\\\"CompanyName_l\\\", \\\"CompanyName_r\\\") >= 0.9\", \"log2_bayes_factor\": 13.81059225609019, \"bayes_factor\": 14368.205372342858, \"comparison_vector_value\": 2, \"m_probability\": 0.11876947513581855, \"u_probability\": 8.266131507588006e-06, \"bayes_factor_description\": \"If comparison level is `jaro_winkler_similarity >= 0.9` then comparison is 14,368.21 times more likely to be a match\", \"value_l\": \"JAMES FISHER RUMIC\", \"value_r\": \"JAMES FISHER MARINE\", \"term_frequency_adjustment\": false, \"bar_sort_order\": 1, \"record_number\": 45}, {\"column_name\": \"Final score\", \"label_for_charts\": \"Final score\", \"sql_condition\": null, \"log2_bayes_factor\": 0.5230241532587857, \"bayes_factor\": 1.4369642336576514, \"comparison_vector_value\": null, \"m_probability\": null, \"u_probability\": null, \"bayes_factor_description\": null, \"value_l\": \"\", \"value_r\": \"\", \"term_frequency_adjustment\": null, \"bar_sort_order\": 2, \"record_number\": 45}, {\"column_name\": \"Prior\", \"label_for_charts\": \"Starting match weight (prior)\", \"sql_condition\": null, \"log2_bayes_factor\": -13.287568102831404, \"bayes_factor\": 0.00010001000100010001, \"comparison_vector_value\": null, \"m_probability\": null, \"u_probability\": null, \"bayes_factor_description\": null, \"value_l\": \"\", \"value_r\": \"\", \"term_frequency_adjustment\": null, \"bar_sort_order\": 0, \"record_number\": 46}, {\"column_name\": \"CompanyName\", \"label_for_charts\": \"Jaro_winkler_similarity >= 0.9\", \"sql_condition\": \"jaro_winkler_similarity(\\\"CompanyName_l\\\", \\\"CompanyName_r\\\") >= 0.9\", \"log2_bayes_factor\": 13.81059225609019, \"bayes_factor\": 14368.205372342858, \"comparison_vector_value\": 2, \"m_probability\": 0.11876947513581855, \"u_probability\": 8.266131507588006e-06, \"bayes_factor_description\": \"If comparison level is `jaro_winkler_similarity >= 0.9` then comparison is 14,368.21 times more likely to be a match\", \"value_l\": \"JAMES FISHER TANKSHIPS\", \"value_r\": \"JAMES FISHER MARINE\", \"term_frequency_adjustment\": false, \"bar_sort_order\": 1, \"record_number\": 46}, {\"column_name\": \"Final score\", \"label_for_charts\": \"Final score\", \"sql_condition\": null, \"log2_bayes_factor\": 0.5230241532587857, \"bayes_factor\": 1.4369642336576514, \"comparison_vector_value\": null, \"m_probability\": null, \"u_probability\": null, \"bayes_factor_description\": null, \"value_l\": \"\", \"value_r\": \"\", \"term_frequency_adjustment\": null, \"bar_sort_order\": 2, \"record_number\": 46}, {\"column_name\": \"Prior\", \"label_for_charts\": \"Starting match weight (prior)\", \"sql_condition\": null, \"log2_bayes_factor\": -13.287568102831404, \"bayes_factor\": 0.00010001000100010001, \"comparison_vector_value\": null, \"m_probability\": null, \"u_probability\": null, \"bayes_factor_description\": null, \"value_l\": \"\", \"value_r\": \"\", \"term_frequency_adjustment\": null, \"bar_sort_order\": 0, \"record_number\": 47}, {\"column_name\": \"CompanyName\", \"label_for_charts\": \"Exact match\", \"sql_condition\": \"\\\"CompanyName_l\\\" = \\\"CompanyName_r\\\"\", \"log2_bayes_factor\": 21.758225657453238, \"bayes_factor\": 3547142.00590578, \"comparison_vector_value\": 3, \"m_probability\": 0.8623865381443143, \"u_probability\": 2.43121514929059e-07, \"bayes_factor_description\": \"If comparison level is `exact match` then comparison is 3,547,142.01 times more likely to be a match\", \"value_l\": \"JOBS IN MARITIME\", \"value_r\": \"JOBS IN MARITIME\", \"term_frequency_adjustment\": false, \"bar_sort_order\": 1, \"record_number\": 47}, {\"column_name\": \"Final score\", \"label_for_charts\": \"Final score\", \"sql_condition\": null, \"log2_bayes_factor\": 8.470657554621832, \"bayes_factor\": 354.7496755581337, \"comparison_vector_value\": null, \"m_probability\": null, \"u_probability\": null, \"bayes_factor_description\": null, \"value_l\": \"\", \"value_r\": \"\", \"term_frequency_adjustment\": null, \"bar_sort_order\": 2, \"record_number\": 47}, {\"column_name\": \"Prior\", \"label_for_charts\": \"Starting match weight (prior)\", \"sql_condition\": null, \"log2_bayes_factor\": -13.287568102831404, \"bayes_factor\": 0.00010001000100010001, \"comparison_vector_value\": null, \"m_probability\": null, \"u_probability\": null, \"bayes_factor_description\": null, \"value_l\": \"\", \"value_r\": \"\", \"term_frequency_adjustment\": null, \"bar_sort_order\": 0, \"record_number\": 48}, {\"column_name\": \"CompanyName\", \"label_for_charts\": \"Exact match\", \"sql_condition\": \"\\\"CompanyName_l\\\" = \\\"CompanyName_r\\\"\", \"log2_bayes_factor\": 21.758225657453238, \"bayes_factor\": 3547142.00590578, \"comparison_vector_value\": 3, \"m_probability\": 0.8623865381443143, \"u_probability\": 2.43121514929059e-07, \"bayes_factor_description\": \"If comparison level is `exact match` then comparison is 3,547,142.01 times more likely to be a match\", \"value_l\": \"RECREWT\", \"value_r\": \"RECREWT\", \"term_frequency_adjustment\": false, \"bar_sort_order\": 1, \"record_number\": 48}, {\"column_name\": \"Final score\", \"label_for_charts\": \"Final score\", \"sql_condition\": null, \"log2_bayes_factor\": 8.470657554621832, \"bayes_factor\": 354.7496755581337, \"comparison_vector_value\": null, \"m_probability\": null, \"u_probability\": null, \"bayes_factor_description\": null, \"value_l\": \"\", \"value_r\": \"\", \"term_frequency_adjustment\": null, \"bar_sort_order\": 2, \"record_number\": 48}, {\"column_name\": \"Prior\", \"label_for_charts\": \"Starting match weight (prior)\", \"sql_condition\": null, \"log2_bayes_factor\": -13.287568102831404, \"bayes_factor\": 0.00010001000100010001, \"comparison_vector_value\": null, \"m_probability\": null, \"u_probability\": null, \"bayes_factor_description\": null, \"value_l\": \"\", \"value_r\": \"\", \"term_frequency_adjustment\": null, \"bar_sort_order\": 0, \"record_number\": 49}, {\"column_name\": \"CompanyName\", \"label_for_charts\": \"Exact match\", \"sql_condition\": \"\\\"CompanyName_l\\\" = \\\"CompanyName_r\\\"\", \"log2_bayes_factor\": 21.758225657453238, \"bayes_factor\": 3547142.00590578, \"comparison_vector_value\": 3, \"m_probability\": 0.8623865381443143, \"u_probability\": 2.43121514929059e-07, \"bayes_factor_description\": \"If comparison level is `exact match` then comparison is 3,547,142.01 times more likely to be a match\", \"value_l\": \"THE ONBOARD CREW\", \"value_r\": \"THE ONBOARD CREW\", \"term_frequency_adjustment\": false, \"bar_sort_order\": 1, \"record_number\": 49}, {\"column_name\": \"Final score\", \"label_for_charts\": \"Final score\", \"sql_condition\": null, \"log2_bayes_factor\": 8.470657554621832, \"bayes_factor\": 354.7496755581337, \"comparison_vector_value\": null, \"m_probability\": null, \"u_probability\": null, \"bayes_factor_description\": null, \"value_l\": \"\", \"value_r\": \"\", \"term_frequency_adjustment\": null, \"bar_sort_order\": 2, \"record_number\": 49}, {\"column_name\": \"Prior\", \"label_for_charts\": \"Starting match weight (prior)\", \"sql_condition\": null, \"log2_bayes_factor\": -13.287568102831404, \"bayes_factor\": 0.00010001000100010001, \"comparison_vector_value\": null, \"m_probability\": null, \"u_probability\": null, \"bayes_factor_description\": null, \"value_l\": \"\", \"value_r\": \"\", \"term_frequency_adjustment\": null, \"bar_sort_order\": 0, \"record_number\": 50}, {\"column_name\": \"CompanyName\", \"label_for_charts\": \"Exact match\", \"sql_condition\": \"\\\"CompanyName_l\\\" = \\\"CompanyName_r\\\"\", \"log2_bayes_factor\": 21.758225657453238, \"bayes_factor\": 3547142.00590578, \"comparison_vector_value\": 3, \"m_probability\": 0.8623865381443143, \"u_probability\": 2.43121514929059e-07, \"bayes_factor_description\": \"If comparison level is `exact match` then comparison is 3,547,142.01 times more likely to be a match\", \"value_l\": \"THE PEEL ENTERTAINMENT\", \"value_r\": \"THE PEEL ENTERTAINMENT\", \"term_frequency_adjustment\": false, \"bar_sort_order\": 1, \"record_number\": 50}, {\"column_name\": \"Final score\", \"label_for_charts\": \"Final score\", \"sql_condition\": null, \"log2_bayes_factor\": 8.470657554621832, \"bayes_factor\": 354.7496755581337, \"comparison_vector_value\": null, \"m_probability\": null, \"u_probability\": null, \"bayes_factor_description\": null, \"value_l\": \"\", \"value_r\": \"\", \"term_frequency_adjustment\": null, \"bar_sort_order\": 2, \"record_number\": 50}, {\"column_name\": \"Prior\", \"label_for_charts\": \"Starting match weight (prior)\", \"sql_condition\": null, \"log2_bayes_factor\": -13.287568102831404, \"bayes_factor\": 0.00010001000100010001, \"comparison_vector_value\": null, \"m_probability\": null, \"u_probability\": null, \"bayes_factor_description\": null, \"value_l\": \"\", \"value_r\": \"\", \"term_frequency_adjustment\": null, \"bar_sort_order\": 0, \"record_number\": 51}, {\"column_name\": \"CompanyName\", \"label_for_charts\": \"Jaro_winkler_similarity >= 0.9\", \"sql_condition\": \"jaro_winkler_similarity(\\\"CompanyName_l\\\", \\\"CompanyName_r\\\") >= 0.9\", \"log2_bayes_factor\": 13.81059225609019, \"bayes_factor\": 14368.205372342858, \"comparison_vector_value\": 2, \"m_probability\": 0.11876947513581855, \"u_probability\": 8.266131507588006e-06, \"bayes_factor_description\": \"If comparison level is `jaro_winkler_similarity >= 0.9` then comparison is 14,368.21 times more likely to be a match\", \"value_l\": \"THE SHIP'S PHOTOGRAPHER (SERVICES)\", \"value_r\": \"THE SHIPS PHOTOGRAPHER\", \"term_frequency_adjustment\": false, \"bar_sort_order\": 1, \"record_number\": 51}, {\"column_name\": \"Final score\", \"label_for_charts\": \"Final score\", \"sql_condition\": null, \"log2_bayes_factor\": 0.5230241532587857, \"bayes_factor\": 1.4369642336576514, \"comparison_vector_value\": null, \"m_probability\": null, \"u_probability\": null, \"bayes_factor_description\": null, \"value_l\": \"\", \"value_r\": \"\", \"term_frequency_adjustment\": null, \"bar_sort_order\": 2, \"record_number\": 51}, {\"column_name\": \"Prior\", \"label_for_charts\": \"Starting match weight (prior)\", \"sql_condition\": null, \"log2_bayes_factor\": -13.287568102831404, \"bayes_factor\": 0.00010001000100010001, \"comparison_vector_value\": null, \"m_probability\": null, \"u_probability\": null, \"bayes_factor_description\": null, \"value_l\": \"\", \"value_r\": \"\", \"term_frequency_adjustment\": null, \"bar_sort_order\": 0, \"record_number\": 52}, {\"column_name\": \"CompanyName\", \"label_for_charts\": \"Exact match\", \"sql_condition\": \"\\\"CompanyName_l\\\" = \\\"CompanyName_r\\\"\", \"log2_bayes_factor\": 21.758225657453238, \"bayes_factor\": 3547142.00590578, \"comparison_vector_value\": 3, \"m_probability\": 0.8623865381443143, \"u_probability\": 2.43121514929059e-07, \"bayes_factor_description\": \"If comparison level is `exact match` then comparison is 3,547,142.01 times more likely to be a match\", \"value_l\": \"CLYDE MARINE RECRUITMENT\", \"value_r\": \"CLYDE MARINE RECRUITMENT\", \"term_frequency_adjustment\": false, \"bar_sort_order\": 1, \"record_number\": 52}, {\"column_name\": \"Final score\", \"label_for_charts\": \"Final score\", \"sql_condition\": null, \"log2_bayes_factor\": 8.470657554621832, \"bayes_factor\": 354.7496755581337, \"comparison_vector_value\": null, \"m_probability\": null, \"u_probability\": null, \"bayes_factor_description\": null, \"value_l\": \"\", \"value_r\": \"\", \"term_frequency_adjustment\": null, \"bar_sort_order\": 2, \"record_number\": 52}, {\"column_name\": \"Prior\", \"label_for_charts\": \"Starting match weight (prior)\", \"sql_condition\": null, \"log2_bayes_factor\": -13.287568102831404, \"bayes_factor\": 0.00010001000100010001, \"comparison_vector_value\": null, \"m_probability\": null, \"u_probability\": null, \"bayes_factor_description\": null, \"value_l\": \"\", \"value_r\": \"\", \"term_frequency_adjustment\": null, \"bar_sort_order\": 0, \"record_number\": 53}, {\"column_name\": \"CompanyName\", \"label_for_charts\": \"Jaro_winkler_similarity >= 0.9\", \"sql_condition\": \"jaro_winkler_similarity(\\\"CompanyName_l\\\", \\\"CompanyName_r\\\") >= 0.9\", \"log2_bayes_factor\": 13.81059225609019, \"bayes_factor\": 14368.205372342858, \"comparison_vector_value\": 2, \"m_probability\": 0.11876947513581855, \"u_probability\": 8.266131507588006e-06, \"bayes_factor_description\": \"If comparison level is `jaro_winkler_similarity >= 0.9` then comparison is 14,368.21 times more likely to be a match\", \"value_l\": \"PG GLOBAL ENERGY\", \"value_r\": \"PG GLOBAL\", \"term_frequency_adjustment\": false, \"bar_sort_order\": 1, \"record_number\": 53}, {\"column_name\": \"Final score\", \"label_for_charts\": \"Final score\", \"sql_condition\": null, \"log2_bayes_factor\": 0.5230241532587857, \"bayes_factor\": 1.4369642336576514, \"comparison_vector_value\": null, \"m_probability\": null, \"u_probability\": null, \"bayes_factor_description\": null, \"value_l\": \"\", \"value_r\": \"\", \"term_frequency_adjustment\": null, \"bar_sort_order\": 2, \"record_number\": 53}, {\"column_name\": \"Prior\", \"label_for_charts\": \"Starting match weight (prior)\", \"sql_condition\": null, \"log2_bayes_factor\": -13.287568102831404, \"bayes_factor\": 0.00010001000100010001, \"comparison_vector_value\": null, \"m_probability\": null, \"u_probability\": null, \"bayes_factor_description\": null, \"value_l\": \"\", \"value_r\": \"\", \"term_frequency_adjustment\": null, \"bar_sort_order\": 0, \"record_number\": 54}, {\"column_name\": \"CompanyName\", \"label_for_charts\": \"Exact match\", \"sql_condition\": \"\\\"CompanyName_l\\\" = \\\"CompanyName_r\\\"\", \"log2_bayes_factor\": 21.758225657453238, \"bayes_factor\": 3547142.00590578, \"comparison_vector_value\": 3, \"m_probability\": 0.8623865381443143, \"u_probability\": 2.43121514929059e-07, \"bayes_factor_description\": \"If comparison level is `exact match` then comparison is 3,547,142.01 times more likely to be a match\", \"value_l\": \"SALTWATER RECRUITMENT\", \"value_r\": \"SALTWATER RECRUITMENT\", \"term_frequency_adjustment\": false, \"bar_sort_order\": 1, \"record_number\": 54}, {\"column_name\": \"Final score\", \"label_for_charts\": \"Final score\", \"sql_condition\": null, \"log2_bayes_factor\": 8.470657554621832, \"bayes_factor\": 354.7496755581337, \"comparison_vector_value\": null, \"m_probability\": null, \"u_probability\": null, \"bayes_factor_description\": null, \"value_l\": \"\", \"value_r\": \"\", \"term_frequency_adjustment\": null, \"bar_sort_order\": 2, \"record_number\": 54}, {\"column_name\": \"Prior\", \"label_for_charts\": \"Starting match weight (prior)\", \"sql_condition\": null, \"log2_bayes_factor\": -13.287568102831404, \"bayes_factor\": 0.00010001000100010001, \"comparison_vector_value\": null, \"m_probability\": null, \"u_probability\": null, \"bayes_factor_description\": null, \"value_l\": \"\", \"value_r\": \"\", \"term_frequency_adjustment\": null, \"bar_sort_order\": 0, \"record_number\": 55}, {\"column_name\": \"CompanyName\", \"label_for_charts\": \"Exact match\", \"sql_condition\": \"\\\"CompanyName_l\\\" = \\\"CompanyName_r\\\"\", \"log2_bayes_factor\": 21.758225657453238, \"bayes_factor\": 3547142.00590578, \"comparison_vector_value\": 3, \"m_probability\": 0.8623865381443143, \"u_probability\": 2.43121514929059e-07, \"bayes_factor_description\": \"If comparison level is `exact match` then comparison is 3,547,142.01 times more likely to be a match\", \"value_l\": \"MANE CONTRACT\", \"value_r\": \"MANE CONTRACT\", \"term_frequency_adjustment\": false, \"bar_sort_order\": 1, \"record_number\": 55}, {\"column_name\": \"Final score\", \"label_for_charts\": \"Final score\", \"sql_condition\": null, \"log2_bayes_factor\": 8.470657554621832, \"bayes_factor\": 354.7496755581337, \"comparison_vector_value\": null, \"m_probability\": null, \"u_probability\": null, \"bayes_factor_description\": null, \"value_l\": \"\", \"value_r\": \"\", \"term_frequency_adjustment\": null, \"bar_sort_order\": 2, \"record_number\": 55}, {\"column_name\": \"Prior\", \"label_for_charts\": \"Starting match weight (prior)\", \"sql_condition\": null, \"log2_bayes_factor\": -13.287568102831404, \"bayes_factor\": 0.00010001000100010001, \"comparison_vector_value\": null, \"m_probability\": null, \"u_probability\": null, \"bayes_factor_description\": null, \"value_l\": \"\", \"value_r\": \"\", \"term_frequency_adjustment\": null, \"bar_sort_order\": 0, \"record_number\": 56}, {\"column_name\": \"CompanyName\", \"label_for_charts\": \"Exact match\", \"sql_condition\": \"\\\"CompanyName_l\\\" = \\\"CompanyName_r\\\"\", \"log2_bayes_factor\": 21.758225657453238, \"bayes_factor\": 3547142.00590578, \"comparison_vector_value\": 3, \"m_probability\": 0.8623865381443143, \"u_probability\": 2.43121514929059e-07, \"bayes_factor_description\": \"If comparison level is `exact match` then comparison is 3,547,142.01 times more likely to be a match\", \"value_l\": \"WAYPOINT GLOBAL\", \"value_r\": \"WAYPOINT GLOBAL\", \"term_frequency_adjustment\": false, \"bar_sort_order\": 1, \"record_number\": 56}, {\"column_name\": \"Final score\", \"label_for_charts\": \"Final score\", \"sql_condition\": null, \"log2_bayes_factor\": 8.470657554621832, \"bayes_factor\": 354.7496755581337, \"comparison_vector_value\": null, \"m_probability\": null, \"u_probability\": null, \"bayes_factor_description\": null, \"value_l\": \"\", \"value_r\": \"\", \"term_frequency_adjustment\": null, \"bar_sort_order\": 2, \"record_number\": 56}, {\"column_name\": \"Prior\", \"label_for_charts\": \"Starting match weight (prior)\", \"sql_condition\": null, \"log2_bayes_factor\": -13.287568102831404, \"bayes_factor\": 0.00010001000100010001, \"comparison_vector_value\": null, \"m_probability\": null, \"u_probability\": null, \"bayes_factor_description\": null, \"value_l\": \"\", \"value_r\": \"\", \"term_frequency_adjustment\": null, \"bar_sort_order\": 0, \"record_number\": 57}, {\"column_name\": \"CompanyName\", \"label_for_charts\": \"Jaro_winkler_similarity >= 0.9\", \"sql_condition\": \"jaro_winkler_similarity(\\\"CompanyName_l\\\", \\\"CompanyName_r\\\") >= 0.9\", \"log2_bayes_factor\": 13.81059225609019, \"bayes_factor\": 14368.205372342858, \"comparison_vector_value\": 2, \"m_probability\": 0.11876947513581855, \"u_probability\": 8.266131507588006e-06, \"bayes_factor_description\": \"If comparison level is `jaro_winkler_similarity >= 0.9` then comparison is 14,368.21 times more likely to be a match\", \"value_l\": \"WH SMITH HOSPITALS\", \"value_r\": \"WH SMITH RETAIL\", \"term_frequency_adjustment\": false, \"bar_sort_order\": 1, \"record_number\": 57}, {\"column_name\": \"Final score\", \"label_for_charts\": \"Final score\", \"sql_condition\": null, \"log2_bayes_factor\": 0.5230241532587857, \"bayes_factor\": 1.4369642336576514, \"comparison_vector_value\": null, \"m_probability\": null, \"u_probability\": null, \"bayes_factor_description\": null, \"value_l\": \"\", \"value_r\": \"\", \"term_frequency_adjustment\": null, \"bar_sort_order\": 2, \"record_number\": 57}, {\"column_name\": \"Prior\", \"label_for_charts\": \"Starting match weight (prior)\", \"sql_condition\": null, \"log2_bayes_factor\": -13.287568102831404, \"bayes_factor\": 0.00010001000100010001, \"comparison_vector_value\": null, \"m_probability\": null, \"u_probability\": null, \"bayes_factor_description\": null, \"value_l\": \"\", \"value_r\": \"\", \"term_frequency_adjustment\": null, \"bar_sort_order\": 0, \"record_number\": 58}, {\"column_name\": \"CompanyName\", \"label_for_charts\": \"Jaro_winkler_similarity >= 0.9\", \"sql_condition\": \"jaro_winkler_similarity(\\\"CompanyName_l\\\", \\\"CompanyName_r\\\") >= 0.9\", \"log2_bayes_factor\": 13.81059225609019, \"bayes_factor\": 14368.205372342858, \"comparison_vector_value\": 2, \"m_probability\": 0.11876947513581855, \"u_probability\": 8.266131507588006e-06, \"bayes_factor_description\": \"If comparison level is `jaro_winkler_similarity >= 0.9` then comparison is 14,368.21 times more likely to be a match\", \"value_l\": \"WH SMITH HOSPITALS\", \"value_r\": \"WH SMITH RETAIL\", \"term_frequency_adjustment\": false, \"bar_sort_order\": 1, \"record_number\": 58}, {\"column_name\": \"Final score\", \"label_for_charts\": \"Final score\", \"sql_condition\": null, \"log2_bayes_factor\": 0.5230241532587857, \"bayes_factor\": 1.4369642336576514, \"comparison_vector_value\": null, \"m_probability\": null, \"u_probability\": null, \"bayes_factor_description\": null, \"value_l\": \"\", \"value_r\": \"\", \"term_frequency_adjustment\": null, \"bar_sort_order\": 2, \"record_number\": 58}, {\"column_name\": \"Prior\", \"label_for_charts\": \"Starting match weight (prior)\", \"sql_condition\": null, \"log2_bayes_factor\": -13.287568102831404, \"bayes_factor\": 0.00010001000100010001, \"comparison_vector_value\": null, \"m_probability\": null, \"u_probability\": null, \"bayes_factor_description\": null, \"value_l\": \"\", \"value_r\": \"\", \"term_frequency_adjustment\": null, \"bar_sort_order\": 0, \"record_number\": 59}, {\"column_name\": \"CompanyName\", \"label_for_charts\": \"Jaro_winkler_similarity >= 0.9\", \"sql_condition\": \"jaro_winkler_similarity(\\\"CompanyName_l\\\", \\\"CompanyName_r\\\") >= 0.9\", \"log2_bayes_factor\": 13.81059225609019, \"bayes_factor\": 14368.205372342858, \"comparison_vector_value\": 2, \"m_probability\": 0.11876947513581855, \"u_probability\": 8.266131507588006e-06, \"bayes_factor_description\": \"If comparison level is `jaro_winkler_similarity >= 0.9` then comparison is 14,368.21 times more likely to be a match\", \"value_l\": \"WH SMITH\", \"value_r\": \"WH SMITH RETAIL\", \"term_frequency_adjustment\": false, \"bar_sort_order\": 1, \"record_number\": 59}, {\"column_name\": \"Final score\", \"label_for_charts\": \"Final score\", \"sql_condition\": null, \"log2_bayes_factor\": 0.5230241532587857, \"bayes_factor\": 1.4369642336576514, \"comparison_vector_value\": null, \"m_probability\": null, \"u_probability\": null, \"bayes_factor_description\": null, \"value_l\": \"\", \"value_r\": \"\", \"term_frequency_adjustment\": null, \"bar_sort_order\": 2, \"record_number\": 59}, {\"column_name\": \"Prior\", \"label_for_charts\": \"Starting match weight (prior)\", \"sql_condition\": null, \"log2_bayes_factor\": -13.287568102831404, \"bayes_factor\": 0.00010001000100010001, \"comparison_vector_value\": null, \"m_probability\": null, \"u_probability\": null, \"bayes_factor_description\": null, \"value_l\": \"\", \"value_r\": \"\", \"term_frequency_adjustment\": null, \"bar_sort_order\": 0, \"record_number\": 60}, {\"column_name\": \"CompanyName\", \"label_for_charts\": \"Exact match\", \"sql_condition\": \"\\\"CompanyName_l\\\" = \\\"CompanyName_r\\\"\", \"log2_bayes_factor\": 21.758225657453238, \"bayes_factor\": 3547142.00590578, \"comparison_vector_value\": 3, \"m_probability\": 0.8623865381443143, \"u_probability\": 2.43121514929059e-07, \"bayes_factor_description\": \"If comparison level is `exact match` then comparison is 3,547,142.01 times more likely to be a match\", \"value_l\": \"WH SMITH RETAIL\", \"value_r\": \"WH SMITH RETAIL\", \"term_frequency_adjustment\": false, \"bar_sort_order\": 1, \"record_number\": 60}, {\"column_name\": \"Final score\", \"label_for_charts\": \"Final score\", \"sql_condition\": null, \"log2_bayes_factor\": 8.470657554621832, \"bayes_factor\": 354.7496755581337, \"comparison_vector_value\": null, \"m_probability\": null, \"u_probability\": null, \"bayes_factor_description\": null, \"value_l\": \"\", \"value_r\": \"\", \"term_frequency_adjustment\": null, \"bar_sort_order\": 2, \"record_number\": 60}, {\"column_name\": \"Prior\", \"label_for_charts\": \"Starting match weight (prior)\", \"sql_condition\": null, \"log2_bayes_factor\": -13.287568102831404, \"bayes_factor\": 0.00010001000100010001, \"comparison_vector_value\": null, \"m_probability\": null, \"u_probability\": null, \"bayes_factor_description\": null, \"value_l\": \"\", \"value_r\": \"\", \"term_frequency_adjustment\": null, \"bar_sort_order\": 0, \"record_number\": 61}, {\"column_name\": \"CompanyName\", \"label_for_charts\": \"Jaro_winkler_similarity >= 0.9\", \"sql_condition\": \"jaro_winkler_similarity(\\\"CompanyName_l\\\", \\\"CompanyName_r\\\") >= 0.9\", \"log2_bayes_factor\": 13.81059225609019, \"bayes_factor\": 14368.205372342858, \"comparison_vector_value\": 2, \"m_probability\": 0.11876947513581855, \"u_probability\": 8.266131507588006e-06, \"bayes_factor_description\": \"If comparison level is `jaro_winkler_similarity >= 0.9` then comparison is 14,368.21 times more likely to be a match\", \"value_l\": \"WH SMITH TRAVEL\", \"value_r\": \"WH SMITH RETAIL\", \"term_frequency_adjustment\": false, \"bar_sort_order\": 1, \"record_number\": 61}, {\"column_name\": \"Final score\", \"label_for_charts\": \"Final score\", \"sql_condition\": null, \"log2_bayes_factor\": 0.5230241532587857, \"bayes_factor\": 1.4369642336576514, \"comparison_vector_value\": null, \"m_probability\": null, \"u_probability\": null, \"bayes_factor_description\": null, \"value_l\": \"\", \"value_r\": \"\", \"term_frequency_adjustment\": null, \"bar_sort_order\": 2, \"record_number\": 61}, {\"column_name\": \"Prior\", \"label_for_charts\": \"Starting match weight (prior)\", \"sql_condition\": null, \"log2_bayes_factor\": -13.287568102831404, \"bayes_factor\": 0.00010001000100010001, \"comparison_vector_value\": null, \"m_probability\": null, \"u_probability\": null, \"bayes_factor_description\": null, \"value_l\": \"\", \"value_r\": \"\", \"term_frequency_adjustment\": null, \"bar_sort_order\": 0, \"record_number\": 62}, {\"column_name\": \"CompanyName\", \"label_for_charts\": \"Jaro_winkler_similarity >= 0.9\", \"sql_condition\": \"jaro_winkler_similarity(\\\"CompanyName_l\\\", \\\"CompanyName_r\\\") >= 0.9\", \"log2_bayes_factor\": 13.81059225609019, \"bayes_factor\": 14368.205372342858, \"comparison_vector_value\": 2, \"m_probability\": 0.11876947513581855, \"u_probability\": 8.266131507588006e-06, \"bayes_factor_description\": \"If comparison level is `jaro_winkler_similarity >= 0.9` then comparison is 14,368.21 times more likely to be a match\", \"value_l\": \"WH SMITH TRAVEL\", \"value_r\": \"WH SMITH RETAIL\", \"term_frequency_adjustment\": false, \"bar_sort_order\": 1, \"record_number\": 62}, {\"column_name\": \"Final score\", \"label_for_charts\": \"Final score\", \"sql_condition\": null, \"log2_bayes_factor\": 0.5230241532587857, \"bayes_factor\": 1.4369642336576514, \"comparison_vector_value\": null, \"m_probability\": null, \"u_probability\": null, \"bayes_factor_description\": null, \"value_l\": \"\", \"value_r\": \"\", \"term_frequency_adjustment\": null, \"bar_sort_order\": 2, \"record_number\": 62}, {\"column_name\": \"Prior\", \"label_for_charts\": \"Starting match weight (prior)\", \"sql_condition\": null, \"log2_bayes_factor\": -13.287568102831404, \"bayes_factor\": 0.00010001000100010001, \"comparison_vector_value\": null, \"m_probability\": null, \"u_probability\": null, \"bayes_factor_description\": null, \"value_l\": \"\", \"value_r\": \"\", \"term_frequency_adjustment\": null, \"bar_sort_order\": 0, \"record_number\": 63}, {\"column_name\": \"CompanyName\", \"label_for_charts\": \"Jaro_winkler_similarity >= 0.9\", \"sql_condition\": \"jaro_winkler_similarity(\\\"CompanyName_l\\\", \\\"CompanyName_r\\\") >= 0.9\", \"log2_bayes_factor\": 13.81059225609019, \"bayes_factor\": 14368.205372342858, \"comparison_vector_value\": 2, \"m_probability\": 0.11876947513581855, \"u_probability\": 8.266131507588006e-06, \"bayes_factor_description\": \"If comparison level is `jaro_winkler_similarity >= 0.9` then comparison is 14,368.21 times more likely to be a match\", \"value_l\": \"WH SMITH US RETAIL\", \"value_r\": \"WH SMITH RETAIL\", \"term_frequency_adjustment\": false, \"bar_sort_order\": 1, \"record_number\": 63}, {\"column_name\": \"Final score\", \"label_for_charts\": \"Final score\", \"sql_condition\": null, \"log2_bayes_factor\": 0.5230241532587857, \"bayes_factor\": 1.4369642336576514, \"comparison_vector_value\": null, \"m_probability\": null, \"u_probability\": null, \"bayes_factor_description\": null, \"value_l\": \"\", \"value_r\": \"\", \"term_frequency_adjustment\": null, \"bar_sort_order\": 2, \"record_number\": 63}, {\"column_name\": \"Prior\", \"label_for_charts\": \"Starting match weight (prior)\", \"sql_condition\": null, \"log2_bayes_factor\": -13.287568102831404, \"bayes_factor\": 0.00010001000100010001, \"comparison_vector_value\": null, \"m_probability\": null, \"u_probability\": null, \"bayes_factor_description\": null, \"value_l\": \"\", \"value_r\": \"\", \"term_frequency_adjustment\": null, \"bar_sort_order\": 0, \"record_number\": 64}, {\"column_name\": \"CompanyName\", \"label_for_charts\": \"Exact match\", \"sql_condition\": \"\\\"CompanyName_l\\\" = \\\"CompanyName_r\\\"\", \"log2_bayes_factor\": 21.758225657453238, \"bayes_factor\": 3547142.00590578, \"comparison_vector_value\": 3, \"m_probability\": 0.8623865381443143, \"u_probability\": 2.43121514929059e-07, \"bayes_factor_description\": \"If comparison level is `exact match` then comparison is 3,547,142.01 times more likely to be a match\", \"value_l\": \"BELINDA KING CREATIVE PRODUCTIONS\", \"value_r\": \"BELINDA KING CREATIVE PRODUCTIONS\", \"term_frequency_adjustment\": false, \"bar_sort_order\": 1, \"record_number\": 64}, {\"column_name\": \"Final score\", \"label_for_charts\": \"Final score\", \"sql_condition\": null, \"log2_bayes_factor\": 8.470657554621832, \"bayes_factor\": 354.7496755581337, \"comparison_vector_value\": null, \"m_probability\": null, \"u_probability\": null, \"bayes_factor_description\": null, \"value_l\": \"\", \"value_r\": \"\", \"term_frequency_adjustment\": null, \"bar_sort_order\": 2, \"record_number\": 64}, {\"column_name\": \"Prior\", \"label_for_charts\": \"Starting match weight (prior)\", \"sql_condition\": null, \"log2_bayes_factor\": -13.287568102831404, \"bayes_factor\": 0.00010001000100010001, \"comparison_vector_value\": null, \"m_probability\": null, \"u_probability\": null, \"bayes_factor_description\": null, \"value_l\": \"\", \"value_r\": \"\", \"term_frequency_adjustment\": null, \"bar_sort_order\": 0, \"record_number\": 65}, {\"column_name\": \"CompanyName\", \"label_for_charts\": \"Exact match\", \"sql_condition\": \"\\\"CompanyName_l\\\" = \\\"CompanyName_r\\\"\", \"log2_bayes_factor\": 21.758225657453238, \"bayes_factor\": 3547142.00590578, \"comparison_vector_value\": 3, \"m_probability\": 0.8623865381443143, \"u_probability\": 2.43121514929059e-07, \"bayes_factor_description\": \"If comparison level is `exact match` then comparison is 3,547,142.01 times more likely to be a match\", \"value_l\": \"CELOX YACHTING\", \"value_r\": \"CELOX YACHTING\", \"term_frequency_adjustment\": false, \"bar_sort_order\": 1, \"record_number\": 65}, {\"column_name\": \"Final score\", \"label_for_charts\": \"Final score\", \"sql_condition\": null, \"log2_bayes_factor\": 8.470657554621832, \"bayes_factor\": 354.7496755581337, \"comparison_vector_value\": null, \"m_probability\": null, \"u_probability\": null, \"bayes_factor_description\": null, \"value_l\": \"\", \"value_r\": \"\", \"term_frequency_adjustment\": null, \"bar_sort_order\": 2, \"record_number\": 65}, {\"column_name\": \"Prior\", \"label_for_charts\": \"Starting match weight (prior)\", \"sql_condition\": null, \"log2_bayes_factor\": -13.287568102831404, \"bayes_factor\": 0.00010001000100010001, \"comparison_vector_value\": null, \"m_probability\": null, \"u_probability\": null, \"bayes_factor_description\": null, \"value_l\": \"\", \"value_r\": \"\", \"term_frequency_adjustment\": null, \"bar_sort_order\": 0, \"record_number\": 66}, {\"column_name\": \"CompanyName\", \"label_for_charts\": \"Exact match\", \"sql_condition\": \"\\\"CompanyName_l\\\" = \\\"CompanyName_r\\\"\", \"log2_bayes_factor\": 21.758225657453238, \"bayes_factor\": 3547142.00590578, \"comparison_vector_value\": 3, \"m_probability\": 0.8623865381443143, \"u_probability\": 2.43121514929059e-07, \"bayes_factor_description\": \"If comparison level is `exact match` then comparison is 3,547,142.01 times more likely to be a match\", \"value_l\": \"FASTSTREAM RECRUITMENT\", \"value_r\": \"FASTSTREAM RECRUITMENT\", \"term_frequency_adjustment\": false, \"bar_sort_order\": 1, \"record_number\": 66}, {\"column_name\": \"Final score\", \"label_for_charts\": \"Final score\", \"sql_condition\": null, \"log2_bayes_factor\": 8.470657554621832, \"bayes_factor\": 354.7496755581337, \"comparison_vector_value\": null, \"m_probability\": null, \"u_probability\": null, \"bayes_factor_description\": null, \"value_l\": \"\", \"value_r\": \"\", \"term_frequency_adjustment\": null, \"bar_sort_order\": 2, \"record_number\": 66}, {\"column_name\": \"Prior\", \"label_for_charts\": \"Starting match weight (prior)\", \"sql_condition\": null, \"log2_bayes_factor\": -13.287568102831404, \"bayes_factor\": 0.00010001000100010001, \"comparison_vector_value\": null, \"m_probability\": null, \"u_probability\": null, \"bayes_factor_description\": null, \"value_l\": \"\", \"value_r\": \"\", \"term_frequency_adjustment\": null, \"bar_sort_order\": 0, \"record_number\": 67}, {\"column_name\": \"CompanyName\", \"label_for_charts\": \"Exact match\", \"sql_condition\": \"\\\"CompanyName_l\\\" = \\\"CompanyName_r\\\"\", \"log2_bayes_factor\": 21.758225657453238, \"bayes_factor\": 3547142.00590578, \"comparison_vector_value\": 3, \"m_probability\": 0.8623865381443143, \"u_probability\": 2.43121514929059e-07, \"bayes_factor_description\": \"If comparison level is `exact match` then comparison is 3,547,142.01 times more likely to be a match\", \"value_l\": \"SWATHE (UK)\", \"value_r\": \"SWATHE (UK)\", \"term_frequency_adjustment\": false, \"bar_sort_order\": 1, \"record_number\": 67}, {\"column_name\": \"Final score\", \"label_for_charts\": \"Final score\", \"sql_condition\": null, \"log2_bayes_factor\": 8.470657554621832, \"bayes_factor\": 354.7496755581337, \"comparison_vector_value\": null, \"m_probability\": null, \"u_probability\": null, \"bayes_factor_description\": null, \"value_l\": \"\", \"value_r\": \"\", \"term_frequency_adjustment\": null, \"bar_sort_order\": 2, \"record_number\": 67}, {\"column_name\": \"Prior\", \"label_for_charts\": \"Starting match weight (prior)\", \"sql_condition\": null, \"log2_bayes_factor\": -13.287568102831404, \"bayes_factor\": 0.00010001000100010001, \"comparison_vector_value\": null, \"m_probability\": null, \"u_probability\": null, \"bayes_factor_description\": null, \"value_l\": \"\", \"value_r\": \"\", \"term_frequency_adjustment\": null, \"bar_sort_order\": 0, \"record_number\": 68}, {\"column_name\": \"CompanyName\", \"label_for_charts\": \"Exact match\", \"sql_condition\": \"\\\"CompanyName_l\\\" = \\\"CompanyName_r\\\"\", \"log2_bayes_factor\": 21.758225657453238, \"bayes_factor\": 3547142.00590578, \"comparison_vector_value\": 3, \"m_probability\": 0.8623865381443143, \"u_probability\": 2.43121514929059e-07, \"bayes_factor_description\": \"If comparison level is `exact match` then comparison is 3,547,142.01 times more likely to be a match\", \"value_l\": \"WINCH YACHT RECRUITMENT\", \"value_r\": \"WINCH YACHT RECRUITMENT\", \"term_frequency_adjustment\": false, \"bar_sort_order\": 1, \"record_number\": 68}, {\"column_name\": \"Final score\", \"label_for_charts\": \"Final score\", \"sql_condition\": null, \"log2_bayes_factor\": 8.470657554621832, \"bayes_factor\": 354.7496755581337, \"comparison_vector_value\": null, \"m_probability\": null, \"u_probability\": null, \"bayes_factor_description\": null, \"value_l\": \"\", \"value_r\": \"\", \"term_frequency_adjustment\": null, \"bar_sort_order\": 2, \"record_number\": 68}, {\"column_name\": \"Prior\", \"label_for_charts\": \"Starting match weight (prior)\", \"sql_condition\": null, \"log2_bayes_factor\": -13.287568102831404, \"bayes_factor\": 0.00010001000100010001, \"comparison_vector_value\": null, \"m_probability\": null, \"u_probability\": null, \"bayes_factor_description\": null, \"value_l\": \"\", \"value_r\": \"\", \"term_frequency_adjustment\": null, \"bar_sort_order\": 0, \"record_number\": 69}, {\"column_name\": \"CompanyName\", \"label_for_charts\": \"Exact match\", \"sql_condition\": \"\\\"CompanyName_l\\\" = \\\"CompanyName_r\\\"\", \"log2_bayes_factor\": 21.758225657453238, \"bayes_factor\": 3547142.00590578, \"comparison_vector_value\": 3, \"m_probability\": 0.8623865381443143, \"u_probability\": 2.43121514929059e-07, \"bayes_factor_description\": \"If comparison level is `exact match` then comparison is 3,547,142.01 times more likely to be a match\", \"value_l\": \"WORLDWIDE RECRUITMENT SOLUTIONS\", \"value_r\": \"WORLDWIDE RECRUITMENT SOLUTIONS\", \"term_frequency_adjustment\": false, \"bar_sort_order\": 1, \"record_number\": 69}, {\"column_name\": \"Final score\", \"label_for_charts\": \"Final score\", \"sql_condition\": null, \"log2_bayes_factor\": 8.470657554621832, \"bayes_factor\": 354.7496755581337, \"comparison_vector_value\": null, \"m_probability\": null, \"u_probability\": null, \"bayes_factor_description\": null, \"value_l\": \"\", \"value_r\": \"\", \"term_frequency_adjustment\": null, \"bar_sort_order\": 2, \"record_number\": 69}, {\"column_name\": \"Prior\", \"label_for_charts\": \"Starting match weight (prior)\", \"sql_condition\": null, \"log2_bayes_factor\": -13.287568102831404, \"bayes_factor\": 0.00010001000100010001, \"comparison_vector_value\": null, \"m_probability\": null, \"u_probability\": null, \"bayes_factor_description\": null, \"value_l\": \"\", \"value_r\": \"\", \"term_frequency_adjustment\": null, \"bar_sort_order\": 0, \"record_number\": 70}, {\"column_name\": \"CompanyName\", \"label_for_charts\": \"Exact match\", \"sql_condition\": \"\\\"CompanyName_l\\\" = \\\"CompanyName_r\\\"\", \"log2_bayes_factor\": 21.758225657453238, \"bayes_factor\": 3547142.00590578, \"comparison_vector_value\": 3, \"m_probability\": 0.8623865381443143, \"u_probability\": 2.43121514929059e-07, \"bayes_factor_description\": \"If comparison level is `exact match` then comparison is 3,547,142.01 times more likely to be a match\", \"value_l\": \"QUAY CREW\", \"value_r\": \"QUAY CREW\", \"term_frequency_adjustment\": false, \"bar_sort_order\": 1, \"record_number\": 70}, {\"column_name\": \"Final score\", \"label_for_charts\": \"Final score\", \"sql_condition\": null, \"log2_bayes_factor\": 8.470657554621832, \"bayes_factor\": 354.7496755581337, \"comparison_vector_value\": null, \"m_probability\": null, \"u_probability\": null, \"bayes_factor_description\": null, \"value_l\": \"\", \"value_r\": \"\", \"term_frequency_adjustment\": null, \"bar_sort_order\": 2, \"record_number\": 70}, {\"column_name\": \"Prior\", \"label_for_charts\": \"Starting match weight (prior)\", \"sql_condition\": null, \"log2_bayes_factor\": -13.287568102831404, \"bayes_factor\": 0.00010001000100010001, \"comparison_vector_value\": null, \"m_probability\": null, \"u_probability\": null, \"bayes_factor_description\": null, \"value_l\": \"\", \"value_r\": \"\", \"term_frequency_adjustment\": null, \"bar_sort_order\": 0, \"record_number\": 71}, {\"column_name\": \"CompanyName\", \"label_for_charts\": \"Exact match\", \"sql_condition\": \"\\\"CompanyName_l\\\" = \\\"CompanyName_r\\\"\", \"log2_bayes_factor\": 21.758225657453238, \"bayes_factor\": 3547142.00590578, \"comparison_vector_value\": 3, \"m_probability\": 0.8623865381443143, \"u_probability\": 2.43121514929059e-07, \"bayes_factor_description\": \"If comparison level is `exact match` then comparison is 3,547,142.01 times more likely to be a match\", \"value_l\": \"TEAM ENERGY RESOURCES\", \"value_r\": \"TEAM ENERGY RESOURCES\", \"term_frequency_adjustment\": false, \"bar_sort_order\": 1, \"record_number\": 71}, {\"column_name\": \"Final score\", \"label_for_charts\": \"Final score\", \"sql_condition\": null, \"log2_bayes_factor\": 8.470657554621832, \"bayes_factor\": 354.7496755581337, \"comparison_vector_value\": null, \"m_probability\": null, \"u_probability\": null, \"bayes_factor_description\": null, \"value_l\": \"\", \"value_r\": \"\", \"term_frequency_adjustment\": null, \"bar_sort_order\": 2, \"record_number\": 71}, {\"column_name\": \"Prior\", \"label_for_charts\": \"Starting match weight (prior)\", \"sql_condition\": null, \"log2_bayes_factor\": -13.287568102831404, \"bayes_factor\": 0.00010001000100010001, \"comparison_vector_value\": null, \"m_probability\": null, \"u_probability\": null, \"bayes_factor_description\": null, \"value_l\": \"\", \"value_r\": \"\", \"term_frequency_adjustment\": null, \"bar_sort_order\": 0, \"record_number\": 72}, {\"column_name\": \"CompanyName\", \"label_for_charts\": \"Exact match\", \"sql_condition\": \"\\\"CompanyName_l\\\" = \\\"CompanyName_r\\\"\", \"log2_bayes_factor\": 21.758225657453238, \"bayes_factor\": 3547142.00590578, \"comparison_vector_value\": 3, \"m_probability\": 0.8623865381443143, \"u_probability\": 2.43121514929059e-07, \"bayes_factor_description\": \"If comparison level is `exact match` then comparison is 3,547,142.01 times more likely to be a match\", \"value_l\": \"ETHOS FARM\", \"value_r\": \"ETHOS FARM\", \"term_frequency_adjustment\": false, \"bar_sort_order\": 1, \"record_number\": 72}, {\"column_name\": \"Final score\", \"label_for_charts\": \"Final score\", \"sql_condition\": null, \"log2_bayes_factor\": 8.470657554621832, \"bayes_factor\": 354.7496755581337, \"comparison_vector_value\": null, \"m_probability\": null, \"u_probability\": null, \"bayes_factor_description\": null, \"value_l\": \"\", \"value_r\": \"\", \"term_frequency_adjustment\": null, \"bar_sort_order\": 2, \"record_number\": 72}, {\"column_name\": \"Prior\", \"label_for_charts\": \"Starting match weight (prior)\", \"sql_condition\": null, \"log2_bayes_factor\": -13.287568102831404, \"bayes_factor\": 0.00010001000100010001, \"comparison_vector_value\": null, \"m_probability\": null, \"u_probability\": null, \"bayes_factor_description\": null, \"value_l\": \"\", \"value_r\": \"\", \"term_frequency_adjustment\": null, \"bar_sort_order\": 0, \"record_number\": 73}, {\"column_name\": \"CompanyName\", \"label_for_charts\": \"Exact match\", \"sql_condition\": \"\\\"CompanyName_l\\\" = \\\"CompanyName_r\\\"\", \"log2_bayes_factor\": 21.758225657453238, \"bayes_factor\": 3547142.00590578, \"comparison_vector_value\": 3, \"m_probability\": 0.8623865381443143, \"u_probability\": 2.43121514929059e-07, \"bayes_factor_description\": \"If comparison level is `exact match` then comparison is 3,547,142.01 times more likely to be a match\", \"value_l\": \"ETHOS FARM\", \"value_r\": \"ETHOS FARM\", \"term_frequency_adjustment\": false, \"bar_sort_order\": 1, \"record_number\": 73}, {\"column_name\": \"Final score\", \"label_for_charts\": \"Final score\", \"sql_condition\": null, \"log2_bayes_factor\": 8.470657554621832, \"bayes_factor\": 354.7496755581337, \"comparison_vector_value\": null, \"m_probability\": null, \"u_probability\": null, \"bayes_factor_description\": null, \"value_l\": \"\", \"value_r\": \"\", \"term_frequency_adjustment\": null, \"bar_sort_order\": 2, \"record_number\": 73}, {\"column_name\": \"Prior\", \"label_for_charts\": \"Starting match weight (prior)\", \"sql_condition\": null, \"log2_bayes_factor\": -13.287568102831404, \"bayes_factor\": 0.00010001000100010001, \"comparison_vector_value\": null, \"m_probability\": null, \"u_probability\": null, \"bayes_factor_description\": null, \"value_l\": \"\", \"value_r\": \"\", \"term_frequency_adjustment\": null, \"bar_sort_order\": 0, \"record_number\": 74}, {\"column_name\": \"CompanyName\", \"label_for_charts\": \"Exact match\", \"sql_condition\": \"\\\"CompanyName_l\\\" = \\\"CompanyName_r\\\"\", \"log2_bayes_factor\": 21.758225657453238, \"bayes_factor\": 3547142.00590578, \"comparison_vector_value\": 3, \"m_probability\": 0.8623865381443143, \"u_probability\": 2.43121514929059e-07, \"bayes_factor_description\": \"If comparison level is `exact match` then comparison is 3,547,142.01 times more likely to be a match\", \"value_l\": \"HYDRO ENERGY\", \"value_r\": \"HYDRO ENERGY\", \"term_frequency_adjustment\": false, \"bar_sort_order\": 1, \"record_number\": 74}, {\"column_name\": \"Final score\", \"label_for_charts\": \"Final score\", \"sql_condition\": null, \"log2_bayes_factor\": 8.470657554621832, \"bayes_factor\": 354.7496755581337, \"comparison_vector_value\": null, \"m_probability\": null, \"u_probability\": null, \"bayes_factor_description\": null, \"value_l\": \"\", \"value_r\": \"\", \"term_frequency_adjustment\": null, \"bar_sort_order\": 2, \"record_number\": 74}, {\"column_name\": \"Prior\", \"label_for_charts\": \"Starting match weight (prior)\", \"sql_condition\": null, \"log2_bayes_factor\": -13.287568102831404, \"bayes_factor\": 0.00010001000100010001, \"comparison_vector_value\": null, \"m_probability\": null, \"u_probability\": null, \"bayes_factor_description\": null, \"value_l\": \"\", \"value_r\": \"\", \"term_frequency_adjustment\": null, \"bar_sort_order\": 0, \"record_number\": 75}, {\"column_name\": \"CompanyName\", \"label_for_charts\": \"Exact match\", \"sql_condition\": \"\\\"CompanyName_l\\\" = \\\"CompanyName_r\\\"\", \"log2_bayes_factor\": 21.758225657453238, \"bayes_factor\": 3547142.00590578, \"comparison_vector_value\": 3, \"m_probability\": 0.8623865381443143, \"u_probability\": 2.43121514929059e-07, \"bayes_factor_description\": \"If comparison level is `exact match` then comparison is 3,547,142.01 times more likely to be a match\", \"value_l\": \"HYDRO ENERGY\", \"value_r\": \"HYDRO ENERGY\", \"term_frequency_adjustment\": false, \"bar_sort_order\": 1, \"record_number\": 75}, {\"column_name\": \"Final score\", \"label_for_charts\": \"Final score\", \"sql_condition\": null, \"log2_bayes_factor\": 8.470657554621832, \"bayes_factor\": 354.7496755581337, \"comparison_vector_value\": null, \"m_probability\": null, \"u_probability\": null, \"bayes_factor_description\": null, \"value_l\": \"\", \"value_r\": \"\", \"term_frequency_adjustment\": null, \"bar_sort_order\": 2, \"record_number\": 75}, {\"column_name\": \"Prior\", \"label_for_charts\": \"Starting match weight (prior)\", \"sql_condition\": null, \"log2_bayes_factor\": -13.287568102831404, \"bayes_factor\": 0.00010001000100010001, \"comparison_vector_value\": null, \"m_probability\": null, \"u_probability\": null, \"bayes_factor_description\": null, \"value_l\": \"\", \"value_r\": \"\", \"term_frequency_adjustment\": null, \"bar_sort_order\": 0, \"record_number\": 76}, {\"column_name\": \"CompanyName\", \"label_for_charts\": \"Exact match\", \"sql_condition\": \"\\\"CompanyName_l\\\" = \\\"CompanyName_r\\\"\", \"log2_bayes_factor\": 21.758225657453238, \"bayes_factor\": 3547142.00590578, \"comparison_vector_value\": 3, \"m_probability\": 0.8623865381443143, \"u_probability\": 2.43121514929059e-07, \"bayes_factor_description\": \"If comparison level is `exact match` then comparison is 3,547,142.01 times more likely to be a match\", \"value_l\": \"MERCHANT NAVY RESOURCES\", \"value_r\": \"MERCHANT NAVY RESOURCES\", \"term_frequency_adjustment\": false, \"bar_sort_order\": 1, \"record_number\": 76}, {\"column_name\": \"Final score\", \"label_for_charts\": \"Final score\", \"sql_condition\": null, \"log2_bayes_factor\": 8.470657554621832, \"bayes_factor\": 354.7496755581337, \"comparison_vector_value\": null, \"m_probability\": null, \"u_probability\": null, \"bayes_factor_description\": null, \"value_l\": \"\", \"value_r\": \"\", \"term_frequency_adjustment\": null, \"bar_sort_order\": 2, \"record_number\": 76}, {\"column_name\": \"Prior\", \"label_for_charts\": \"Starting match weight (prior)\", \"sql_condition\": null, \"log2_bayes_factor\": -13.287568102831404, \"bayes_factor\": 0.00010001000100010001, \"comparison_vector_value\": null, \"m_probability\": null, \"u_probability\": null, \"bayes_factor_description\": null, \"value_l\": \"\", \"value_r\": \"\", \"term_frequency_adjustment\": null, \"bar_sort_order\": 0, \"record_number\": 77}, {\"column_name\": \"CompanyName\", \"label_for_charts\": \"Exact match\", \"sql_condition\": \"\\\"CompanyName_l\\\" = \\\"CompanyName_r\\\"\", \"log2_bayes_factor\": 21.758225657453238, \"bayes_factor\": 3547142.00590578, \"comparison_vector_value\": 3, \"m_probability\": 0.8623865381443143, \"u_probability\": 2.43121514929059e-07, \"bayes_factor_description\": \"If comparison level is `exact match` then comparison is 3,547,142.01 times more likely to be a match\", \"value_l\": \"ARAMARK\", \"value_r\": \"ARAMARK\", \"term_frequency_adjustment\": false, \"bar_sort_order\": 1, \"record_number\": 77}, {\"column_name\": \"Final score\", \"label_for_charts\": \"Final score\", \"sql_condition\": null, \"log2_bayes_factor\": 8.470657554621832, \"bayes_factor\": 354.7496755581337, \"comparison_vector_value\": null, \"m_probability\": null, \"u_probability\": null, \"bayes_factor_description\": null, \"value_l\": \"\", \"value_r\": \"\", \"term_frequency_adjustment\": null, \"bar_sort_order\": 2, \"record_number\": 77}, {\"column_name\": \"Prior\", \"label_for_charts\": \"Starting match weight (prior)\", \"sql_condition\": null, \"log2_bayes_factor\": -13.287568102831404, \"bayes_factor\": 0.00010001000100010001, \"comparison_vector_value\": null, \"m_probability\": null, \"u_probability\": null, \"bayes_factor_description\": null, \"value_l\": \"\", \"value_r\": \"\", \"term_frequency_adjustment\": null, \"bar_sort_order\": 0, \"record_number\": 78}, {\"column_name\": \"CompanyName\", \"label_for_charts\": \"Exact match\", \"sql_condition\": \"\\\"CompanyName_l\\\" = \\\"CompanyName_r\\\"\", \"log2_bayes_factor\": 21.758225657453238, \"bayes_factor\": 3547142.00590578, \"comparison_vector_value\": 3, \"m_probability\": 0.8623865381443143, \"u_probability\": 2.43121514929059e-07, \"bayes_factor_description\": \"If comparison level is `exact match` then comparison is 3,547,142.01 times more likely to be a match\", \"value_l\": \"ARCHER RESOURCING\", \"value_r\": \"ARCHER RESOURCING\", \"term_frequency_adjustment\": false, \"bar_sort_order\": 1, \"record_number\": 78}, {\"column_name\": \"Final score\", \"label_for_charts\": \"Final score\", \"sql_condition\": null, \"log2_bayes_factor\": 8.470657554621832, \"bayes_factor\": 354.7496755581337, \"comparison_vector_value\": null, \"m_probability\": null, \"u_probability\": null, \"bayes_factor_description\": null, \"value_l\": \"\", \"value_r\": \"\", \"term_frequency_adjustment\": null, \"bar_sort_order\": 2, \"record_number\": 78}, {\"column_name\": \"Prior\", \"label_for_charts\": \"Starting match weight (prior)\", \"sql_condition\": null, \"log2_bayes_factor\": -13.287568102831404, \"bayes_factor\": 0.00010001000100010001, \"comparison_vector_value\": null, \"m_probability\": null, \"u_probability\": null, \"bayes_factor_description\": null, \"value_l\": \"\", \"value_r\": \"\", \"term_frequency_adjustment\": null, \"bar_sort_order\": 0, \"record_number\": 79}, {\"column_name\": \"CompanyName\", \"label_for_charts\": \"Exact match\", \"sql_condition\": \"\\\"CompanyName_l\\\" = \\\"CompanyName_r\\\"\", \"log2_bayes_factor\": 21.758225657453238, \"bayes_factor\": 3547142.00590578, \"comparison_vector_value\": 3, \"m_probability\": 0.8623865381443143, \"u_probability\": 2.43121514929059e-07, \"bayes_factor_description\": \"If comparison level is `exact match` then comparison is 3,547,142.01 times more likely to be a match\", \"value_l\": \"PRECISE CONSULTANTS\", \"value_r\": \"PRECISE CONSULTANTS\", \"term_frequency_adjustment\": false, \"bar_sort_order\": 1, \"record_number\": 79}, {\"column_name\": \"Final score\", \"label_for_charts\": \"Final score\", \"sql_condition\": null, \"log2_bayes_factor\": 8.470657554621832, \"bayes_factor\": 354.7496755581337, \"comparison_vector_value\": null, \"m_probability\": null, \"u_probability\": null, \"bayes_factor_description\": null, \"value_l\": \"\", \"value_r\": \"\", \"term_frequency_adjustment\": null, \"bar_sort_order\": 2, \"record_number\": 79}, {\"column_name\": \"Prior\", \"label_for_charts\": \"Starting match weight (prior)\", \"sql_condition\": null, \"log2_bayes_factor\": -13.287568102831404, \"bayes_factor\": 0.00010001000100010001, \"comparison_vector_value\": null, \"m_probability\": null, \"u_probability\": null, \"bayes_factor_description\": null, \"value_l\": \"\", \"value_r\": \"\", \"term_frequency_adjustment\": null, \"bar_sort_order\": 0, \"record_number\": 80}, {\"column_name\": \"CompanyName\", \"label_for_charts\": \"Exact match\", \"sql_condition\": \"\\\"CompanyName_l\\\" = \\\"CompanyName_r\\\"\", \"log2_bayes_factor\": 21.758225657453238, \"bayes_factor\": 3547142.00590578, \"comparison_vector_value\": 3, \"m_probability\": 0.8623865381443143, \"u_probability\": 2.43121514929059e-07, \"bayes_factor_description\": \"If comparison level is `exact match` then comparison is 3,547,142.01 times more likely to be a match\", \"value_l\": \"STELLAMAR RECRUITMENT\", \"value_r\": \"STELLAMAR RECRUITMENT\", \"term_frequency_adjustment\": false, \"bar_sort_order\": 1, \"record_number\": 80}, {\"column_name\": \"Final score\", \"label_for_charts\": \"Final score\", \"sql_condition\": null, \"log2_bayes_factor\": 8.470657554621832, \"bayes_factor\": 354.7496755581337, \"comparison_vector_value\": null, \"m_probability\": null, \"u_probability\": null, \"bayes_factor_description\": null, \"value_l\": \"\", \"value_r\": \"\", \"term_frequency_adjustment\": null, \"bar_sort_order\": 2, \"record_number\": 80}, {\"column_name\": \"Prior\", \"label_for_charts\": \"Starting match weight (prior)\", \"sql_condition\": null, \"log2_bayes_factor\": -13.287568102831404, \"bayes_factor\": 0.00010001000100010001, \"comparison_vector_value\": null, \"m_probability\": null, \"u_probability\": null, \"bayes_factor_description\": null, \"value_l\": \"\", \"value_r\": \"\", \"term_frequency_adjustment\": null, \"bar_sort_order\": 0, \"record_number\": 81}, {\"column_name\": \"CompanyName\", \"label_for_charts\": \"Exact match\", \"sql_condition\": \"\\\"CompanyName_l\\\" = \\\"CompanyName_r\\\"\", \"log2_bayes_factor\": 21.758225657453238, \"bayes_factor\": 3547142.00590578, \"comparison_vector_value\": 3, \"m_probability\": 0.8623865381443143, \"u_probability\": 2.43121514929059e-07, \"bayes_factor_description\": \"If comparison level is `exact match` then comparison is 3,547,142.01 times more likely to be a match\", \"value_l\": \"STENA LINE MANNING\", \"value_r\": \"STENA LINE MANNING\", \"term_frequency_adjustment\": false, \"bar_sort_order\": 1, \"record_number\": 81}, {\"column_name\": \"Final score\", \"label_for_charts\": \"Final score\", \"sql_condition\": null, \"log2_bayes_factor\": 8.470657554621832, \"bayes_factor\": 354.7496755581337, \"comparison_vector_value\": null, \"m_probability\": null, \"u_probability\": null, \"bayes_factor_description\": null, \"value_l\": \"\", \"value_r\": \"\", \"term_frequency_adjustment\": null, \"bar_sort_order\": 2, \"record_number\": 81}, {\"column_name\": \"Prior\", \"label_for_charts\": \"Starting match weight (prior)\", \"sql_condition\": null, \"log2_bayes_factor\": -13.287568102831404, \"bayes_factor\": 0.00010001000100010001, \"comparison_vector_value\": null, \"m_probability\": null, \"u_probability\": null, \"bayes_factor_description\": null, \"value_l\": \"\", \"value_r\": \"\", \"term_frequency_adjustment\": null, \"bar_sort_order\": 0, \"record_number\": 82}, {\"column_name\": \"CompanyName\", \"label_for_charts\": \"Exact match\", \"sql_condition\": \"\\\"CompanyName_l\\\" = \\\"CompanyName_r\\\"\", \"log2_bayes_factor\": 21.758225657453238, \"bayes_factor\": 3547142.00590578, \"comparison_vector_value\": 3, \"m_probability\": 0.8623865381443143, \"u_probability\": 2.43121514929059e-07, \"bayes_factor_description\": \"If comparison level is `exact match` then comparison is 3,547,142.01 times more likely to be a match\", \"value_l\": \"SUPERYACHT CREW\", \"value_r\": \"SUPERYACHT CREW\", \"term_frequency_adjustment\": false, \"bar_sort_order\": 1, \"record_number\": 82}, {\"column_name\": \"Final score\", \"label_for_charts\": \"Final score\", \"sql_condition\": null, \"log2_bayes_factor\": 8.470657554621832, \"bayes_factor\": 354.7496755581337, \"comparison_vector_value\": null, \"m_probability\": null, \"u_probability\": null, \"bayes_factor_description\": null, \"value_l\": \"\", \"value_r\": \"\", \"term_frequency_adjustment\": null, \"bar_sort_order\": 2, \"record_number\": 82}, {\"column_name\": \"Prior\", \"label_for_charts\": \"Starting match weight (prior)\", \"sql_condition\": null, \"log2_bayes_factor\": -13.287568102831404, \"bayes_factor\": 0.00010001000100010001, \"comparison_vector_value\": null, \"m_probability\": null, \"u_probability\": null, \"bayes_factor_description\": null, \"value_l\": \"\", \"value_r\": \"\", \"term_frequency_adjustment\": null, \"bar_sort_order\": 0, \"record_number\": 83}, {\"column_name\": \"CompanyName\", \"label_for_charts\": \"Exact match\", \"sql_condition\": \"\\\"CompanyName_l\\\" = \\\"CompanyName_r\\\"\", \"log2_bayes_factor\": 21.758225657453238, \"bayes_factor\": 3547142.00590578, \"comparison_vector_value\": 3, \"m_probability\": 0.8623865381443143, \"u_probability\": 2.43121514929059e-07, \"bayes_factor_description\": \"If comparison level is `exact match` then comparison is 3,547,142.01 times more likely to be a match\", \"value_l\": \"DRILLMAR RESOURCES\", \"value_r\": \"DRILLMAR RESOURCES\", \"term_frequency_adjustment\": false, \"bar_sort_order\": 1, \"record_number\": 83}, {\"column_name\": \"Final score\", \"label_for_charts\": \"Final score\", \"sql_condition\": null, \"log2_bayes_factor\": 8.470657554621832, \"bayes_factor\": 354.7496755581337, \"comparison_vector_value\": null, \"m_probability\": null, \"u_probability\": null, \"bayes_factor_description\": null, \"value_l\": \"\", \"value_r\": \"\", \"term_frequency_adjustment\": null, \"bar_sort_order\": 2, \"record_number\": 83}, {\"column_name\": \"Prior\", \"label_for_charts\": \"Starting match weight (prior)\", \"sql_condition\": null, \"log2_bayes_factor\": -13.287568102831404, \"bayes_factor\": 0.00010001000100010001, \"comparison_vector_value\": null, \"m_probability\": null, \"u_probability\": null, \"bayes_factor_description\": null, \"value_l\": \"\", \"value_r\": \"\", \"term_frequency_adjustment\": null, \"bar_sort_order\": 0, \"record_number\": 84}, {\"column_name\": \"CompanyName\", \"label_for_charts\": \"Exact match\", \"sql_condition\": \"\\\"CompanyName_l\\\" = \\\"CompanyName_r\\\"\", \"log2_bayes_factor\": 21.758225657453238, \"bayes_factor\": 3547142.00590578, \"comparison_vector_value\": 3, \"m_probability\": 0.8623865381443143, \"u_probability\": 2.43121514929059e-07, \"bayes_factor_description\": \"If comparison level is `exact match` then comparison is 3,547,142.01 times more likely to be a match\", \"value_l\": \"EDEN SCOTT\", \"value_r\": \"EDEN SCOTT\", \"term_frequency_adjustment\": false, \"bar_sort_order\": 1, \"record_number\": 84}, {\"column_name\": \"Final score\", \"label_for_charts\": \"Final score\", \"sql_condition\": null, \"log2_bayes_factor\": 8.470657554621832, \"bayes_factor\": 354.7496755581337, \"comparison_vector_value\": null, \"m_probability\": null, \"u_probability\": null, \"bayes_factor_description\": null, \"value_l\": \"\", \"value_r\": \"\", \"term_frequency_adjustment\": null, \"bar_sort_order\": 2, \"record_number\": 84}, {\"column_name\": \"Prior\", \"label_for_charts\": \"Starting match weight (prior)\", \"sql_condition\": null, \"log2_bayes_factor\": -13.287568102831404, \"bayes_factor\": 0.00010001000100010001, \"comparison_vector_value\": null, \"m_probability\": null, \"u_probability\": null, \"bayes_factor_description\": null, \"value_l\": \"\", \"value_r\": \"\", \"term_frequency_adjustment\": null, \"bar_sort_order\": 0, \"record_number\": 85}, {\"column_name\": \"CompanyName\", \"label_for_charts\": \"Exact match\", \"sql_condition\": \"\\\"CompanyName_l\\\" = \\\"CompanyName_r\\\"\", \"log2_bayes_factor\": 21.758225657453238, \"bayes_factor\": 3547142.00590578, \"comparison_vector_value\": 3, \"m_probability\": 0.8623865381443143, \"u_probability\": 2.43121514929059e-07, \"bayes_factor_description\": \"If comparison level is `exact match` then comparison is 3,547,142.01 times more likely to be a match\", \"value_l\": \"INSIGNIA CREW\", \"value_r\": \"INSIGNIA CREW\", \"term_frequency_adjustment\": false, \"bar_sort_order\": 1, \"record_number\": 85}, {\"column_name\": \"Final score\", \"label_for_charts\": \"Final score\", \"sql_condition\": null, \"log2_bayes_factor\": 8.470657554621832, \"bayes_factor\": 354.7496755581337, \"comparison_vector_value\": null, \"m_probability\": null, \"u_probability\": null, \"bayes_factor_description\": null, \"value_l\": \"\", \"value_r\": \"\", \"term_frequency_adjustment\": null, \"bar_sort_order\": 2, \"record_number\": 85}, {\"column_name\": \"Prior\", \"label_for_charts\": \"Starting match weight (prior)\", \"sql_condition\": null, \"log2_bayes_factor\": -13.287568102831404, \"bayes_factor\": 0.00010001000100010001, \"comparison_vector_value\": null, \"m_probability\": null, \"u_probability\": null, \"bayes_factor_description\": null, \"value_l\": \"\", \"value_r\": \"\", \"term_frequency_adjustment\": null, \"bar_sort_order\": 0, \"record_number\": 86}, {\"column_name\": \"CompanyName\", \"label_for_charts\": \"Exact match\", \"sql_condition\": \"\\\"CompanyName_l\\\" = \\\"CompanyName_r\\\"\", \"log2_bayes_factor\": 21.758225657453238, \"bayes_factor\": 3547142.00590578, \"comparison_vector_value\": 3, \"m_probability\": 0.8623865381443143, \"u_probability\": 2.43121514929059e-07, \"bayes_factor_description\": \"If comparison level is `exact match` then comparison is 3,547,142.01 times more likely to be a match\", \"value_l\": \"J4CREW\", \"value_r\": \"J4CREW\", \"term_frequency_adjustment\": false, \"bar_sort_order\": 1, \"record_number\": 86}, {\"column_name\": \"Final score\", \"label_for_charts\": \"Final score\", \"sql_condition\": null, \"log2_bayes_factor\": 8.470657554621832, \"bayes_factor\": 354.7496755581337, \"comparison_vector_value\": null, \"m_probability\": null, \"u_probability\": null, \"bayes_factor_description\": null, \"value_l\": \"\", \"value_r\": \"\", \"term_frequency_adjustment\": null, \"bar_sort_order\": 2, \"record_number\": 86}, {\"column_name\": \"Prior\", \"label_for_charts\": \"Starting match weight (prior)\", \"sql_condition\": null, \"log2_bayes_factor\": -13.287568102831404, \"bayes_factor\": 0.00010001000100010001, \"comparison_vector_value\": null, \"m_probability\": null, \"u_probability\": null, \"bayes_factor_description\": null, \"value_l\": \"\", \"value_r\": \"\", \"term_frequency_adjustment\": null, \"bar_sort_order\": 0, \"record_number\": 87}, {\"column_name\": \"CompanyName\", \"label_for_charts\": \"Exact match\", \"sql_condition\": \"\\\"CompanyName_l\\\" = \\\"CompanyName_r\\\"\", \"log2_bayes_factor\": 21.758225657453238, \"bayes_factor\": 3547142.00590578, \"comparison_vector_value\": 3, \"m_probability\": 0.8623865381443143, \"u_probability\": 2.43121514929059e-07, \"bayes_factor_description\": \"If comparison level is `exact match` then comparison is 3,547,142.01 times more likely to be a match\", \"value_l\": \"TIDEWATER PERSONNEL\", \"value_r\": \"TIDEWATER PERSONNEL\", \"term_frequency_adjustment\": false, \"bar_sort_order\": 1, \"record_number\": 87}, {\"column_name\": \"Final score\", \"label_for_charts\": \"Final score\", \"sql_condition\": null, \"log2_bayes_factor\": 8.470657554621832, \"bayes_factor\": 354.7496755581337, \"comparison_vector_value\": null, \"m_probability\": null, \"u_probability\": null, \"bayes_factor_description\": null, \"value_l\": \"\", \"value_r\": \"\", \"term_frequency_adjustment\": null, \"bar_sort_order\": 2, \"record_number\": 87}, {\"column_name\": \"Prior\", \"label_for_charts\": \"Starting match weight (prior)\", \"sql_condition\": null, \"log2_bayes_factor\": -13.287568102831404, \"bayes_factor\": 0.00010001000100010001, \"comparison_vector_value\": null, \"m_probability\": null, \"u_probability\": null, \"bayes_factor_description\": null, \"value_l\": \"\", \"value_r\": \"\", \"term_frequency_adjustment\": null, \"bar_sort_order\": 0, \"record_number\": 88}, {\"column_name\": \"CompanyName\", \"label_for_charts\": \"Exact match\", \"sql_condition\": \"\\\"CompanyName_l\\\" = \\\"CompanyName_r\\\"\", \"log2_bayes_factor\": 21.758225657453238, \"bayes_factor\": 3547142.00590578, \"comparison_vector_value\": 3, \"m_probability\": 0.8623865381443143, \"u_probability\": 2.43121514929059e-07, \"bayes_factor_description\": \"If comparison level is `exact match` then comparison is 3,547,142.01 times more likely to be a match\", \"value_l\": \"CARNIVAL\", \"value_r\": \"CARNIVAL\", \"term_frequency_adjustment\": false, \"bar_sort_order\": 1, \"record_number\": 88}, {\"column_name\": \"Final score\", \"label_for_charts\": \"Final score\", \"sql_condition\": null, \"log2_bayes_factor\": 8.470657554621832, \"bayes_factor\": 354.7496755581337, \"comparison_vector_value\": null, \"m_probability\": null, \"u_probability\": null, \"bayes_factor_description\": null, \"value_l\": \"\", \"value_r\": \"\", \"term_frequency_adjustment\": null, \"bar_sort_order\": 2, \"record_number\": 88}, {\"column_name\": \"Prior\", \"label_for_charts\": \"Starting match weight (prior)\", \"sql_condition\": null, \"log2_bayes_factor\": -13.287568102831404, \"bayes_factor\": 0.00010001000100010001, \"comparison_vector_value\": null, \"m_probability\": null, \"u_probability\": null, \"bayes_factor_description\": null, \"value_l\": \"\", \"value_r\": \"\", \"term_frequency_adjustment\": null, \"bar_sort_order\": 0, \"record_number\": 89}, {\"column_name\": \"CompanyName\", \"label_for_charts\": \"Exact match\", \"sql_condition\": \"\\\"CompanyName_l\\\" = \\\"CompanyName_r\\\"\", \"log2_bayes_factor\": 21.758225657453238, \"bayes_factor\": 3547142.00590578, \"comparison_vector_value\": 3, \"m_probability\": 0.8623865381443143, \"u_probability\": 2.43121514929059e-07, \"bayes_factor_description\": \"If comparison level is `exact match` then comparison is 3,547,142.01 times more likely to be a match\", \"value_l\": \"CARNIVAL\", \"value_r\": \"CARNIVAL\", \"term_frequency_adjustment\": false, \"bar_sort_order\": 1, \"record_number\": 89}, {\"column_name\": \"Final score\", \"label_for_charts\": \"Final score\", \"sql_condition\": null, \"log2_bayes_factor\": 8.470657554621832, \"bayes_factor\": 354.7496755581337, \"comparison_vector_value\": null, \"m_probability\": null, \"u_probability\": null, \"bayes_factor_description\": null, \"value_l\": \"\", \"value_r\": \"\", \"term_frequency_adjustment\": null, \"bar_sort_order\": 2, \"record_number\": 89}, {\"column_name\": \"Prior\", \"label_for_charts\": \"Starting match weight (prior)\", \"sql_condition\": null, \"log2_bayes_factor\": -13.287568102831404, \"bayes_factor\": 0.00010001000100010001, \"comparison_vector_value\": null, \"m_probability\": null, \"u_probability\": null, \"bayes_factor_description\": null, \"value_l\": \"\", \"value_r\": \"\", \"term_frequency_adjustment\": null, \"bar_sort_order\": 0, \"record_number\": 90}, {\"column_name\": \"CompanyName\", \"label_for_charts\": \"Exact match\", \"sql_condition\": \"\\\"CompanyName_l\\\" = \\\"CompanyName_r\\\"\", \"log2_bayes_factor\": 21.758225657453238, \"bayes_factor\": 3547142.00590578, \"comparison_vector_value\": 3, \"m_probability\": 0.8623865381443143, \"u_probability\": 2.43121514929059e-07, \"bayes_factor_description\": \"If comparison level is `exact match` then comparison is 3,547,142.01 times more likely to be a match\", \"value_l\": \"JANSEN MARITIME CREW\", \"value_r\": \"JANSEN MARITIME CREW\", \"term_frequency_adjustment\": false, \"bar_sort_order\": 1, \"record_number\": 90}, {\"column_name\": \"Final score\", \"label_for_charts\": \"Final score\", \"sql_condition\": null, \"log2_bayes_factor\": 8.470657554621832, \"bayes_factor\": 354.7496755581337, \"comparison_vector_value\": null, \"m_probability\": null, \"u_probability\": null, \"bayes_factor_description\": null, \"value_l\": \"\", \"value_r\": \"\", \"term_frequency_adjustment\": null, \"bar_sort_order\": 2, \"record_number\": 90}, {\"column_name\": \"Prior\", \"label_for_charts\": \"Starting match weight (prior)\", \"sql_condition\": null, \"log2_bayes_factor\": -13.287568102831404, \"bayes_factor\": 0.00010001000100010001, \"comparison_vector_value\": null, \"m_probability\": null, \"u_probability\": null, \"bayes_factor_description\": null, \"value_l\": \"\", \"value_r\": \"\", \"term_frequency_adjustment\": null, \"bar_sort_order\": 0, \"record_number\": 91}, {\"column_name\": \"CompanyName\", \"label_for_charts\": \"Exact match\", \"sql_condition\": \"\\\"CompanyName_l\\\" = \\\"CompanyName_r\\\"\", \"log2_bayes_factor\": 21.758225657453238, \"bayes_factor\": 3547142.00590578, \"comparison_vector_value\": 3, \"m_probability\": 0.8623865381443143, \"u_probability\": 2.43121514929059e-07, \"bayes_factor_description\": \"If comparison level is `exact match` then comparison is 3,547,142.01 times more likely to be a match\", \"value_l\": \"MYMUYBUENO RECRUITMENT\", \"value_r\": \"MYMUYBUENO RECRUITMENT\", \"term_frequency_adjustment\": false, \"bar_sort_order\": 1, \"record_number\": 91}, {\"column_name\": \"Final score\", \"label_for_charts\": \"Final score\", \"sql_condition\": null, \"log2_bayes_factor\": 8.470657554621832, \"bayes_factor\": 354.7496755581337, \"comparison_vector_value\": null, \"m_probability\": null, \"u_probability\": null, \"bayes_factor_description\": null, \"value_l\": \"\", \"value_r\": \"\", \"term_frequency_adjustment\": null, \"bar_sort_order\": 2, \"record_number\": 91}, {\"column_name\": \"Prior\", \"label_for_charts\": \"Starting match weight (prior)\", \"sql_condition\": null, \"log2_bayes_factor\": -13.287568102831404, \"bayes_factor\": 0.00010001000100010001, \"comparison_vector_value\": null, \"m_probability\": null, \"u_probability\": null, \"bayes_factor_description\": null, \"value_l\": \"\", \"value_r\": \"\", \"term_frequency_adjustment\": null, \"bar_sort_order\": 0, \"record_number\": 92}, {\"column_name\": \"CompanyName\", \"label_for_charts\": \"Exact match\", \"sql_condition\": \"\\\"CompanyName_l\\\" = \\\"CompanyName_r\\\"\", \"log2_bayes_factor\": 21.758225657453238, \"bayes_factor\": 3547142.00590578, \"comparison_vector_value\": 3, \"m_probability\": 0.8623865381443143, \"u_probability\": 2.43121514929059e-07, \"bayes_factor_description\": \"If comparison level is `exact match` then comparison is 3,547,142.01 times more likely to be a match\", \"value_l\": \"UNICREW MANAGEMENT\", \"value_r\": \"UNICREW MANAGEMENT\", \"term_frequency_adjustment\": false, \"bar_sort_order\": 1, \"record_number\": 92}, {\"column_name\": \"Final score\", \"label_for_charts\": \"Final score\", \"sql_condition\": null, \"log2_bayes_factor\": 8.470657554621832, \"bayes_factor\": 354.7496755581337, \"comparison_vector_value\": null, \"m_probability\": null, \"u_probability\": null, \"bayes_factor_description\": null, \"value_l\": \"\", \"value_r\": \"\", \"term_frequency_adjustment\": null, \"bar_sort_order\": 2, \"record_number\": 92}, {\"column_name\": \"Prior\", \"label_for_charts\": \"Starting match weight (prior)\", \"sql_condition\": null, \"log2_bayes_factor\": -13.287568102831404, \"bayes_factor\": 0.00010001000100010001, \"comparison_vector_value\": null, \"m_probability\": null, \"u_probability\": null, \"bayes_factor_description\": null, \"value_l\": \"\", \"value_r\": \"\", \"term_frequency_adjustment\": null, \"bar_sort_order\": 0, \"record_number\": 93}, {\"column_name\": \"CompanyName\", \"label_for_charts\": \"Exact match\", \"sql_condition\": \"\\\"CompanyName_l\\\" = \\\"CompanyName_r\\\"\", \"log2_bayes_factor\": 21.758225657453238, \"bayes_factor\": 3547142.00590578, \"comparison_vector_value\": 3, \"m_probability\": 0.8623865381443143, \"u_probability\": 2.43121514929059e-07, \"bayes_factor_description\": \"If comparison level is `exact match` then comparison is 3,547,142.01 times more likely to be a match\", \"value_l\": \"SEAMARINER\", \"value_r\": \"SEAMARINER\", \"term_frequency_adjustment\": false, \"bar_sort_order\": 1, \"record_number\": 93}, {\"column_name\": \"Final score\", \"label_for_charts\": \"Final score\", \"sql_condition\": null, \"log2_bayes_factor\": 8.470657554621832, \"bayes_factor\": 354.7496755581337, \"comparison_vector_value\": null, \"m_probability\": null, \"u_probability\": null, \"bayes_factor_description\": null, \"value_l\": \"\", \"value_r\": \"\", \"term_frequency_adjustment\": null, \"bar_sort_order\": 2, \"record_number\": 93}, {\"column_name\": \"Prior\", \"label_for_charts\": \"Starting match weight (prior)\", \"sql_condition\": null, \"log2_bayes_factor\": -13.287568102831404, \"bayes_factor\": 0.00010001000100010001, \"comparison_vector_value\": null, \"m_probability\": null, \"u_probability\": null, \"bayes_factor_description\": null, \"value_l\": \"\", \"value_r\": \"\", \"term_frequency_adjustment\": null, \"bar_sort_order\": 0, \"record_number\": 94}, {\"column_name\": \"CompanyName\", \"label_for_charts\": \"Exact match\", \"sql_condition\": \"\\\"CompanyName_l\\\" = \\\"CompanyName_r\\\"\", \"log2_bayes_factor\": 21.758225657453238, \"bayes_factor\": 3547142.00590578, \"comparison_vector_value\": 3, \"m_probability\": 0.8623865381443143, \"u_probability\": 2.43121514929059e-07, \"bayes_factor_description\": \"If comparison level is `exact match` then comparison is 3,547,142.01 times more likely to be a match\", \"value_l\": \"SEAWORTHY\", \"value_r\": \"SEAWORTHY\", \"term_frequency_adjustment\": false, \"bar_sort_order\": 1, \"record_number\": 94}, {\"column_name\": \"Final score\", \"label_for_charts\": \"Final score\", \"sql_condition\": null, \"log2_bayes_factor\": 8.470657554621832, \"bayes_factor\": 354.7496755581337, \"comparison_vector_value\": null, \"m_probability\": null, \"u_probability\": null, \"bayes_factor_description\": null, \"value_l\": \"\", \"value_r\": \"\", \"term_frequency_adjustment\": null, \"bar_sort_order\": 2, \"record_number\": 94}, {\"column_name\": \"Prior\", \"label_for_charts\": \"Starting match weight (prior)\", \"sql_condition\": null, \"log2_bayes_factor\": -13.287568102831404, \"bayes_factor\": 0.00010001000100010001, \"comparison_vector_value\": null, \"m_probability\": null, \"u_probability\": null, \"bayes_factor_description\": null, \"value_l\": \"\", \"value_r\": \"\", \"term_frequency_adjustment\": null, \"bar_sort_order\": 0, \"record_number\": 95}, {\"column_name\": \"CompanyName\", \"label_for_charts\": \"Exact match\", \"sql_condition\": \"\\\"CompanyName_l\\\" = \\\"CompanyName_r\\\"\", \"log2_bayes_factor\": 21.758225657453238, \"bayes_factor\": 3547142.00590578, \"comparison_vector_value\": 3, \"m_probability\": 0.8623865381443143, \"u_probability\": 2.43121514929059e-07, \"bayes_factor_description\": \"If comparison level is `exact match` then comparison is 3,547,142.01 times more likely to be a match\", \"value_l\": \"SEAWORTHY\", \"value_r\": \"SEAWORTHY\", \"term_frequency_adjustment\": false, \"bar_sort_order\": 1, \"record_number\": 95}, {\"column_name\": \"Final score\", \"label_for_charts\": \"Final score\", \"sql_condition\": null, \"log2_bayes_factor\": 8.470657554621832, \"bayes_factor\": 354.7496755581337, \"comparison_vector_value\": null, \"m_probability\": null, \"u_probability\": null, \"bayes_factor_description\": null, \"value_l\": \"\", \"value_r\": \"\", \"term_frequency_adjustment\": null, \"bar_sort_order\": 2, \"record_number\": 95}, {\"column_name\": \"Prior\", \"label_for_charts\": \"Starting match weight (prior)\", \"sql_condition\": null, \"log2_bayes_factor\": -13.287568102831404, \"bayes_factor\": 0.00010001000100010001, \"comparison_vector_value\": null, \"m_probability\": null, \"u_probability\": null, \"bayes_factor_description\": null, \"value_l\": \"\", \"value_r\": \"\", \"term_frequency_adjustment\": null, \"bar_sort_order\": 0, \"record_number\": 96}, {\"column_name\": \"CompanyName\", \"label_for_charts\": \"Exact match\", \"sql_condition\": \"\\\"CompanyName_l\\\" = \\\"CompanyName_r\\\"\", \"log2_bayes_factor\": 21.758225657453238, \"bayes_factor\": 3547142.00590578, \"comparison_vector_value\": 3, \"m_probability\": 0.8623865381443143, \"u_probability\": 2.43121514929059e-07, \"bayes_factor_description\": \"If comparison level is `exact match` then comparison is 3,547,142.01 times more likely to be a match\", \"value_l\": \"SELECT OFFSHORE\", \"value_r\": \"SELECT OFFSHORE\", \"term_frequency_adjustment\": false, \"bar_sort_order\": 1, \"record_number\": 96}, {\"column_name\": \"Final score\", \"label_for_charts\": \"Final score\", \"sql_condition\": null, \"log2_bayes_factor\": 8.470657554621832, \"bayes_factor\": 354.7496755581337, \"comparison_vector_value\": null, \"m_probability\": null, \"u_probability\": null, \"bayes_factor_description\": null, \"value_l\": \"\", \"value_r\": \"\", \"term_frequency_adjustment\": null, \"bar_sort_order\": 2, \"record_number\": 96}, {\"column_name\": \"Prior\", \"label_for_charts\": \"Starting match weight (prior)\", \"sql_condition\": null, \"log2_bayes_factor\": -13.287568102831404, \"bayes_factor\": 0.00010001000100010001, \"comparison_vector_value\": null, \"m_probability\": null, \"u_probability\": null, \"bayes_factor_description\": null, \"value_l\": \"\", \"value_r\": \"\", \"term_frequency_adjustment\": null, \"bar_sort_order\": 0, \"record_number\": 97}, {\"column_name\": \"CompanyName\", \"label_for_charts\": \"Exact match\", \"sql_condition\": \"\\\"CompanyName_l\\\" = \\\"CompanyName_r\\\"\", \"log2_bayes_factor\": 21.758225657453238, \"bayes_factor\": 3547142.00590578, \"comparison_vector_value\": 3, \"m_probability\": 0.8623865381443143, \"u_probability\": 2.43121514929059e-07, \"bayes_factor_description\": \"If comparison level is `exact match` then comparison is 3,547,142.01 times more likely to be a match\", \"value_l\": \"SELECT OFFSHORE\", \"value_r\": \"SELECT OFFSHORE\", \"term_frequency_adjustment\": false, \"bar_sort_order\": 1, \"record_number\": 97}, {\"column_name\": \"Final score\", \"label_for_charts\": \"Final score\", \"sql_condition\": null, \"log2_bayes_factor\": 8.470657554621832, \"bayes_factor\": 354.7496755581337, \"comparison_vector_value\": null, \"m_probability\": null, \"u_probability\": null, \"bayes_factor_description\": null, \"value_l\": \"\", \"value_r\": \"\", \"term_frequency_adjustment\": null, \"bar_sort_order\": 2, \"record_number\": 97}, {\"column_name\": \"Prior\", \"label_for_charts\": \"Starting match weight (prior)\", \"sql_condition\": null, \"log2_bayes_factor\": -13.287568102831404, \"bayes_factor\": 0.00010001000100010001, \"comparison_vector_value\": null, \"m_probability\": null, \"u_probability\": null, \"bayes_factor_description\": null, \"value_l\": \"\", \"value_r\": \"\", \"term_frequency_adjustment\": null, \"bar_sort_order\": 0, \"record_number\": 98}, {\"column_name\": \"CompanyName\", \"label_for_charts\": \"Exact match\", \"sql_condition\": \"\\\"CompanyName_l\\\" = \\\"CompanyName_r\\\"\", \"log2_bayes_factor\": 21.758225657453238, \"bayes_factor\": 3547142.00590578, \"comparison_vector_value\": 3, \"m_probability\": 0.8623865381443143, \"u_probability\": 2.43121514929059e-07, \"bayes_factor_description\": \"If comparison level is `exact match` then comparison is 3,547,142.01 times more likely to be a match\", \"value_l\": \"V SHIPS\", \"value_r\": \"V SHIPS\", \"term_frequency_adjustment\": false, \"bar_sort_order\": 1, \"record_number\": 98}, {\"column_name\": \"Final score\", \"label_for_charts\": \"Final score\", \"sql_condition\": null, \"log2_bayes_factor\": 8.470657554621832, \"bayes_factor\": 354.7496755581337, \"comparison_vector_value\": null, \"m_probability\": null, \"u_probability\": null, \"bayes_factor_description\": null, \"value_l\": \"\", \"value_r\": \"\", \"term_frequency_adjustment\": null, \"bar_sort_order\": 2, \"record_number\": 98}, {\"column_name\": \"Prior\", \"label_for_charts\": \"Starting match weight (prior)\", \"sql_condition\": null, \"log2_bayes_factor\": -13.287568102831404, \"bayes_factor\": 0.00010001000100010001, \"comparison_vector_value\": null, \"m_probability\": null, \"u_probability\": null, \"bayes_factor_description\": null, \"value_l\": \"\", \"value_r\": \"\", \"term_frequency_adjustment\": null, \"bar_sort_order\": 0, \"record_number\": 99}, {\"column_name\": \"CompanyName\", \"label_for_charts\": \"Exact match\", \"sql_condition\": \"\\\"CompanyName_l\\\" = \\\"CompanyName_r\\\"\", \"log2_bayes_factor\": 21.758225657453238, \"bayes_factor\": 3547142.00590578, \"comparison_vector_value\": 3, \"m_probability\": 0.8623865381443143, \"u_probability\": 2.43121514929059e-07, \"bayes_factor_description\": \"If comparison level is `exact match` then comparison is 3,547,142.01 times more likely to be a match\", \"value_l\": \"ABLY RESOURCES\", \"value_r\": \"ABLY RESOURCES\", \"term_frequency_adjustment\": false, \"bar_sort_order\": 1, \"record_number\": 99}, {\"column_name\": \"Final score\", \"label_for_charts\": \"Final score\", \"sql_condition\": null, \"log2_bayes_factor\": 8.470657554621832, \"bayes_factor\": 354.7496755581337, \"comparison_vector_value\": null, \"m_probability\": null, \"u_probability\": null, \"bayes_factor_description\": null, \"value_l\": \"\", \"value_r\": \"\", \"term_frequency_adjustment\": null, \"bar_sort_order\": 2, \"record_number\": 99}, {\"column_name\": \"Prior\", \"label_for_charts\": \"Starting match weight (prior)\", \"sql_condition\": null, \"log2_bayes_factor\": -13.287568102831404, \"bayes_factor\": 0.00010001000100010001, \"comparison_vector_value\": null, \"m_probability\": null, \"u_probability\": null, \"bayes_factor_description\": null, \"value_l\": \"\", \"value_r\": \"\", \"term_frequency_adjustment\": null, \"bar_sort_order\": 0, \"record_number\": 100}, {\"column_name\": \"CompanyName\", \"label_for_charts\": \"Exact match\", \"sql_condition\": \"\\\"CompanyName_l\\\" = \\\"CompanyName_r\\\"\", \"log2_bayes_factor\": 21.758225657453238, \"bayes_factor\": 3547142.00590578, \"comparison_vector_value\": 3, \"m_probability\": 0.8623865381443143, \"u_probability\": 2.43121514929059e-07, \"bayes_factor_description\": \"If comparison level is `exact match` then comparison is 3,547,142.01 times more likely to be a match\", \"value_l\": \"ABLY RESOURCES\", \"value_r\": \"ABLY RESOURCES\", \"term_frequency_adjustment\": false, \"bar_sort_order\": 1, \"record_number\": 100}, {\"column_name\": \"Final score\", \"label_for_charts\": \"Final score\", \"sql_condition\": null, \"log2_bayes_factor\": 8.470657554621832, \"bayes_factor\": 354.7496755581337, \"comparison_vector_value\": null, \"m_probability\": null, \"u_probability\": null, \"bayes_factor_description\": null, \"value_l\": \"\", \"value_r\": \"\", \"term_frequency_adjustment\": null, \"bar_sort_order\": 2, \"record_number\": 100}, {\"column_name\": \"Prior\", \"label_for_charts\": \"Starting match weight (prior)\", \"sql_condition\": null, \"log2_bayes_factor\": -13.287568102831404, \"bayes_factor\": 0.00010001000100010001, \"comparison_vector_value\": null, \"m_probability\": null, \"u_probability\": null, \"bayes_factor_description\": null, \"value_l\": \"\", \"value_r\": \"\", \"term_frequency_adjustment\": null, \"bar_sort_order\": 0, \"record_number\": 101}, {\"column_name\": \"CompanyName\", \"label_for_charts\": \"Exact match\", \"sql_condition\": \"\\\"CompanyName_l\\\" = \\\"CompanyName_r\\\"\", \"log2_bayes_factor\": 21.758225657453238, \"bayes_factor\": 3547142.00590578, \"comparison_vector_value\": 3, \"m_probability\": 0.8623865381443143, \"u_probability\": 2.43121514929059e-07, \"bayes_factor_description\": \"If comparison level is `exact match` then comparison is 3,547,142.01 times more likely to be a match\", \"value_l\": \"GENESIS PERSONNEL\", \"value_r\": \"GENESIS PERSONNEL\", \"term_frequency_adjustment\": false, \"bar_sort_order\": 1, \"record_number\": 101}, {\"column_name\": \"Final score\", \"label_for_charts\": \"Final score\", \"sql_condition\": null, \"log2_bayes_factor\": 8.470657554621832, \"bayes_factor\": 354.7496755581337, \"comparison_vector_value\": null, \"m_probability\": null, \"u_probability\": null, \"bayes_factor_description\": null, \"value_l\": \"\", \"value_r\": \"\", \"term_frequency_adjustment\": null, \"bar_sort_order\": 2, \"record_number\": 101}, {\"column_name\": \"Prior\", \"label_for_charts\": \"Starting match weight (prior)\", \"sql_condition\": null, \"log2_bayes_factor\": -13.287568102831404, \"bayes_factor\": 0.00010001000100010001, \"comparison_vector_value\": null, \"m_probability\": null, \"u_probability\": null, \"bayes_factor_description\": null, \"value_l\": \"\", \"value_r\": \"\", \"term_frequency_adjustment\": null, \"bar_sort_order\": 0, \"record_number\": 102}, {\"column_name\": \"CompanyName\", \"label_for_charts\": \"Exact match\", \"sql_condition\": \"\\\"CompanyName_l\\\" = \\\"CompanyName_r\\\"\", \"log2_bayes_factor\": 21.758225657453238, \"bayes_factor\": 3547142.00590578, \"comparison_vector_value\": 3, \"m_probability\": 0.8623865381443143, \"u_probability\": 2.43121514929059e-07, \"bayes_factor_description\": \"If comparison level is `exact match` then comparison is 3,547,142.01 times more likely to be a match\", \"value_l\": \"KUIPER\", \"value_r\": \"KUIPER\", \"term_frequency_adjustment\": false, \"bar_sort_order\": 1, \"record_number\": 102}, {\"column_name\": \"Final score\", \"label_for_charts\": \"Final score\", \"sql_condition\": null, \"log2_bayes_factor\": 8.470657554621832, \"bayes_factor\": 354.7496755581337, \"comparison_vector_value\": null, \"m_probability\": null, \"u_probability\": null, \"bayes_factor_description\": null, \"value_l\": \"\", \"value_r\": \"\", \"term_frequency_adjustment\": null, \"bar_sort_order\": 2, \"record_number\": 102}, {\"column_name\": \"Prior\", \"label_for_charts\": \"Starting match weight (prior)\", \"sql_condition\": null, \"log2_bayes_factor\": -13.287568102831404, \"bayes_factor\": 0.00010001000100010001, \"comparison_vector_value\": null, \"m_probability\": null, \"u_probability\": null, \"bayes_factor_description\": null, \"value_l\": \"\", \"value_r\": \"\", \"term_frequency_adjustment\": null, \"bar_sort_order\": 0, \"record_number\": 103}, {\"column_name\": \"CompanyName\", \"label_for_charts\": \"Exact match\", \"sql_condition\": \"\\\"CompanyName_l\\\" = \\\"CompanyName_r\\\"\", \"log2_bayes_factor\": 21.758225657453238, \"bayes_factor\": 3547142.00590578, \"comparison_vector_value\": 3, \"m_probability\": 0.8623865381443143, \"u_probability\": 2.43121514929059e-07, \"bayes_factor_description\": \"If comparison level is `exact match` then comparison is 3,547,142.01 times more likely to be a match\", \"value_l\": \"KUIPER\", \"value_r\": \"KUIPER\", \"term_frequency_adjustment\": false, \"bar_sort_order\": 1, \"record_number\": 103}, {\"column_name\": \"Final score\", \"label_for_charts\": \"Final score\", \"sql_condition\": null, \"log2_bayes_factor\": 8.470657554621832, \"bayes_factor\": 354.7496755581337, \"comparison_vector_value\": null, \"m_probability\": null, \"u_probability\": null, \"bayes_factor_description\": null, \"value_l\": \"\", \"value_r\": \"\", \"term_frequency_adjustment\": null, \"bar_sort_order\": 2, \"record_number\": 103}, {\"column_name\": \"Prior\", \"label_for_charts\": \"Starting match weight (prior)\", \"sql_condition\": null, \"log2_bayes_factor\": -13.287568102831404, \"bayes_factor\": 0.00010001000100010001, \"comparison_vector_value\": null, \"m_probability\": null, \"u_probability\": null, \"bayes_factor_description\": null, \"value_l\": \"\", \"value_r\": \"\", \"term_frequency_adjustment\": null, \"bar_sort_order\": 0, \"record_number\": 104}, {\"column_name\": \"CompanyName\", \"label_for_charts\": \"Exact match\", \"sql_condition\": \"\\\"CompanyName_l\\\" = \\\"CompanyName_r\\\"\", \"log2_bayes_factor\": 21.758225657453238, \"bayes_factor\": 3547142.00590578, \"comparison_vector_value\": 3, \"m_probability\": 0.8623865381443143, \"u_probability\": 2.43121514929059e-07, \"bayes_factor_description\": \"If comparison level is `exact match` then comparison is 3,547,142.01 times more likely to be a match\", \"value_l\": \"OFFSHORE OPERATIONS\", \"value_r\": \"OFFSHORE OPERATIONS\", \"term_frequency_adjustment\": false, \"bar_sort_order\": 1, \"record_number\": 104}, {\"column_name\": \"Final score\", \"label_for_charts\": \"Final score\", \"sql_condition\": null, \"log2_bayes_factor\": 8.470657554621832, \"bayes_factor\": 354.7496755581337, \"comparison_vector_value\": null, \"m_probability\": null, \"u_probability\": null, \"bayes_factor_description\": null, \"value_l\": \"\", \"value_r\": \"\", \"term_frequency_adjustment\": null, \"bar_sort_order\": 2, \"record_number\": 104}, {\"column_name\": \"Prior\", \"label_for_charts\": \"Starting match weight (prior)\", \"sql_condition\": null, \"log2_bayes_factor\": -13.287568102831404, \"bayes_factor\": 0.00010001000100010001, \"comparison_vector_value\": null, \"m_probability\": null, \"u_probability\": null, \"bayes_factor_description\": null, \"value_l\": \"\", \"value_r\": \"\", \"term_frequency_adjustment\": null, \"bar_sort_order\": 0, \"record_number\": 105}, {\"column_name\": \"CompanyName\", \"label_for_charts\": \"Exact match\", \"sql_condition\": \"\\\"CompanyName_l\\\" = \\\"CompanyName_r\\\"\", \"log2_bayes_factor\": 21.758225657453238, \"bayes_factor\": 3547142.00590578, \"comparison_vector_value\": 3, \"m_probability\": 0.8623865381443143, \"u_probability\": 2.43121514929059e-07, \"bayes_factor_description\": \"If comparison level is `exact match` then comparison is 3,547,142.01 times more likely to be a match\", \"value_l\": \"OGENUS OFFSHORE\", \"value_r\": \"OGENUS OFFSHORE\", \"term_frequency_adjustment\": false, \"bar_sort_order\": 1, \"record_number\": 105}, {\"column_name\": \"Final score\", \"label_for_charts\": \"Final score\", \"sql_condition\": null, \"log2_bayes_factor\": 8.470657554621832, \"bayes_factor\": 354.7496755581337, \"comparison_vector_value\": null, \"m_probability\": null, \"u_probability\": null, \"bayes_factor_description\": null, \"value_l\": \"\", \"value_r\": \"\", \"term_frequency_adjustment\": null, \"bar_sort_order\": 2, \"record_number\": 105}, {\"column_name\": \"Prior\", \"label_for_charts\": \"Starting match weight (prior)\", \"sql_condition\": null, \"log2_bayes_factor\": -13.287568102831404, \"bayes_factor\": 0.00010001000100010001, \"comparison_vector_value\": null, \"m_probability\": null, \"u_probability\": null, \"bayes_factor_description\": null, \"value_l\": \"\", \"value_r\": \"\", \"term_frequency_adjustment\": null, \"bar_sort_order\": 0, \"record_number\": 106}, {\"column_name\": \"CompanyName\", \"label_for_charts\": \"Exact match\", \"sql_condition\": \"\\\"CompanyName_l\\\" = \\\"CompanyName_r\\\"\", \"log2_bayes_factor\": 21.758225657453238, \"bayes_factor\": 3547142.00590578, \"comparison_vector_value\": 3, \"m_probability\": 0.8623865381443143, \"u_probability\": 2.43121514929059e-07, \"bayes_factor_description\": \"If comparison level is `exact match` then comparison is 3,547,142.01 times more likely to be a match\", \"value_l\": \"ONE OCEAN MARINE\", \"value_r\": \"ONE OCEAN MARINE\", \"term_frequency_adjustment\": false, \"bar_sort_order\": 1, \"record_number\": 106}, {\"column_name\": \"Final score\", \"label_for_charts\": \"Final score\", \"sql_condition\": null, \"log2_bayes_factor\": 8.470657554621832, \"bayes_factor\": 354.7496755581337, \"comparison_vector_value\": null, \"m_probability\": null, \"u_probability\": null, \"bayes_factor_description\": null, \"value_l\": \"\", \"value_r\": \"\", \"term_frequency_adjustment\": null, \"bar_sort_order\": 2, \"record_number\": 106}, {\"column_name\": \"Prior\", \"label_for_charts\": \"Starting match weight (prior)\", \"sql_condition\": null, \"log2_bayes_factor\": -13.287568102831404, \"bayes_factor\": 0.00010001000100010001, \"comparison_vector_value\": null, \"m_probability\": null, \"u_probability\": null, \"bayes_factor_description\": null, \"value_l\": \"\", \"value_r\": \"\", \"term_frequency_adjustment\": null, \"bar_sort_order\": 0, \"record_number\": 107}, {\"column_name\": \"CompanyName\", \"label_for_charts\": \"Exact match\", \"sql_condition\": \"\\\"CompanyName_l\\\" = \\\"CompanyName_r\\\"\", \"log2_bayes_factor\": 21.758225657453238, \"bayes_factor\": 3547142.00590578, \"comparison_vector_value\": 3, \"m_probability\": 0.8623865381443143, \"u_probability\": 2.43121514929059e-07, \"bayes_factor_description\": \"If comparison level is `exact match` then comparison is 3,547,142.01 times more likely to be a match\", \"value_l\": \"WEST NAUTICAL\", \"value_r\": \"WEST NAUTICAL\", \"term_frequency_adjustment\": false, \"bar_sort_order\": 1, \"record_number\": 107}, {\"column_name\": \"Final score\", \"label_for_charts\": \"Final score\", \"sql_condition\": null, \"log2_bayes_factor\": 8.470657554621832, \"bayes_factor\": 354.7496755581337, \"comparison_vector_value\": null, \"m_probability\": null, \"u_probability\": null, \"bayes_factor_description\": null, \"value_l\": \"\", \"value_r\": \"\", \"term_frequency_adjustment\": null, \"bar_sort_order\": 2, \"record_number\": 107}, {\"column_name\": \"Prior\", \"label_for_charts\": \"Starting match weight (prior)\", \"sql_condition\": null, \"log2_bayes_factor\": -13.287568102831404, \"bayes_factor\": 0.00010001000100010001, \"comparison_vector_value\": null, \"m_probability\": null, \"u_probability\": null, \"bayes_factor_description\": null, \"value_l\": \"\", \"value_r\": \"\", \"term_frequency_adjustment\": null, \"bar_sort_order\": 0, \"record_number\": 108}, {\"column_name\": \"CompanyName\", \"label_for_charts\": \"Exact match\", \"sql_condition\": \"\\\"CompanyName_l\\\" = \\\"CompanyName_r\\\"\", \"log2_bayes_factor\": 21.758225657453238, \"bayes_factor\": 3547142.00590578, \"comparison_vector_value\": 3, \"m_probability\": 0.8623865381443143, \"u_probability\": 2.43121514929059e-07, \"bayes_factor_description\": \"If comparison level is `exact match` then comparison is 3,547,142.01 times more likely to be a match\", \"value_l\": \"PG GLOBAL\", \"value_r\": \"PG GLOBAL\", \"term_frequency_adjustment\": false, \"bar_sort_order\": 1, \"record_number\": 108}, {\"column_name\": \"Final score\", \"label_for_charts\": \"Final score\", \"sql_condition\": null, \"log2_bayes_factor\": 8.470657554621832, \"bayes_factor\": 354.7496755581337, \"comparison_vector_value\": null, \"m_probability\": null, \"u_probability\": null, \"bayes_factor_description\": null, \"value_l\": \"\", \"value_r\": \"\", \"term_frequency_adjustment\": null, \"bar_sort_order\": 2, \"record_number\": 108}, {\"column_name\": \"Prior\", \"label_for_charts\": \"Starting match weight (prior)\", \"sql_condition\": null, \"log2_bayes_factor\": -13.287568102831404, \"bayes_factor\": 0.00010001000100010001, \"comparison_vector_value\": null, \"m_probability\": null, \"u_probability\": null, \"bayes_factor_description\": null, \"value_l\": \"\", \"value_r\": \"\", \"term_frequency_adjustment\": null, \"bar_sort_order\": 0, \"record_number\": 109}, {\"column_name\": \"CompanyName\", \"label_for_charts\": \"Exact match\", \"sql_condition\": \"\\\"CompanyName_l\\\" = \\\"CompanyName_r\\\"\", \"log2_bayes_factor\": 21.758225657453238, \"bayes_factor\": 3547142.00590578, \"comparison_vector_value\": 3, \"m_probability\": 0.8623865381443143, \"u_probability\": 2.43121514929059e-07, \"bayes_factor_description\": \"If comparison level is `exact match` then comparison is 3,547,142.01 times more likely to be a match\", \"value_l\": \"PG GLOBAL\", \"value_r\": \"PG GLOBAL\", \"term_frequency_adjustment\": false, \"bar_sort_order\": 1, \"record_number\": 109}, {\"column_name\": \"Final score\", \"label_for_charts\": \"Final score\", \"sql_condition\": null, \"log2_bayes_factor\": 8.470657554621832, \"bayes_factor\": 354.7496755581337, \"comparison_vector_value\": null, \"m_probability\": null, \"u_probability\": null, \"bayes_factor_description\": null, \"value_l\": \"\", \"value_r\": \"\", \"term_frequency_adjustment\": null, \"bar_sort_order\": 2, \"record_number\": 109}]}}, {\"mode\": \"vega-lite\"});\n",
       "</script>"
      ],
      "text/plain": [
       "alt.LayerChart(...)"
      ]
     },
     "execution_count": 30,
     "metadata": {},
     "output_type": "execute_result"
    }
   ],
   "source": [
    "linker.waterfall_chart(df_pred.to_dict(orient=\"records\"))"
   ]
  },
  {
   "cell_type": "markdown",
   "id": "9bdccff6",
   "metadata": {},
   "source": [
    "# Step 5 - Resolve New Entities"
   ]
  },
  {
   "cell_type": "code",
   "execution_count": 31,
   "id": "e957c7b1",
   "metadata": {},
   "outputs": [
    {
     "data": {
      "text/html": [
       "<div>\n",
       "<style scoped>\n",
       "    .dataframe tbody tr th:only-of-type {\n",
       "        vertical-align: middle;\n",
       "    }\n",
       "\n",
       "    .dataframe tbody tr th {\n",
       "        vertical-align: top;\n",
       "    }\n",
       "\n",
       "    .dataframe thead th {\n",
       "        text-align: right;\n",
       "    }\n",
       "</style>\n",
       "<table border=\"1\" class=\"dataframe\">\n",
       "  <thead>\n",
       "    <tr style=\"text-align: right;\">\n",
       "      <th></th>\n",
       "      <th>match_weight</th>\n",
       "      <th>match_probability</th>\n",
       "      <th>source_dataset_l</th>\n",
       "      <th>source_dataset_r</th>\n",
       "      <th>unique_id_l</th>\n",
       "      <th>unique_id_r</th>\n",
       "      <th>CompanyName_l</th>\n",
       "      <th>CompanyName_r</th>\n",
       "      <th>gamma_CompanyName</th>\n",
       "      <th>bf_CompanyName</th>\n",
       "      <th>Postcode_l</th>\n",
       "      <th>Postcode_r</th>\n",
       "    </tr>\n",
       "  </thead>\n",
       "  <tbody>\n",
       "    <tr>\n",
       "      <th>0</th>\n",
       "      <td>8.470658</td>\n",
       "      <td>0.997189</td>\n",
       "      <td>_m</td>\n",
       "      <td>new record</td>\n",
       "      <td>93</td>\n",
       "      <td>1</td>\n",
       "      <td>VANTAGE YACHT RECRUITMENT</td>\n",
       "      <td>VANTAGE YACHT RECRUITMENT</td>\n",
       "      <td>3</td>\n",
       "      <td>3.547142e+06</td>\n",
       "      <td>BH15 4QE</td>\n",
       "      <td>BH15 4QE</td>\n",
       "    </tr>\n",
       "    <tr>\n",
       "      <th>1</th>\n",
       "      <td>0.523024</td>\n",
       "      <td>0.589653</td>\n",
       "      <td>_c</td>\n",
       "      <td>new record</td>\n",
       "      <td>5052254</td>\n",
       "      <td>1</td>\n",
       "      <td>VANTAGE AUTO RECRUITMENT</td>\n",
       "      <td>VANTAGE YACHT RECRUITMENT</td>\n",
       "      <td>2</td>\n",
       "      <td>1.436821e+04</td>\n",
       "      <td>DA1 1RZ</td>\n",
       "      <td>BH15 4QE</td>\n",
       "    </tr>\n",
       "    <tr>\n",
       "      <th>2</th>\n",
       "      <td>0.523024</td>\n",
       "      <td>0.589653</td>\n",
       "      <td>_c</td>\n",
       "      <td>new record</td>\n",
       "      <td>5052401</td>\n",
       "      <td>1</td>\n",
       "      <td>VANTAGE HEALTHCARE RECRUITMENT</td>\n",
       "      <td>VANTAGE YACHT RECRUITMENT</td>\n",
       "      <td>2</td>\n",
       "      <td>1.436821e+04</td>\n",
       "      <td>MK14 6GD</td>\n",
       "      <td>BH15 4QE</td>\n",
       "    </tr>\n",
       "    <tr>\n",
       "      <th>3</th>\n",
       "      <td>0.523024</td>\n",
       "      <td>0.589653</td>\n",
       "      <td>_c</td>\n",
       "      <td>new record</td>\n",
       "      <td>5052715</td>\n",
       "      <td>1</td>\n",
       "      <td>VANTAGE YACHTING</td>\n",
       "      <td>VANTAGE YACHT RECRUITMENT</td>\n",
       "      <td>2</td>\n",
       "      <td>1.436821e+04</td>\n",
       "      <td>BH19 2PQ</td>\n",
       "      <td>BH15 4QE</td>\n",
       "    </tr>\n",
       "  </tbody>\n",
       "</table>\n",
       "</div>"
      ],
      "text/plain": [
       "   match_weight  match_probability source_dataset_l source_dataset_r  \\\n",
       "0      8.470658           0.997189               _m       new record   \n",
       "1      0.523024           0.589653               _c       new record   \n",
       "2      0.523024           0.589653               _c       new record   \n",
       "3      0.523024           0.589653               _c       new record   \n",
       "\n",
       "   unique_id_l  unique_id_r                   CompanyName_l  \\\n",
       "0           93            1       VANTAGE YACHT RECRUITMENT   \n",
       "1      5052254            1        VANTAGE AUTO RECRUITMENT   \n",
       "2      5052401            1  VANTAGE HEALTHCARE RECRUITMENT   \n",
       "3      5052715            1                VANTAGE YACHTING   \n",
       "\n",
       "               CompanyName_r  gamma_CompanyName  bf_CompanyName Postcode_l  \\\n",
       "0  VANTAGE YACHT RECRUITMENT                  3    3.547142e+06   BH15 4QE   \n",
       "1  VANTAGE YACHT RECRUITMENT                  2    1.436821e+04    DA1 1RZ   \n",
       "2  VANTAGE YACHT RECRUITMENT                  2    1.436821e+04   MK14 6GD   \n",
       "3  VANTAGE YACHT RECRUITMENT                  2    1.436821e+04   BH19 2PQ   \n",
       "\n",
       "  Postcode_r  \n",
       "0   BH15 4QE  \n",
       "1   BH15 4QE  \n",
       "2   BH15 4QE  \n",
       "3   BH15 4QE  "
      ]
     },
     "execution_count": 31,
     "metadata": {},
     "output_type": "execute_result"
    }
   ],
   "source": [
    "record = {\n",
    " 'source_dataset': \"new record\",       \n",
    " 'unique_id': 1,\n",
    " 'Postcode': \"BH15 4QE\",\n",
    " 'CompanyName': \"VANTAGE YACHT RECRUITMENT\",\n",
    "}\n",
    "\n",
    "df_new = linker.find_matches_to_new_records([record]).as_pandas_dataframe()\n",
    "df_new.sort_values(\"match_weight\", ascending=False)"
   ]
  },
  {
   "cell_type": "code",
   "execution_count": null,
   "id": "d7fd0123",
   "metadata": {},
   "outputs": [],
   "source": []
  }
 ],
 "metadata": {
  "kernelspec": {
   "display_name": "handsonentityresolution",
   "language": "python",
   "name": "handsonentityresolution"
  },
  "language_info": {
   "codemirror_mode": {
    "name": "ipython",
    "version": 3
   },
   "file_extension": ".py",
   "mimetype": "text/x-python",
   "name": "python",
   "nbconvert_exporter": "python",
   "pygments_lexer": "ipython3",
   "version": "3.11.2"
  }
 },
 "nbformat": 4,
 "nbformat_minor": 5
}
